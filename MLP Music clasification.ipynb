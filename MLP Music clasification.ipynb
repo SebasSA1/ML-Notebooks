{
  "nbformat": 4,
  "nbformat_minor": 0,
  "metadata": {
    "colab": {
      "name": "Reto 3 Machine Learning.ipynb",
      "provenance": [],
      "collapsed_sections": [
        "VpxSsLgCXGa7",
        "SmnFPQyEXOvm",
        "9U7bLO2JXV-y"
      ]
    },
    "kernelspec": {
      "display_name": "Python 3",
      "name": "python3"
    },
    "widgets": {
      "application/vnd.jupyter.widget-state+json": {
        "7929b3cd68b248c59924537ca610625a": {
          "model_module": "@jupyter-widgets/controls",
          "model_name": "HBoxModel",
          "model_module_version": "1.5.0",
          "state": {
            "_dom_classes": [],
            "_model_module": "@jupyter-widgets/controls",
            "_model_module_version": "1.5.0",
            "_model_name": "HBoxModel",
            "_view_count": null,
            "_view_module": "@jupyter-widgets/controls",
            "_view_module_version": "1.5.0",
            "_view_name": "HBoxView",
            "box_style": "",
            "children": [
              "IPY_MODEL_396ef0f3fb1646ed917c74d0afd7f8c8",
              "IPY_MODEL_077e10553ea6487581121652a166d218"
            ],
            "layout": "IPY_MODEL_25766260db82490ab9ab2a396c3885d6"
          }
        },
        "396ef0f3fb1646ed917c74d0afd7f8c8": {
          "model_module": "@jupyter-widgets/controls",
          "model_name": "FloatProgressModel",
          "model_module_version": "1.5.0",
          "state": {
            "_dom_classes": [],
            "_model_module": "@jupyter-widgets/controls",
            "_model_module_version": "1.5.0",
            "_model_name": "FloatProgressModel",
            "_view_count": null,
            "_view_module": "@jupyter-widgets/controls",
            "_view_module_version": "1.5.0",
            "_view_name": "ProgressView",
            "bar_style": "success",
            "description": "100%",
            "description_tooltip": null,
            "layout": "IPY_MODEL_4befac49d6db4916944a21643bc40837",
            "max": 6,
            "min": 0,
            "orientation": "horizontal",
            "style": "IPY_MODEL_fc6ffb0f1c924ef4be5b15b2043188d2",
            "value": 6
          }
        },
        "077e10553ea6487581121652a166d218": {
          "model_module": "@jupyter-widgets/controls",
          "model_name": "HTMLModel",
          "model_module_version": "1.5.0",
          "state": {
            "_dom_classes": [],
            "_model_module": "@jupyter-widgets/controls",
            "_model_module_version": "1.5.0",
            "_model_name": "HTMLModel",
            "_view_count": null,
            "_view_module": "@jupyter-widgets/controls",
            "_view_module_version": "1.5.0",
            "_view_name": "HTMLView",
            "description": "",
            "description_tooltip": null,
            "layout": "IPY_MODEL_577c3c542242456aa627e5264124b437",
            "placeholder": "​",
            "style": "IPY_MODEL_9f72885d1a2645cc846a11346f868c3f",
            "value": " 6/6 [00:43&lt;00:00,  7.20s/it]"
          }
        },
        "25766260db82490ab9ab2a396c3885d6": {
          "model_module": "@jupyter-widgets/base",
          "model_name": "LayoutModel",
          "model_module_version": "1.2.0",
          "state": {
            "_model_module": "@jupyter-widgets/base",
            "_model_module_version": "1.2.0",
            "_model_name": "LayoutModel",
            "_view_count": null,
            "_view_module": "@jupyter-widgets/base",
            "_view_module_version": "1.2.0",
            "_view_name": "LayoutView",
            "align_content": null,
            "align_items": null,
            "align_self": null,
            "border": null,
            "bottom": null,
            "display": null,
            "flex": null,
            "flex_flow": null,
            "grid_area": null,
            "grid_auto_columns": null,
            "grid_auto_flow": null,
            "grid_auto_rows": null,
            "grid_column": null,
            "grid_gap": null,
            "grid_row": null,
            "grid_template_areas": null,
            "grid_template_columns": null,
            "grid_template_rows": null,
            "height": null,
            "justify_content": null,
            "justify_items": null,
            "left": null,
            "margin": null,
            "max_height": null,
            "max_width": null,
            "min_height": null,
            "min_width": null,
            "object_fit": null,
            "object_position": null,
            "order": null,
            "overflow": null,
            "overflow_x": null,
            "overflow_y": null,
            "padding": null,
            "right": null,
            "top": null,
            "visibility": null,
            "width": null
          }
        },
        "4befac49d6db4916944a21643bc40837": {
          "model_module": "@jupyter-widgets/base",
          "model_name": "LayoutModel",
          "model_module_version": "1.2.0",
          "state": {
            "_model_module": "@jupyter-widgets/base",
            "_model_module_version": "1.2.0",
            "_model_name": "LayoutModel",
            "_view_count": null,
            "_view_module": "@jupyter-widgets/base",
            "_view_module_version": "1.2.0",
            "_view_name": "LayoutView",
            "align_content": null,
            "align_items": null,
            "align_self": null,
            "border": null,
            "bottom": null,
            "display": null,
            "flex": null,
            "flex_flow": null,
            "grid_area": null,
            "grid_auto_columns": null,
            "grid_auto_flow": null,
            "grid_auto_rows": null,
            "grid_column": null,
            "grid_gap": null,
            "grid_row": null,
            "grid_template_areas": null,
            "grid_template_columns": null,
            "grid_template_rows": null,
            "height": null,
            "justify_content": null,
            "justify_items": null,
            "left": null,
            "margin": null,
            "max_height": null,
            "max_width": null,
            "min_height": null,
            "min_width": null,
            "object_fit": null,
            "object_position": null,
            "order": null,
            "overflow": null,
            "overflow_x": null,
            "overflow_y": null,
            "padding": null,
            "right": null,
            "top": null,
            "visibility": null,
            "width": null
          }
        },
        "fc6ffb0f1c924ef4be5b15b2043188d2": {
          "model_module": "@jupyter-widgets/controls",
          "model_name": "ProgressStyleModel",
          "model_module_version": "1.5.0",
          "state": {
            "_model_module": "@jupyter-widgets/controls",
            "_model_module_version": "1.5.0",
            "_model_name": "ProgressStyleModel",
            "_view_count": null,
            "_view_module": "@jupyter-widgets/base",
            "_view_module_version": "1.2.0",
            "_view_name": "StyleView",
            "bar_color": null,
            "description_width": "initial"
          }
        },
        "577c3c542242456aa627e5264124b437": {
          "model_module": "@jupyter-widgets/base",
          "model_name": "LayoutModel",
          "model_module_version": "1.2.0",
          "state": {
            "_model_module": "@jupyter-widgets/base",
            "_model_module_version": "1.2.0",
            "_model_name": "LayoutModel",
            "_view_count": null,
            "_view_module": "@jupyter-widgets/base",
            "_view_module_version": "1.2.0",
            "_view_name": "LayoutView",
            "align_content": null,
            "align_items": null,
            "align_self": null,
            "border": null,
            "bottom": null,
            "display": null,
            "flex": null,
            "flex_flow": null,
            "grid_area": null,
            "grid_auto_columns": null,
            "grid_auto_flow": null,
            "grid_auto_rows": null,
            "grid_column": null,
            "grid_gap": null,
            "grid_row": null,
            "grid_template_areas": null,
            "grid_template_columns": null,
            "grid_template_rows": null,
            "height": null,
            "justify_content": null,
            "justify_items": null,
            "left": null,
            "margin": null,
            "max_height": null,
            "max_width": null,
            "min_height": null,
            "min_width": null,
            "object_fit": null,
            "object_position": null,
            "order": null,
            "overflow": null,
            "overflow_x": null,
            "overflow_y": null,
            "padding": null,
            "right": null,
            "top": null,
            "visibility": null,
            "width": null
          }
        },
        "9f72885d1a2645cc846a11346f868c3f": {
          "model_module": "@jupyter-widgets/controls",
          "model_name": "DescriptionStyleModel",
          "model_module_version": "1.5.0",
          "state": {
            "_model_module": "@jupyter-widgets/controls",
            "_model_module_version": "1.5.0",
            "_model_name": "DescriptionStyleModel",
            "_view_count": null,
            "_view_module": "@jupyter-widgets/base",
            "_view_module_version": "1.2.0",
            "_view_name": "StyleView",
            "description_width": ""
          }
        },
        "aebc339daa314c4380e0673e6fe315a7": {
          "model_module": "@jupyter-widgets/controls",
          "model_name": "HBoxModel",
          "model_module_version": "1.5.0",
          "state": {
            "_dom_classes": [],
            "_model_module": "@jupyter-widgets/controls",
            "_model_module_version": "1.5.0",
            "_model_name": "HBoxModel",
            "_view_count": null,
            "_view_module": "@jupyter-widgets/controls",
            "_view_module_version": "1.5.0",
            "_view_name": "HBoxView",
            "box_style": "",
            "children": [
              "IPY_MODEL_afeea44958de4a1c828cb7c4a4109621",
              "IPY_MODEL_334b1d65cbad4bec86f1083daf210800"
            ],
            "layout": "IPY_MODEL_1dc07254b86b4217bca180b74289db92"
          }
        },
        "afeea44958de4a1c828cb7c4a4109621": {
          "model_module": "@jupyter-widgets/controls",
          "model_name": "FloatProgressModel",
          "model_module_version": "1.5.0",
          "state": {
            "_dom_classes": [],
            "_model_module": "@jupyter-widgets/controls",
            "_model_module_version": "1.5.0",
            "_model_name": "FloatProgressModel",
            "_view_count": null,
            "_view_module": "@jupyter-widgets/controls",
            "_view_module_version": "1.5.0",
            "_view_name": "ProgressView",
            "bar_style": "success",
            "description": "100%",
            "description_tooltip": null,
            "layout": "IPY_MODEL_aa25368ab22742c599bc4f204f87da67",
            "max": 6,
            "min": 0,
            "orientation": "horizontal",
            "style": "IPY_MODEL_23632269c48d4d21b67dfb56ff7d8eb6",
            "value": 6
          }
        },
        "334b1d65cbad4bec86f1083daf210800": {
          "model_module": "@jupyter-widgets/controls",
          "model_name": "HTMLModel",
          "model_module_version": "1.5.0",
          "state": {
            "_dom_classes": [],
            "_model_module": "@jupyter-widgets/controls",
            "_model_module_version": "1.5.0",
            "_model_name": "HTMLModel",
            "_view_count": null,
            "_view_module": "@jupyter-widgets/controls",
            "_view_module_version": "1.5.0",
            "_view_name": "HTMLView",
            "description": "",
            "description_tooltip": null,
            "layout": "IPY_MODEL_39ccd1ce0b9e4a139117661f83a4c296",
            "placeholder": "​",
            "style": "IPY_MODEL_0e0305da0cd04d80845ea0b575ff36cc",
            "value": " 6/6 [00:58&lt;00:00,  9.69s/it]"
          }
        },
        "1dc07254b86b4217bca180b74289db92": {
          "model_module": "@jupyter-widgets/base",
          "model_name": "LayoutModel",
          "model_module_version": "1.2.0",
          "state": {
            "_model_module": "@jupyter-widgets/base",
            "_model_module_version": "1.2.0",
            "_model_name": "LayoutModel",
            "_view_count": null,
            "_view_module": "@jupyter-widgets/base",
            "_view_module_version": "1.2.0",
            "_view_name": "LayoutView",
            "align_content": null,
            "align_items": null,
            "align_self": null,
            "border": null,
            "bottom": null,
            "display": null,
            "flex": null,
            "flex_flow": null,
            "grid_area": null,
            "grid_auto_columns": null,
            "grid_auto_flow": null,
            "grid_auto_rows": null,
            "grid_column": null,
            "grid_gap": null,
            "grid_row": null,
            "grid_template_areas": null,
            "grid_template_columns": null,
            "grid_template_rows": null,
            "height": null,
            "justify_content": null,
            "justify_items": null,
            "left": null,
            "margin": null,
            "max_height": null,
            "max_width": null,
            "min_height": null,
            "min_width": null,
            "object_fit": null,
            "object_position": null,
            "order": null,
            "overflow": null,
            "overflow_x": null,
            "overflow_y": null,
            "padding": null,
            "right": null,
            "top": null,
            "visibility": null,
            "width": null
          }
        },
        "aa25368ab22742c599bc4f204f87da67": {
          "model_module": "@jupyter-widgets/base",
          "model_name": "LayoutModel",
          "model_module_version": "1.2.0",
          "state": {
            "_model_module": "@jupyter-widgets/base",
            "_model_module_version": "1.2.0",
            "_model_name": "LayoutModel",
            "_view_count": null,
            "_view_module": "@jupyter-widgets/base",
            "_view_module_version": "1.2.0",
            "_view_name": "LayoutView",
            "align_content": null,
            "align_items": null,
            "align_self": null,
            "border": null,
            "bottom": null,
            "display": null,
            "flex": null,
            "flex_flow": null,
            "grid_area": null,
            "grid_auto_columns": null,
            "grid_auto_flow": null,
            "grid_auto_rows": null,
            "grid_column": null,
            "grid_gap": null,
            "grid_row": null,
            "grid_template_areas": null,
            "grid_template_columns": null,
            "grid_template_rows": null,
            "height": null,
            "justify_content": null,
            "justify_items": null,
            "left": null,
            "margin": null,
            "max_height": null,
            "max_width": null,
            "min_height": null,
            "min_width": null,
            "object_fit": null,
            "object_position": null,
            "order": null,
            "overflow": null,
            "overflow_x": null,
            "overflow_y": null,
            "padding": null,
            "right": null,
            "top": null,
            "visibility": null,
            "width": null
          }
        },
        "23632269c48d4d21b67dfb56ff7d8eb6": {
          "model_module": "@jupyter-widgets/controls",
          "model_name": "ProgressStyleModel",
          "model_module_version": "1.5.0",
          "state": {
            "_model_module": "@jupyter-widgets/controls",
            "_model_module_version": "1.5.0",
            "_model_name": "ProgressStyleModel",
            "_view_count": null,
            "_view_module": "@jupyter-widgets/base",
            "_view_module_version": "1.2.0",
            "_view_name": "StyleView",
            "bar_color": null,
            "description_width": "initial"
          }
        },
        "39ccd1ce0b9e4a139117661f83a4c296": {
          "model_module": "@jupyter-widgets/base",
          "model_name": "LayoutModel",
          "model_module_version": "1.2.0",
          "state": {
            "_model_module": "@jupyter-widgets/base",
            "_model_module_version": "1.2.0",
            "_model_name": "LayoutModel",
            "_view_count": null,
            "_view_module": "@jupyter-widgets/base",
            "_view_module_version": "1.2.0",
            "_view_name": "LayoutView",
            "align_content": null,
            "align_items": null,
            "align_self": null,
            "border": null,
            "bottom": null,
            "display": null,
            "flex": null,
            "flex_flow": null,
            "grid_area": null,
            "grid_auto_columns": null,
            "grid_auto_flow": null,
            "grid_auto_rows": null,
            "grid_column": null,
            "grid_gap": null,
            "grid_row": null,
            "grid_template_areas": null,
            "grid_template_columns": null,
            "grid_template_rows": null,
            "height": null,
            "justify_content": null,
            "justify_items": null,
            "left": null,
            "margin": null,
            "max_height": null,
            "max_width": null,
            "min_height": null,
            "min_width": null,
            "object_fit": null,
            "object_position": null,
            "order": null,
            "overflow": null,
            "overflow_x": null,
            "overflow_y": null,
            "padding": null,
            "right": null,
            "top": null,
            "visibility": null,
            "width": null
          }
        },
        "0e0305da0cd04d80845ea0b575ff36cc": {
          "model_module": "@jupyter-widgets/controls",
          "model_name": "DescriptionStyleModel",
          "model_module_version": "1.5.0",
          "state": {
            "_model_module": "@jupyter-widgets/controls",
            "_model_module_version": "1.5.0",
            "_model_name": "DescriptionStyleModel",
            "_view_count": null,
            "_view_module": "@jupyter-widgets/base",
            "_view_module_version": "1.2.0",
            "_view_name": "StyleView",
            "description_width": ""
          }
        },
        "4fa994a95fdf4f02ac33061bffe20af1": {
          "model_module": "@jupyter-widgets/controls",
          "model_name": "HBoxModel",
          "model_module_version": "1.5.0",
          "state": {
            "_dom_classes": [],
            "_model_module": "@jupyter-widgets/controls",
            "_model_module_version": "1.5.0",
            "_model_name": "HBoxModel",
            "_view_count": null,
            "_view_module": "@jupyter-widgets/controls",
            "_view_module_version": "1.5.0",
            "_view_name": "HBoxView",
            "box_style": "",
            "children": [
              "IPY_MODEL_65ce59caecaf4404bc5d706a7f29525b",
              "IPY_MODEL_9a8ff115a0f749a1a2c851826ffb5141"
            ],
            "layout": "IPY_MODEL_ae5b37d8636247f89b88ee3462ca4d02"
          }
        },
        "65ce59caecaf4404bc5d706a7f29525b": {
          "model_module": "@jupyter-widgets/controls",
          "model_name": "FloatProgressModel",
          "model_module_version": "1.5.0",
          "state": {
            "_dom_classes": [],
            "_model_module": "@jupyter-widgets/controls",
            "_model_module_version": "1.5.0",
            "_model_name": "FloatProgressModel",
            "_view_count": null,
            "_view_module": "@jupyter-widgets/controls",
            "_view_module_version": "1.5.0",
            "_view_name": "ProgressView",
            "bar_style": "success",
            "description": "100%",
            "description_tooltip": null,
            "layout": "IPY_MODEL_bd05614e8bc846aa96f6bd4dc533bc14",
            "max": 6,
            "min": 0,
            "orientation": "horizontal",
            "style": "IPY_MODEL_f9e538c7af6d4bb89783c329fe35a2b0",
            "value": 6
          }
        },
        "9a8ff115a0f749a1a2c851826ffb5141": {
          "model_module": "@jupyter-widgets/controls",
          "model_name": "HTMLModel",
          "model_module_version": "1.5.0",
          "state": {
            "_dom_classes": [],
            "_model_module": "@jupyter-widgets/controls",
            "_model_module_version": "1.5.0",
            "_model_name": "HTMLModel",
            "_view_count": null,
            "_view_module": "@jupyter-widgets/controls",
            "_view_module_version": "1.5.0",
            "_view_name": "HTMLView",
            "description": "",
            "description_tooltip": null,
            "layout": "IPY_MODEL_eca3d9c71f6a42679e6ee618389a0b21",
            "placeholder": "​",
            "style": "IPY_MODEL_6166659bcb894757bbb7a5fbd822a2b2",
            "value": " 6/6 [00:39&lt;00:00,  6.62s/it]"
          }
        },
        "ae5b37d8636247f89b88ee3462ca4d02": {
          "model_module": "@jupyter-widgets/base",
          "model_name": "LayoutModel",
          "model_module_version": "1.2.0",
          "state": {
            "_model_module": "@jupyter-widgets/base",
            "_model_module_version": "1.2.0",
            "_model_name": "LayoutModel",
            "_view_count": null,
            "_view_module": "@jupyter-widgets/base",
            "_view_module_version": "1.2.0",
            "_view_name": "LayoutView",
            "align_content": null,
            "align_items": null,
            "align_self": null,
            "border": null,
            "bottom": null,
            "display": null,
            "flex": null,
            "flex_flow": null,
            "grid_area": null,
            "grid_auto_columns": null,
            "grid_auto_flow": null,
            "grid_auto_rows": null,
            "grid_column": null,
            "grid_gap": null,
            "grid_row": null,
            "grid_template_areas": null,
            "grid_template_columns": null,
            "grid_template_rows": null,
            "height": null,
            "justify_content": null,
            "justify_items": null,
            "left": null,
            "margin": null,
            "max_height": null,
            "max_width": null,
            "min_height": null,
            "min_width": null,
            "object_fit": null,
            "object_position": null,
            "order": null,
            "overflow": null,
            "overflow_x": null,
            "overflow_y": null,
            "padding": null,
            "right": null,
            "top": null,
            "visibility": null,
            "width": null
          }
        },
        "bd05614e8bc846aa96f6bd4dc533bc14": {
          "model_module": "@jupyter-widgets/base",
          "model_name": "LayoutModel",
          "model_module_version": "1.2.0",
          "state": {
            "_model_module": "@jupyter-widgets/base",
            "_model_module_version": "1.2.0",
            "_model_name": "LayoutModel",
            "_view_count": null,
            "_view_module": "@jupyter-widgets/base",
            "_view_module_version": "1.2.0",
            "_view_name": "LayoutView",
            "align_content": null,
            "align_items": null,
            "align_self": null,
            "border": null,
            "bottom": null,
            "display": null,
            "flex": null,
            "flex_flow": null,
            "grid_area": null,
            "grid_auto_columns": null,
            "grid_auto_flow": null,
            "grid_auto_rows": null,
            "grid_column": null,
            "grid_gap": null,
            "grid_row": null,
            "grid_template_areas": null,
            "grid_template_columns": null,
            "grid_template_rows": null,
            "height": null,
            "justify_content": null,
            "justify_items": null,
            "left": null,
            "margin": null,
            "max_height": null,
            "max_width": null,
            "min_height": null,
            "min_width": null,
            "object_fit": null,
            "object_position": null,
            "order": null,
            "overflow": null,
            "overflow_x": null,
            "overflow_y": null,
            "padding": null,
            "right": null,
            "top": null,
            "visibility": null,
            "width": null
          }
        },
        "f9e538c7af6d4bb89783c329fe35a2b0": {
          "model_module": "@jupyter-widgets/controls",
          "model_name": "ProgressStyleModel",
          "model_module_version": "1.5.0",
          "state": {
            "_model_module": "@jupyter-widgets/controls",
            "_model_module_version": "1.5.0",
            "_model_name": "ProgressStyleModel",
            "_view_count": null,
            "_view_module": "@jupyter-widgets/base",
            "_view_module_version": "1.2.0",
            "_view_name": "StyleView",
            "bar_color": null,
            "description_width": "initial"
          }
        },
        "eca3d9c71f6a42679e6ee618389a0b21": {
          "model_module": "@jupyter-widgets/base",
          "model_name": "LayoutModel",
          "model_module_version": "1.2.0",
          "state": {
            "_model_module": "@jupyter-widgets/base",
            "_model_module_version": "1.2.0",
            "_model_name": "LayoutModel",
            "_view_count": null,
            "_view_module": "@jupyter-widgets/base",
            "_view_module_version": "1.2.0",
            "_view_name": "LayoutView",
            "align_content": null,
            "align_items": null,
            "align_self": null,
            "border": null,
            "bottom": null,
            "display": null,
            "flex": null,
            "flex_flow": null,
            "grid_area": null,
            "grid_auto_columns": null,
            "grid_auto_flow": null,
            "grid_auto_rows": null,
            "grid_column": null,
            "grid_gap": null,
            "grid_row": null,
            "grid_template_areas": null,
            "grid_template_columns": null,
            "grid_template_rows": null,
            "height": null,
            "justify_content": null,
            "justify_items": null,
            "left": null,
            "margin": null,
            "max_height": null,
            "max_width": null,
            "min_height": null,
            "min_width": null,
            "object_fit": null,
            "object_position": null,
            "order": null,
            "overflow": null,
            "overflow_x": null,
            "overflow_y": null,
            "padding": null,
            "right": null,
            "top": null,
            "visibility": null,
            "width": null
          }
        },
        "6166659bcb894757bbb7a5fbd822a2b2": {
          "model_module": "@jupyter-widgets/controls",
          "model_name": "DescriptionStyleModel",
          "model_module_version": "1.5.0",
          "state": {
            "_model_module": "@jupyter-widgets/controls",
            "_model_module_version": "1.5.0",
            "_model_name": "DescriptionStyleModel",
            "_view_count": null,
            "_view_module": "@jupyter-widgets/base",
            "_view_module_version": "1.2.0",
            "_view_name": "StyleView",
            "description_width": ""
          }
        },
        "0f322e9f2d6b45eb951c8a4c110de401": {
          "model_module": "@jupyter-widgets/controls",
          "model_name": "HBoxModel",
          "model_module_version": "1.5.0",
          "state": {
            "_dom_classes": [],
            "_model_module": "@jupyter-widgets/controls",
            "_model_module_version": "1.5.0",
            "_model_name": "HBoxModel",
            "_view_count": null,
            "_view_module": "@jupyter-widgets/controls",
            "_view_module_version": "1.5.0",
            "_view_name": "HBoxView",
            "box_style": "",
            "children": [
              "IPY_MODEL_fbdf452c43a54f249a9ac5d931edd4e4",
              "IPY_MODEL_1126bec0fd4a4b8d8632fb7465192847"
            ],
            "layout": "IPY_MODEL_4329c1c1167f42aaaf051bd2c59ad160"
          }
        },
        "fbdf452c43a54f249a9ac5d931edd4e4": {
          "model_module": "@jupyter-widgets/controls",
          "model_name": "FloatProgressModel",
          "model_module_version": "1.5.0",
          "state": {
            "_dom_classes": [],
            "_model_module": "@jupyter-widgets/controls",
            "_model_module_version": "1.5.0",
            "_model_name": "FloatProgressModel",
            "_view_count": null,
            "_view_module": "@jupyter-widgets/controls",
            "_view_module_version": "1.5.0",
            "_view_name": "ProgressView",
            "bar_style": "success",
            "description": "100%",
            "description_tooltip": null,
            "layout": "IPY_MODEL_0978a61542004df59faf20c8297bdf9a",
            "max": 6,
            "min": 0,
            "orientation": "horizontal",
            "style": "IPY_MODEL_656eab0731ba4eb4a940971d28510918",
            "value": 6
          }
        },
        "1126bec0fd4a4b8d8632fb7465192847": {
          "model_module": "@jupyter-widgets/controls",
          "model_name": "HTMLModel",
          "model_module_version": "1.5.0",
          "state": {
            "_dom_classes": [],
            "_model_module": "@jupyter-widgets/controls",
            "_model_module_version": "1.5.0",
            "_model_name": "HTMLModel",
            "_view_count": null,
            "_view_module": "@jupyter-widgets/controls",
            "_view_module_version": "1.5.0",
            "_view_name": "HTMLView",
            "description": "",
            "description_tooltip": null,
            "layout": "IPY_MODEL_07b44b62359e47589fe512f1e12e2647",
            "placeholder": "​",
            "style": "IPY_MODEL_5b734047164a4abcb876b3656fa90d3c",
            "value": " 6/6 [36:41&lt;00:00, 366.85s/it]"
          }
        },
        "4329c1c1167f42aaaf051bd2c59ad160": {
          "model_module": "@jupyter-widgets/base",
          "model_name": "LayoutModel",
          "model_module_version": "1.2.0",
          "state": {
            "_model_module": "@jupyter-widgets/base",
            "_model_module_version": "1.2.0",
            "_model_name": "LayoutModel",
            "_view_count": null,
            "_view_module": "@jupyter-widgets/base",
            "_view_module_version": "1.2.0",
            "_view_name": "LayoutView",
            "align_content": null,
            "align_items": null,
            "align_self": null,
            "border": null,
            "bottom": null,
            "display": null,
            "flex": null,
            "flex_flow": null,
            "grid_area": null,
            "grid_auto_columns": null,
            "grid_auto_flow": null,
            "grid_auto_rows": null,
            "grid_column": null,
            "grid_gap": null,
            "grid_row": null,
            "grid_template_areas": null,
            "grid_template_columns": null,
            "grid_template_rows": null,
            "height": null,
            "justify_content": null,
            "justify_items": null,
            "left": null,
            "margin": null,
            "max_height": null,
            "max_width": null,
            "min_height": null,
            "min_width": null,
            "object_fit": null,
            "object_position": null,
            "order": null,
            "overflow": null,
            "overflow_x": null,
            "overflow_y": null,
            "padding": null,
            "right": null,
            "top": null,
            "visibility": null,
            "width": null
          }
        },
        "0978a61542004df59faf20c8297bdf9a": {
          "model_module": "@jupyter-widgets/base",
          "model_name": "LayoutModel",
          "model_module_version": "1.2.0",
          "state": {
            "_model_module": "@jupyter-widgets/base",
            "_model_module_version": "1.2.0",
            "_model_name": "LayoutModel",
            "_view_count": null,
            "_view_module": "@jupyter-widgets/base",
            "_view_module_version": "1.2.0",
            "_view_name": "LayoutView",
            "align_content": null,
            "align_items": null,
            "align_self": null,
            "border": null,
            "bottom": null,
            "display": null,
            "flex": null,
            "flex_flow": null,
            "grid_area": null,
            "grid_auto_columns": null,
            "grid_auto_flow": null,
            "grid_auto_rows": null,
            "grid_column": null,
            "grid_gap": null,
            "grid_row": null,
            "grid_template_areas": null,
            "grid_template_columns": null,
            "grid_template_rows": null,
            "height": null,
            "justify_content": null,
            "justify_items": null,
            "left": null,
            "margin": null,
            "max_height": null,
            "max_width": null,
            "min_height": null,
            "min_width": null,
            "object_fit": null,
            "object_position": null,
            "order": null,
            "overflow": null,
            "overflow_x": null,
            "overflow_y": null,
            "padding": null,
            "right": null,
            "top": null,
            "visibility": null,
            "width": null
          }
        },
        "656eab0731ba4eb4a940971d28510918": {
          "model_module": "@jupyter-widgets/controls",
          "model_name": "ProgressStyleModel",
          "model_module_version": "1.5.0",
          "state": {
            "_model_module": "@jupyter-widgets/controls",
            "_model_module_version": "1.5.0",
            "_model_name": "ProgressStyleModel",
            "_view_count": null,
            "_view_module": "@jupyter-widgets/base",
            "_view_module_version": "1.2.0",
            "_view_name": "StyleView",
            "bar_color": null,
            "description_width": "initial"
          }
        },
        "07b44b62359e47589fe512f1e12e2647": {
          "model_module": "@jupyter-widgets/base",
          "model_name": "LayoutModel",
          "model_module_version": "1.2.0",
          "state": {
            "_model_module": "@jupyter-widgets/base",
            "_model_module_version": "1.2.0",
            "_model_name": "LayoutModel",
            "_view_count": null,
            "_view_module": "@jupyter-widgets/base",
            "_view_module_version": "1.2.0",
            "_view_name": "LayoutView",
            "align_content": null,
            "align_items": null,
            "align_self": null,
            "border": null,
            "bottom": null,
            "display": null,
            "flex": null,
            "flex_flow": null,
            "grid_area": null,
            "grid_auto_columns": null,
            "grid_auto_flow": null,
            "grid_auto_rows": null,
            "grid_column": null,
            "grid_gap": null,
            "grid_row": null,
            "grid_template_areas": null,
            "grid_template_columns": null,
            "grid_template_rows": null,
            "height": null,
            "justify_content": null,
            "justify_items": null,
            "left": null,
            "margin": null,
            "max_height": null,
            "max_width": null,
            "min_height": null,
            "min_width": null,
            "object_fit": null,
            "object_position": null,
            "order": null,
            "overflow": null,
            "overflow_x": null,
            "overflow_y": null,
            "padding": null,
            "right": null,
            "top": null,
            "visibility": null,
            "width": null
          }
        },
        "5b734047164a4abcb876b3656fa90d3c": {
          "model_module": "@jupyter-widgets/controls",
          "model_name": "DescriptionStyleModel",
          "model_module_version": "1.5.0",
          "state": {
            "_model_module": "@jupyter-widgets/controls",
            "_model_module_version": "1.5.0",
            "_model_name": "DescriptionStyleModel",
            "_view_count": null,
            "_view_module": "@jupyter-widgets/base",
            "_view_module_version": "1.2.0",
            "_view_name": "StyleView",
            "description_width": ""
          }
        },
        "c1eff55667e3446db86e8177ef38a91e": {
          "model_module": "@jupyter-widgets/controls",
          "model_name": "HBoxModel",
          "model_module_version": "1.5.0",
          "state": {
            "_dom_classes": [],
            "_model_module": "@jupyter-widgets/controls",
            "_model_module_version": "1.5.0",
            "_model_name": "HBoxModel",
            "_view_count": null,
            "_view_module": "@jupyter-widgets/controls",
            "_view_module_version": "1.5.0",
            "_view_name": "HBoxView",
            "box_style": "",
            "children": [
              "IPY_MODEL_d0eba400ca5d441381db208f83aff924",
              "IPY_MODEL_b308dead355748ba88b16388eced72f4"
            ],
            "layout": "IPY_MODEL_9936a765605a4ec98b3ba6e2245b9cc7"
          }
        },
        "d0eba400ca5d441381db208f83aff924": {
          "model_module": "@jupyter-widgets/controls",
          "model_name": "FloatProgressModel",
          "model_module_version": "1.5.0",
          "state": {
            "_dom_classes": [],
            "_model_module": "@jupyter-widgets/controls",
            "_model_module_version": "1.5.0",
            "_model_name": "FloatProgressModel",
            "_view_count": null,
            "_view_module": "@jupyter-widgets/controls",
            "_view_module_version": "1.5.0",
            "_view_name": "ProgressView",
            "bar_style": "success",
            "description": "100%",
            "description_tooltip": null,
            "layout": "IPY_MODEL_5b28f5dc67004707af3ea4b16b80be6d",
            "max": 6,
            "min": 0,
            "orientation": "horizontal",
            "style": "IPY_MODEL_fd40554764fc474bb37934d47d280e37",
            "value": 6
          }
        },
        "b308dead355748ba88b16388eced72f4": {
          "model_module": "@jupyter-widgets/controls",
          "model_name": "HTMLModel",
          "model_module_version": "1.5.0",
          "state": {
            "_dom_classes": [],
            "_model_module": "@jupyter-widgets/controls",
            "_model_module_version": "1.5.0",
            "_model_name": "HTMLModel",
            "_view_count": null,
            "_view_module": "@jupyter-widgets/controls",
            "_view_module_version": "1.5.0",
            "_view_name": "HTMLView",
            "description": "",
            "description_tooltip": null,
            "layout": "IPY_MODEL_147d60d710a94839b36be8946958da57",
            "placeholder": "​",
            "style": "IPY_MODEL_47015097b67a4d64bdb84846d395e98c",
            "value": " 6/6 [01:06&lt;00:00, 11.05s/it]"
          }
        },
        "9936a765605a4ec98b3ba6e2245b9cc7": {
          "model_module": "@jupyter-widgets/base",
          "model_name": "LayoutModel",
          "model_module_version": "1.2.0",
          "state": {
            "_model_module": "@jupyter-widgets/base",
            "_model_module_version": "1.2.0",
            "_model_name": "LayoutModel",
            "_view_count": null,
            "_view_module": "@jupyter-widgets/base",
            "_view_module_version": "1.2.0",
            "_view_name": "LayoutView",
            "align_content": null,
            "align_items": null,
            "align_self": null,
            "border": null,
            "bottom": null,
            "display": null,
            "flex": null,
            "flex_flow": null,
            "grid_area": null,
            "grid_auto_columns": null,
            "grid_auto_flow": null,
            "grid_auto_rows": null,
            "grid_column": null,
            "grid_gap": null,
            "grid_row": null,
            "grid_template_areas": null,
            "grid_template_columns": null,
            "grid_template_rows": null,
            "height": null,
            "justify_content": null,
            "justify_items": null,
            "left": null,
            "margin": null,
            "max_height": null,
            "max_width": null,
            "min_height": null,
            "min_width": null,
            "object_fit": null,
            "object_position": null,
            "order": null,
            "overflow": null,
            "overflow_x": null,
            "overflow_y": null,
            "padding": null,
            "right": null,
            "top": null,
            "visibility": null,
            "width": null
          }
        },
        "5b28f5dc67004707af3ea4b16b80be6d": {
          "model_module": "@jupyter-widgets/base",
          "model_name": "LayoutModel",
          "model_module_version": "1.2.0",
          "state": {
            "_model_module": "@jupyter-widgets/base",
            "_model_module_version": "1.2.0",
            "_model_name": "LayoutModel",
            "_view_count": null,
            "_view_module": "@jupyter-widgets/base",
            "_view_module_version": "1.2.0",
            "_view_name": "LayoutView",
            "align_content": null,
            "align_items": null,
            "align_self": null,
            "border": null,
            "bottom": null,
            "display": null,
            "flex": null,
            "flex_flow": null,
            "grid_area": null,
            "grid_auto_columns": null,
            "grid_auto_flow": null,
            "grid_auto_rows": null,
            "grid_column": null,
            "grid_gap": null,
            "grid_row": null,
            "grid_template_areas": null,
            "grid_template_columns": null,
            "grid_template_rows": null,
            "height": null,
            "justify_content": null,
            "justify_items": null,
            "left": null,
            "margin": null,
            "max_height": null,
            "max_width": null,
            "min_height": null,
            "min_width": null,
            "object_fit": null,
            "object_position": null,
            "order": null,
            "overflow": null,
            "overflow_x": null,
            "overflow_y": null,
            "padding": null,
            "right": null,
            "top": null,
            "visibility": null,
            "width": null
          }
        },
        "fd40554764fc474bb37934d47d280e37": {
          "model_module": "@jupyter-widgets/controls",
          "model_name": "ProgressStyleModel",
          "model_module_version": "1.5.0",
          "state": {
            "_model_module": "@jupyter-widgets/controls",
            "_model_module_version": "1.5.0",
            "_model_name": "ProgressStyleModel",
            "_view_count": null,
            "_view_module": "@jupyter-widgets/base",
            "_view_module_version": "1.2.0",
            "_view_name": "StyleView",
            "bar_color": null,
            "description_width": "initial"
          }
        },
        "147d60d710a94839b36be8946958da57": {
          "model_module": "@jupyter-widgets/base",
          "model_name": "LayoutModel",
          "model_module_version": "1.2.0",
          "state": {
            "_model_module": "@jupyter-widgets/base",
            "_model_module_version": "1.2.0",
            "_model_name": "LayoutModel",
            "_view_count": null,
            "_view_module": "@jupyter-widgets/base",
            "_view_module_version": "1.2.0",
            "_view_name": "LayoutView",
            "align_content": null,
            "align_items": null,
            "align_self": null,
            "border": null,
            "bottom": null,
            "display": null,
            "flex": null,
            "flex_flow": null,
            "grid_area": null,
            "grid_auto_columns": null,
            "grid_auto_flow": null,
            "grid_auto_rows": null,
            "grid_column": null,
            "grid_gap": null,
            "grid_row": null,
            "grid_template_areas": null,
            "grid_template_columns": null,
            "grid_template_rows": null,
            "height": null,
            "justify_content": null,
            "justify_items": null,
            "left": null,
            "margin": null,
            "max_height": null,
            "max_width": null,
            "min_height": null,
            "min_width": null,
            "object_fit": null,
            "object_position": null,
            "order": null,
            "overflow": null,
            "overflow_x": null,
            "overflow_y": null,
            "padding": null,
            "right": null,
            "top": null,
            "visibility": null,
            "width": null
          }
        },
        "47015097b67a4d64bdb84846d395e98c": {
          "model_module": "@jupyter-widgets/controls",
          "model_name": "DescriptionStyleModel",
          "model_module_version": "1.5.0",
          "state": {
            "_model_module": "@jupyter-widgets/controls",
            "_model_module_version": "1.5.0",
            "_model_name": "DescriptionStyleModel",
            "_view_count": null,
            "_view_module": "@jupyter-widgets/base",
            "_view_module_version": "1.2.0",
            "_view_name": "StyleView",
            "description_width": ""
          }
        },
        "f60b598ff8d743fdb6ec39acf4e658f4": {
          "model_module": "@jupyter-widgets/controls",
          "model_name": "HBoxModel",
          "model_module_version": "1.5.0",
          "state": {
            "_dom_classes": [],
            "_model_module": "@jupyter-widgets/controls",
            "_model_module_version": "1.5.0",
            "_model_name": "HBoxModel",
            "_view_count": null,
            "_view_module": "@jupyter-widgets/controls",
            "_view_module_version": "1.5.0",
            "_view_name": "HBoxView",
            "box_style": "",
            "children": [
              "IPY_MODEL_daac54cdd0104bfe9b3f190cfbc26ad1",
              "IPY_MODEL_8abeb6ba200a4e99924d59d104adca71"
            ],
            "layout": "IPY_MODEL_7faf6234fd8743b4934ec2e980bac796"
          }
        },
        "daac54cdd0104bfe9b3f190cfbc26ad1": {
          "model_module": "@jupyter-widgets/controls",
          "model_name": "FloatProgressModel",
          "model_module_version": "1.5.0",
          "state": {
            "_dom_classes": [],
            "_model_module": "@jupyter-widgets/controls",
            "_model_module_version": "1.5.0",
            "_model_name": "FloatProgressModel",
            "_view_count": null,
            "_view_module": "@jupyter-widgets/controls",
            "_view_module_version": "1.5.0",
            "_view_name": "ProgressView",
            "bar_style": "success",
            "description": "100%",
            "description_tooltip": null,
            "layout": "IPY_MODEL_d83bfbb8aa8544d981e48973034d0a4b",
            "max": 6,
            "min": 0,
            "orientation": "horizontal",
            "style": "IPY_MODEL_c4fdeb18669b484a8df2d85770424790",
            "value": 6
          }
        },
        "8abeb6ba200a4e99924d59d104adca71": {
          "model_module": "@jupyter-widgets/controls",
          "model_name": "HTMLModel",
          "model_module_version": "1.5.0",
          "state": {
            "_dom_classes": [],
            "_model_module": "@jupyter-widgets/controls",
            "_model_module_version": "1.5.0",
            "_model_name": "HTMLModel",
            "_view_count": null,
            "_view_module": "@jupyter-widgets/controls",
            "_view_module_version": "1.5.0",
            "_view_name": "HTMLView",
            "description": "",
            "description_tooltip": null,
            "layout": "IPY_MODEL_1b1034b3b4df47bcaf541ec5b7239023",
            "placeholder": "​",
            "style": "IPY_MODEL_fdcbaac93d4245798455a258f2c04d8a",
            "value": " 6/6 [00:58&lt;00:00,  9.68s/it]"
          }
        },
        "7faf6234fd8743b4934ec2e980bac796": {
          "model_module": "@jupyter-widgets/base",
          "model_name": "LayoutModel",
          "model_module_version": "1.2.0",
          "state": {
            "_model_module": "@jupyter-widgets/base",
            "_model_module_version": "1.2.0",
            "_model_name": "LayoutModel",
            "_view_count": null,
            "_view_module": "@jupyter-widgets/base",
            "_view_module_version": "1.2.0",
            "_view_name": "LayoutView",
            "align_content": null,
            "align_items": null,
            "align_self": null,
            "border": null,
            "bottom": null,
            "display": null,
            "flex": null,
            "flex_flow": null,
            "grid_area": null,
            "grid_auto_columns": null,
            "grid_auto_flow": null,
            "grid_auto_rows": null,
            "grid_column": null,
            "grid_gap": null,
            "grid_row": null,
            "grid_template_areas": null,
            "grid_template_columns": null,
            "grid_template_rows": null,
            "height": null,
            "justify_content": null,
            "justify_items": null,
            "left": null,
            "margin": null,
            "max_height": null,
            "max_width": null,
            "min_height": null,
            "min_width": null,
            "object_fit": null,
            "object_position": null,
            "order": null,
            "overflow": null,
            "overflow_x": null,
            "overflow_y": null,
            "padding": null,
            "right": null,
            "top": null,
            "visibility": null,
            "width": null
          }
        },
        "d83bfbb8aa8544d981e48973034d0a4b": {
          "model_module": "@jupyter-widgets/base",
          "model_name": "LayoutModel",
          "model_module_version": "1.2.0",
          "state": {
            "_model_module": "@jupyter-widgets/base",
            "_model_module_version": "1.2.0",
            "_model_name": "LayoutModel",
            "_view_count": null,
            "_view_module": "@jupyter-widgets/base",
            "_view_module_version": "1.2.0",
            "_view_name": "LayoutView",
            "align_content": null,
            "align_items": null,
            "align_self": null,
            "border": null,
            "bottom": null,
            "display": null,
            "flex": null,
            "flex_flow": null,
            "grid_area": null,
            "grid_auto_columns": null,
            "grid_auto_flow": null,
            "grid_auto_rows": null,
            "grid_column": null,
            "grid_gap": null,
            "grid_row": null,
            "grid_template_areas": null,
            "grid_template_columns": null,
            "grid_template_rows": null,
            "height": null,
            "justify_content": null,
            "justify_items": null,
            "left": null,
            "margin": null,
            "max_height": null,
            "max_width": null,
            "min_height": null,
            "min_width": null,
            "object_fit": null,
            "object_position": null,
            "order": null,
            "overflow": null,
            "overflow_x": null,
            "overflow_y": null,
            "padding": null,
            "right": null,
            "top": null,
            "visibility": null,
            "width": null
          }
        },
        "c4fdeb18669b484a8df2d85770424790": {
          "model_module": "@jupyter-widgets/controls",
          "model_name": "ProgressStyleModel",
          "model_module_version": "1.5.0",
          "state": {
            "_model_module": "@jupyter-widgets/controls",
            "_model_module_version": "1.5.0",
            "_model_name": "ProgressStyleModel",
            "_view_count": null,
            "_view_module": "@jupyter-widgets/base",
            "_view_module_version": "1.2.0",
            "_view_name": "StyleView",
            "bar_color": null,
            "description_width": "initial"
          }
        },
        "1b1034b3b4df47bcaf541ec5b7239023": {
          "model_module": "@jupyter-widgets/base",
          "model_name": "LayoutModel",
          "model_module_version": "1.2.0",
          "state": {
            "_model_module": "@jupyter-widgets/base",
            "_model_module_version": "1.2.0",
            "_model_name": "LayoutModel",
            "_view_count": null,
            "_view_module": "@jupyter-widgets/base",
            "_view_module_version": "1.2.0",
            "_view_name": "LayoutView",
            "align_content": null,
            "align_items": null,
            "align_self": null,
            "border": null,
            "bottom": null,
            "display": null,
            "flex": null,
            "flex_flow": null,
            "grid_area": null,
            "grid_auto_columns": null,
            "grid_auto_flow": null,
            "grid_auto_rows": null,
            "grid_column": null,
            "grid_gap": null,
            "grid_row": null,
            "grid_template_areas": null,
            "grid_template_columns": null,
            "grid_template_rows": null,
            "height": null,
            "justify_content": null,
            "justify_items": null,
            "left": null,
            "margin": null,
            "max_height": null,
            "max_width": null,
            "min_height": null,
            "min_width": null,
            "object_fit": null,
            "object_position": null,
            "order": null,
            "overflow": null,
            "overflow_x": null,
            "overflow_y": null,
            "padding": null,
            "right": null,
            "top": null,
            "visibility": null,
            "width": null
          }
        },
        "fdcbaac93d4245798455a258f2c04d8a": {
          "model_module": "@jupyter-widgets/controls",
          "model_name": "DescriptionStyleModel",
          "model_module_version": "1.5.0",
          "state": {
            "_model_module": "@jupyter-widgets/controls",
            "_model_module_version": "1.5.0",
            "_model_name": "DescriptionStyleModel",
            "_view_count": null,
            "_view_module": "@jupyter-widgets/base",
            "_view_module_version": "1.2.0",
            "_view_name": "StyleView",
            "description_width": ""
          }
        },
        "01c788df78a243ecb4176089dbb1d3ae": {
          "model_module": "@jupyter-widgets/controls",
          "model_name": "HBoxModel",
          "model_module_version": "1.5.0",
          "state": {
            "_dom_classes": [],
            "_model_module": "@jupyter-widgets/controls",
            "_model_module_version": "1.5.0",
            "_model_name": "HBoxModel",
            "_view_count": null,
            "_view_module": "@jupyter-widgets/controls",
            "_view_module_version": "1.5.0",
            "_view_name": "HBoxView",
            "box_style": "",
            "children": [
              "IPY_MODEL_bbc2f28eb4b6402499725756fc145ae0",
              "IPY_MODEL_70fe9db55c1e4fd5861a5096d59d680d"
            ],
            "layout": "IPY_MODEL_f9866ae0e5614f398d0eb704b91af20d"
          }
        },
        "bbc2f28eb4b6402499725756fc145ae0": {
          "model_module": "@jupyter-widgets/controls",
          "model_name": "FloatProgressModel",
          "model_module_version": "1.5.0",
          "state": {
            "_dom_classes": [],
            "_model_module": "@jupyter-widgets/controls",
            "_model_module_version": "1.5.0",
            "_model_name": "FloatProgressModel",
            "_view_count": null,
            "_view_module": "@jupyter-widgets/controls",
            "_view_module_version": "1.5.0",
            "_view_name": "ProgressView",
            "bar_style": "success",
            "description": "100%",
            "description_tooltip": null,
            "layout": "IPY_MODEL_b747d570ce2b43a193f43225991fdc1b",
            "max": 6,
            "min": 0,
            "orientation": "horizontal",
            "style": "IPY_MODEL_cc2a84bc80c14eafa9f856bce9a20117",
            "value": 6
          }
        },
        "70fe9db55c1e4fd5861a5096d59d680d": {
          "model_module": "@jupyter-widgets/controls",
          "model_name": "HTMLModel",
          "model_module_version": "1.5.0",
          "state": {
            "_dom_classes": [],
            "_model_module": "@jupyter-widgets/controls",
            "_model_module_version": "1.5.0",
            "_model_name": "HTMLModel",
            "_view_count": null,
            "_view_module": "@jupyter-widgets/controls",
            "_view_module_version": "1.5.0",
            "_view_name": "HTMLView",
            "description": "",
            "description_tooltip": null,
            "layout": "IPY_MODEL_2b53053bae7b4ea5a2993ebd52886967",
            "placeholder": "​",
            "style": "IPY_MODEL_a663172043da483aa2c7174e343b8993",
            "value": " 6/6 [00:55&lt;00:00,  9.30s/it]"
          }
        },
        "f9866ae0e5614f398d0eb704b91af20d": {
          "model_module": "@jupyter-widgets/base",
          "model_name": "LayoutModel",
          "model_module_version": "1.2.0",
          "state": {
            "_model_module": "@jupyter-widgets/base",
            "_model_module_version": "1.2.0",
            "_model_name": "LayoutModel",
            "_view_count": null,
            "_view_module": "@jupyter-widgets/base",
            "_view_module_version": "1.2.0",
            "_view_name": "LayoutView",
            "align_content": null,
            "align_items": null,
            "align_self": null,
            "border": null,
            "bottom": null,
            "display": null,
            "flex": null,
            "flex_flow": null,
            "grid_area": null,
            "grid_auto_columns": null,
            "grid_auto_flow": null,
            "grid_auto_rows": null,
            "grid_column": null,
            "grid_gap": null,
            "grid_row": null,
            "grid_template_areas": null,
            "grid_template_columns": null,
            "grid_template_rows": null,
            "height": null,
            "justify_content": null,
            "justify_items": null,
            "left": null,
            "margin": null,
            "max_height": null,
            "max_width": null,
            "min_height": null,
            "min_width": null,
            "object_fit": null,
            "object_position": null,
            "order": null,
            "overflow": null,
            "overflow_x": null,
            "overflow_y": null,
            "padding": null,
            "right": null,
            "top": null,
            "visibility": null,
            "width": null
          }
        },
        "b747d570ce2b43a193f43225991fdc1b": {
          "model_module": "@jupyter-widgets/base",
          "model_name": "LayoutModel",
          "model_module_version": "1.2.0",
          "state": {
            "_model_module": "@jupyter-widgets/base",
            "_model_module_version": "1.2.0",
            "_model_name": "LayoutModel",
            "_view_count": null,
            "_view_module": "@jupyter-widgets/base",
            "_view_module_version": "1.2.0",
            "_view_name": "LayoutView",
            "align_content": null,
            "align_items": null,
            "align_self": null,
            "border": null,
            "bottom": null,
            "display": null,
            "flex": null,
            "flex_flow": null,
            "grid_area": null,
            "grid_auto_columns": null,
            "grid_auto_flow": null,
            "grid_auto_rows": null,
            "grid_column": null,
            "grid_gap": null,
            "grid_row": null,
            "grid_template_areas": null,
            "grid_template_columns": null,
            "grid_template_rows": null,
            "height": null,
            "justify_content": null,
            "justify_items": null,
            "left": null,
            "margin": null,
            "max_height": null,
            "max_width": null,
            "min_height": null,
            "min_width": null,
            "object_fit": null,
            "object_position": null,
            "order": null,
            "overflow": null,
            "overflow_x": null,
            "overflow_y": null,
            "padding": null,
            "right": null,
            "top": null,
            "visibility": null,
            "width": null
          }
        },
        "cc2a84bc80c14eafa9f856bce9a20117": {
          "model_module": "@jupyter-widgets/controls",
          "model_name": "ProgressStyleModel",
          "model_module_version": "1.5.0",
          "state": {
            "_model_module": "@jupyter-widgets/controls",
            "_model_module_version": "1.5.0",
            "_model_name": "ProgressStyleModel",
            "_view_count": null,
            "_view_module": "@jupyter-widgets/base",
            "_view_module_version": "1.2.0",
            "_view_name": "StyleView",
            "bar_color": null,
            "description_width": "initial"
          }
        },
        "2b53053bae7b4ea5a2993ebd52886967": {
          "model_module": "@jupyter-widgets/base",
          "model_name": "LayoutModel",
          "model_module_version": "1.2.0",
          "state": {
            "_model_module": "@jupyter-widgets/base",
            "_model_module_version": "1.2.0",
            "_model_name": "LayoutModel",
            "_view_count": null,
            "_view_module": "@jupyter-widgets/base",
            "_view_module_version": "1.2.0",
            "_view_name": "LayoutView",
            "align_content": null,
            "align_items": null,
            "align_self": null,
            "border": null,
            "bottom": null,
            "display": null,
            "flex": null,
            "flex_flow": null,
            "grid_area": null,
            "grid_auto_columns": null,
            "grid_auto_flow": null,
            "grid_auto_rows": null,
            "grid_column": null,
            "grid_gap": null,
            "grid_row": null,
            "grid_template_areas": null,
            "grid_template_columns": null,
            "grid_template_rows": null,
            "height": null,
            "justify_content": null,
            "justify_items": null,
            "left": null,
            "margin": null,
            "max_height": null,
            "max_width": null,
            "min_height": null,
            "min_width": null,
            "object_fit": null,
            "object_position": null,
            "order": null,
            "overflow": null,
            "overflow_x": null,
            "overflow_y": null,
            "padding": null,
            "right": null,
            "top": null,
            "visibility": null,
            "width": null
          }
        },
        "a663172043da483aa2c7174e343b8993": {
          "model_module": "@jupyter-widgets/controls",
          "model_name": "DescriptionStyleModel",
          "model_module_version": "1.5.0",
          "state": {
            "_model_module": "@jupyter-widgets/controls",
            "_model_module_version": "1.5.0",
            "_model_name": "DescriptionStyleModel",
            "_view_count": null,
            "_view_module": "@jupyter-widgets/base",
            "_view_module_version": "1.2.0",
            "_view_name": "StyleView",
            "description_width": ""
          }
        }
      }
    }
  },
  "cells": [
    {
      "cell_type": "markdown",
      "metadata": {
        "id": "BFhIk3j6eZf4"
      },
      "source": [
        "<h1><center><b>CLASIFICACIÓN DE MÚSICA POR GÉNERO</b></center></h1>\n",
        "<h3><center><b>MACHINE LEARNING</b></center></h3>\n"
      ]
    },
    {
      "cell_type": "markdown",
      "metadata": {
        "id": "-hqH3TuiyxbK"
      },
      "source": [
        "\n",
        "Con el objetivo de encontrar un modelo capaz de predeci si una canción pertenece a los géneros *Jazz y Blues* o a las géneros \"*soul and reggae*\", a continuación se presenta el desarrollo de un modelo de red neuronal que predecirá el género de una canción dentro de las categorías binarias mencionadas anteriormente del dataset **MSD genre dataset**. Este Dataset, cuenta con datos correspondientes a duración, timbre, tempo, nota clave,etc. <br>\n",
        "\n",
        "Una consideración que se contemplo fue excluir de nuestro dataset las variables \"track_id\" y \"artist_name\" debido a que estas variables categóricas no identifican el género musical de la canción. De igual forma, se excluyeron todas las canciones que no pertenecieran a los géneros \"*Jazz y Blues*\" o \"*Soul and reggae*\"."
      ]
    },
    {
      "cell_type": "markdown",
      "metadata": {
        "id": "Vu510ZwI8DZd"
      },
      "source": [
        "<font color=”blue” size=\"2\"> Para verificar el funcionamiento del proyecto por favor cargar el archivo msd_genre_dataset.txt, para esto pueden utilizar la siguiente celda   </font>"
      ]
    },
    {
      "cell_type": "code",
      "metadata": {
        "colab": {
          "resources": {
            "http://localhost:8080/nbextensions/google.colab/files.js": {
              "data": "Ly8gQ29weXJpZ2h0IDIwMTcgR29vZ2xlIExMQwovLwovLyBMaWNlbnNlZCB1bmRlciB0aGUgQXBhY2hlIExpY2Vuc2UsIFZlcnNpb24gMi4wICh0aGUgIkxpY2Vuc2UiKTsKLy8geW91IG1heSBub3QgdXNlIHRoaXMgZmlsZSBleGNlcHQgaW4gY29tcGxpYW5jZSB3aXRoIHRoZSBMaWNlbnNlLgovLyBZb3UgbWF5IG9idGFpbiBhIGNvcHkgb2YgdGhlIExpY2Vuc2UgYXQKLy8KLy8gICAgICBodHRwOi8vd3d3LmFwYWNoZS5vcmcvbGljZW5zZXMvTElDRU5TRS0yLjAKLy8KLy8gVW5sZXNzIHJlcXVpcmVkIGJ5IGFwcGxpY2FibGUgbGF3IG9yIGFncmVlZCB0byBpbiB3cml0aW5nLCBzb2Z0d2FyZQovLyBkaXN0cmlidXRlZCB1bmRlciB0aGUgTGljZW5zZSBpcyBkaXN0cmlidXRlZCBvbiBhbiAiQVMgSVMiIEJBU0lTLAovLyBXSVRIT1VUIFdBUlJBTlRJRVMgT1IgQ09ORElUSU9OUyBPRiBBTlkgS0lORCwgZWl0aGVyIGV4cHJlc3Mgb3IgaW1wbGllZC4KLy8gU2VlIHRoZSBMaWNlbnNlIGZvciB0aGUgc3BlY2lmaWMgbGFuZ3VhZ2UgZ292ZXJuaW5nIHBlcm1pc3Npb25zIGFuZAovLyBsaW1pdGF0aW9ucyB1bmRlciB0aGUgTGljZW5zZS4KCi8qKgogKiBAZmlsZW92ZXJ2aWV3IEhlbHBlcnMgZm9yIGdvb2dsZS5jb2xhYiBQeXRob24gbW9kdWxlLgogKi8KKGZ1bmN0aW9uKHNjb3BlKSB7CmZ1bmN0aW9uIHNwYW4odGV4dCwgc3R5bGVBdHRyaWJ1dGVzID0ge30pIHsKICBjb25zdCBlbGVtZW50ID0gZG9jdW1lbnQuY3JlYXRlRWxlbWVudCgnc3BhbicpOwogIGVsZW1lbnQudGV4dENvbnRlbnQgPSB0ZXh0OwogIGZvciAoY29uc3Qga2V5IG9mIE9iamVjdC5rZXlzKHN0eWxlQXR0cmlidXRlcykpIHsKICAgIGVsZW1lbnQuc3R5bGVba2V5XSA9IHN0eWxlQXR0cmlidXRlc1trZXldOwogIH0KICByZXR1cm4gZWxlbWVudDsKfQoKLy8gTWF4IG51bWJlciBvZiBieXRlcyB3aGljaCB3aWxsIGJlIHVwbG9hZGVkIGF0IGEgdGltZS4KY29uc3QgTUFYX1BBWUxPQURfU0laRSA9IDEwMCAqIDEwMjQ7CgpmdW5jdGlvbiBfdXBsb2FkRmlsZXMoaW5wdXRJZCwgb3V0cHV0SWQpIHsKICBjb25zdCBzdGVwcyA9IHVwbG9hZEZpbGVzU3RlcChpbnB1dElkLCBvdXRwdXRJZCk7CiAgY29uc3Qgb3V0cHV0RWxlbWVudCA9IGRvY3VtZW50LmdldEVsZW1lbnRCeUlkKG91dHB1dElkKTsKICAvLyBDYWNoZSBzdGVwcyBvbiB0aGUgb3V0cHV0RWxlbWVudCB0byBtYWtlIGl0IGF2YWlsYWJsZSBmb3IgdGhlIG5leHQgY2FsbAogIC8vIHRvIHVwbG9hZEZpbGVzQ29udGludWUgZnJvbSBQeXRob24uCiAgb3V0cHV0RWxlbWVudC5zdGVwcyA9IHN0ZXBzOwoKICByZXR1cm4gX3VwbG9hZEZpbGVzQ29udGludWUob3V0cHV0SWQpOwp9CgovLyBUaGlzIGlzIHJvdWdobHkgYW4gYXN5bmMgZ2VuZXJhdG9yIChub3Qgc3VwcG9ydGVkIGluIHRoZSBicm93c2VyIHlldCksCi8vIHdoZXJlIHRoZXJlIGFyZSBtdWx0aXBsZSBhc3luY2hyb25vdXMgc3RlcHMgYW5kIHRoZSBQeXRob24gc2lkZSBpcyBnb2luZwovLyB0byBwb2xsIGZvciBjb21wbGV0aW9uIG9mIGVhY2ggc3RlcC4KLy8gVGhpcyB1c2VzIGEgUHJvbWlzZSB0byBibG9jayB0aGUgcHl0aG9uIHNpZGUgb24gY29tcGxldGlvbiBvZiBlYWNoIHN0ZXAsCi8vIHRoZW4gcGFzc2VzIHRoZSByZXN1bHQgb2YgdGhlIHByZXZpb3VzIHN0ZXAgYXMgdGhlIGlucHV0IHRvIHRoZSBuZXh0IHN0ZXAuCmZ1bmN0aW9uIF91cGxvYWRGaWxlc0NvbnRpbnVlKG91dHB1dElkKSB7CiAgY29uc3Qgb3V0cHV0RWxlbWVudCA9IGRvY3VtZW50LmdldEVsZW1lbnRCeUlkKG91dHB1dElkKTsKICBjb25zdCBzdGVwcyA9IG91dHB1dEVsZW1lbnQuc3RlcHM7CgogIGNvbnN0IG5leHQgPSBzdGVwcy5uZXh0KG91dHB1dEVsZW1lbnQubGFzdFByb21pc2VWYWx1ZSk7CiAgcmV0dXJuIFByb21pc2UucmVzb2x2ZShuZXh0LnZhbHVlLnByb21pc2UpLnRoZW4oKHZhbHVlKSA9PiB7CiAgICAvLyBDYWNoZSB0aGUgbGFzdCBwcm9taXNlIHZhbHVlIHRvIG1ha2UgaXQgYXZhaWxhYmxlIHRvIHRoZSBuZXh0CiAgICAvLyBzdGVwIG9mIHRoZSBnZW5lcmF0b3IuCiAgICBvdXRwdXRFbGVtZW50Lmxhc3RQcm9taXNlVmFsdWUgPSB2YWx1ZTsKICAgIHJldHVybiBuZXh0LnZhbHVlLnJlc3BvbnNlOwogIH0pOwp9CgovKioKICogR2VuZXJhdG9yIGZ1bmN0aW9uIHdoaWNoIGlzIGNhbGxlZCBiZXR3ZWVuIGVhY2ggYXN5bmMgc3RlcCBvZiB0aGUgdXBsb2FkCiAqIHByb2Nlc3MuCiAqIEBwYXJhbSB7c3RyaW5nfSBpbnB1dElkIEVsZW1lbnQgSUQgb2YgdGhlIGlucHV0IGZpbGUgcGlja2VyIGVsZW1lbnQuCiAqIEBwYXJhbSB7c3RyaW5nfSBvdXRwdXRJZCBFbGVtZW50IElEIG9mIHRoZSBvdXRwdXQgZGlzcGxheS4KICogQHJldHVybiB7IUl0ZXJhYmxlPCFPYmplY3Q+fSBJdGVyYWJsZSBvZiBuZXh0IHN0ZXBzLgogKi8KZnVuY3Rpb24qIHVwbG9hZEZpbGVzU3RlcChpbnB1dElkLCBvdXRwdXRJZCkgewogIGNvbnN0IGlucHV0RWxlbWVudCA9IGRvY3VtZW50LmdldEVsZW1lbnRCeUlkKGlucHV0SWQpOwogIGlucHV0RWxlbWVudC5kaXNhYmxlZCA9IGZhbHNlOwoKICBjb25zdCBvdXRwdXRFbGVtZW50ID0gZG9jdW1lbnQuZ2V0RWxlbWVudEJ5SWQob3V0cHV0SWQpOwogIG91dHB1dEVsZW1lbnQuaW5uZXJIVE1MID0gJyc7CgogIGNvbnN0IHBpY2tlZFByb21pc2UgPSBuZXcgUHJvbWlzZSgocmVzb2x2ZSkgPT4gewogICAgaW5wdXRFbGVtZW50LmFkZEV2ZW50TGlzdGVuZXIoJ2NoYW5nZScsIChlKSA9PiB7CiAgICAgIHJlc29sdmUoZS50YXJnZXQuZmlsZXMpOwogICAgfSk7CiAgfSk7CgogIGNvbnN0IGNhbmNlbCA9IGRvY3VtZW50LmNyZWF0ZUVsZW1lbnQoJ2J1dHRvbicpOwogIGlucHV0RWxlbWVudC5wYXJlbnRFbGVtZW50LmFwcGVuZENoaWxkKGNhbmNlbCk7CiAgY2FuY2VsLnRleHRDb250ZW50ID0gJ0NhbmNlbCB1cGxvYWQnOwogIGNvbnN0IGNhbmNlbFByb21pc2UgPSBuZXcgUHJvbWlzZSgocmVzb2x2ZSkgPT4gewogICAgY2FuY2VsLm9uY2xpY2sgPSAoKSA9PiB7CiAgICAgIHJlc29sdmUobnVsbCk7CiAgICB9OwogIH0pOwoKICAvLyBXYWl0IGZvciB0aGUgdXNlciB0byBwaWNrIHRoZSBmaWxlcy4KICBjb25zdCBmaWxlcyA9IHlpZWxkIHsKICAgIHByb21pc2U6IFByb21pc2UucmFjZShbcGlja2VkUHJvbWlzZSwgY2FuY2VsUHJvbWlzZV0pLAogICAgcmVzcG9uc2U6IHsKICAgICAgYWN0aW9uOiAnc3RhcnRpbmcnLAogICAgfQogIH07CgogIGNhbmNlbC5yZW1vdmUoKTsKCiAgLy8gRGlzYWJsZSB0aGUgaW5wdXQgZWxlbWVudCBzaW5jZSBmdXJ0aGVyIHBpY2tzIGFyZSBub3QgYWxsb3dlZC4KICBpbnB1dEVsZW1lbnQuZGlzYWJsZWQgPSB0cnVlOwoKICBpZiAoIWZpbGVzKSB7CiAgICByZXR1cm4gewogICAgICByZXNwb25zZTogewogICAgICAgIGFjdGlvbjogJ2NvbXBsZXRlJywKICAgICAgfQogICAgfTsKICB9CgogIGZvciAoY29uc3QgZmlsZSBvZiBmaWxlcykgewogICAgY29uc3QgbGkgPSBkb2N1bWVudC5jcmVhdGVFbGVtZW50KCdsaScpOwogICAgbGkuYXBwZW5kKHNwYW4oZmlsZS5uYW1lLCB7Zm9udFdlaWdodDogJ2JvbGQnfSkpOwogICAgbGkuYXBwZW5kKHNwYW4oCiAgICAgICAgYCgke2ZpbGUudHlwZSB8fCAnbi9hJ30pIC0gJHtmaWxlLnNpemV9IGJ5dGVzLCBgICsKICAgICAgICBgbGFzdCBtb2RpZmllZDogJHsKICAgICAgICAgICAgZmlsZS5sYXN0TW9kaWZpZWREYXRlID8gZmlsZS5sYXN0TW9kaWZpZWREYXRlLnRvTG9jYWxlRGF0ZVN0cmluZygpIDoKICAgICAgICAgICAgICAgICAgICAgICAgICAgICAgICAgICAgJ24vYSd9IC0gYCkpOwogICAgY29uc3QgcGVyY2VudCA9IHNwYW4oJzAlIGRvbmUnKTsKICAgIGxpLmFwcGVuZENoaWxkKHBlcmNlbnQpOwoKICAgIG91dHB1dEVsZW1lbnQuYXBwZW5kQ2hpbGQobGkpOwoKICAgIGNvbnN0IGZpbGVEYXRhUHJvbWlzZSA9IG5ldyBQcm9taXNlKChyZXNvbHZlKSA9PiB7CiAgICAgIGNvbnN0IHJlYWRlciA9IG5ldyBGaWxlUmVhZGVyKCk7CiAgICAgIHJlYWRlci5vbmxvYWQgPSAoZSkgPT4gewogICAgICAgIHJlc29sdmUoZS50YXJnZXQucmVzdWx0KTsKICAgICAgfTsKICAgICAgcmVhZGVyLnJlYWRBc0FycmF5QnVmZmVyKGZpbGUpOwogICAgfSk7CiAgICAvLyBXYWl0IGZvciB0aGUgZGF0YSB0byBiZSByZWFkeS4KICAgIGxldCBmaWxlRGF0YSA9IHlpZWxkIHsKICAgICAgcHJvbWlzZTogZmlsZURhdGFQcm9taXNlLAogICAgICByZXNwb25zZTogewogICAgICAgIGFjdGlvbjogJ2NvbnRpbnVlJywKICAgICAgfQogICAgfTsKCiAgICAvLyBVc2UgYSBjaHVua2VkIHNlbmRpbmcgdG8gYXZvaWQgbWVzc2FnZSBzaXplIGxpbWl0cy4gU2VlIGIvNjIxMTU2NjAuCiAgICBsZXQgcG9zaXRpb24gPSAwOwogICAgd2hpbGUgKHBvc2l0aW9uIDwgZmlsZURhdGEuYnl0ZUxlbmd0aCkgewogICAgICBjb25zdCBsZW5ndGggPSBNYXRoLm1pbihmaWxlRGF0YS5ieXRlTGVuZ3RoIC0gcG9zaXRpb24sIE1BWF9QQVlMT0FEX1NJWkUpOwogICAgICBjb25zdCBjaHVuayA9IG5ldyBVaW50OEFycmF5KGZpbGVEYXRhLCBwb3NpdGlvbiwgbGVuZ3RoKTsKICAgICAgcG9zaXRpb24gKz0gbGVuZ3RoOwoKICAgICAgY29uc3QgYmFzZTY0ID0gYnRvYShTdHJpbmcuZnJvbUNoYXJDb2RlLmFwcGx5KG51bGwsIGNodW5rKSk7CiAgICAgIHlpZWxkIHsKICAgICAgICByZXNwb25zZTogewogICAgICAgICAgYWN0aW9uOiAnYXBwZW5kJywKICAgICAgICAgIGZpbGU6IGZpbGUubmFtZSwKICAgICAgICAgIGRhdGE6IGJhc2U2NCwKICAgICAgICB9LAogICAgICB9OwogICAgICBwZXJjZW50LnRleHRDb250ZW50ID0KICAgICAgICAgIGAke01hdGgucm91bmQoKHBvc2l0aW9uIC8gZmlsZURhdGEuYnl0ZUxlbmd0aCkgKiAxMDApfSUgZG9uZWA7CiAgICB9CiAgfQoKICAvLyBBbGwgZG9uZS4KICB5aWVsZCB7CiAgICByZXNwb25zZTogewogICAgICBhY3Rpb246ICdjb21wbGV0ZScsCiAgICB9CiAgfTsKfQoKc2NvcGUuZ29vZ2xlID0gc2NvcGUuZ29vZ2xlIHx8IHt9OwpzY29wZS5nb29nbGUuY29sYWIgPSBzY29wZS5nb29nbGUuY29sYWIgfHwge307CnNjb3BlLmdvb2dsZS5jb2xhYi5fZmlsZXMgPSB7CiAgX3VwbG9hZEZpbGVzLAogIF91cGxvYWRGaWxlc0NvbnRpbnVlLAp9Owp9KShzZWxmKTsK",
              "headers": [
                [
                  "content-type",
                  "application/javascript"
                ]
              ],
              "ok": true,
              "status": 200,
              "status_text": ""
            }
          },
          "base_uri": "https://localhost:8080/",
          "height": 72
        },
        "id": "Ph5PUY9T7y01",
        "outputId": "69de91a9-565f-4535-f7cc-e6aa0252ee19"
      },
      "source": [
        "from google.colab import files\n",
        "def getLocalFiles():\n",
        "    _files = files.upload()\n",
        "    if len(_files) >0:\n",
        "       for k,v in _files.items():\n",
        "         open(k,'wb').write(v)\n",
        "getLocalFiles()"
      ],
      "execution_count": null,
      "outputs": [
        {
          "data": {
            "text/html": [
              "\n",
              "     <input type=\"file\" id=\"files-ca6d6fc8-715c-4bab-946a-c7b097c87d3d\" name=\"files[]\" multiple disabled\n",
              "        style=\"border:none\" />\n",
              "     <output id=\"result-ca6d6fc8-715c-4bab-946a-c7b097c87d3d\">\n",
              "      Upload widget is only available when the cell has been executed in the\n",
              "      current browser session. Please rerun this cell to enable.\n",
              "      </output>\n",
              "      <script src=\"/nbextensions/google.colab/files.js\"></script> "
            ],
            "text/plain": [
              "<IPython.core.display.HTML object>"
            ]
          },
          "metadata": {
            "tags": []
          },
          "output_type": "display_data"
        },
        {
          "name": "stdout",
          "output_type": "stream",
          "text": [
            "Saving msd_genre_dataset.txt to msd_genre_dataset (1).txt\n"
          ]
        }
      ]
    },
    {
      "cell_type": "markdown",
      "metadata": {
        "id": "dsQUEuq97i1o"
      },
      "source": [
        "<font color=”blue” size=\"2\"> Setup para el funcionamiento </font>"
      ]
    },
    {
      "cell_type": "markdown",
      "metadata": {
        "id": "0RO73g-XW7-Z"
      },
      "source": [
        "## **Importando las librerías necesarias para el reto**<a name=\"id3\"></a>"
      ]
    },
    {
      "cell_type": "markdown",
      "metadata": {
        "id": "xL_ThNwB8Eue"
      },
      "source": [
        "En esta sección, se importan todas las librerías utilizadas para la realización del reto. "
      ]
    },
    {
      "cell_type": "code",
      "metadata": {
        "id": "0FcSJJQ2ZC8G"
      },
      "source": [
        "import pandas as pd  \n",
        "import numpy as np  \n",
        "import matplotlib.pyplot as plt  \n",
        "import seaborn as seabornInstance \n",
        "from sklearn.model_selection import train_test_split \n",
        "from sklearn.neural_network import MLPRegressor\n",
        "from sklearn.neural_network import MLPClassifier\n",
        "from sklearn import metrics\n",
        "from sklearn.preprocessing import StandardScaler\n",
        "from sklearn.metrics import precision_score\n",
        "import math\n",
        "from sklearn.utils import resample\n",
        "\n",
        "from tqdm.auto import tqdm\n",
        "\n",
        "from sklearn.model_selection import (train_test_split, ShuffleSplit, \n",
        "                                     cross_val_score, GridSearchCV)\n",
        "\n",
        "from sklearn.metrics import (precision_score, recall_score, confusion_matrix, \n",
        "                             accuracy_score, f1_score, roc_curve, \n",
        "                             precision_recall_curve)\n",
        "%matplotlib inline"
      ],
      "execution_count": null,
      "outputs": []
    },
    {
      "cell_type": "markdown",
      "metadata": {
        "id": "nUq-RNuEXBV6"
      },
      "source": [
        "### **Carga de Datos**"
      ]
    },
    {
      "cell_type": "markdown",
      "metadata": {
        "id": "1fDo47mR9RXU"
      },
      "source": [
        "En esta sección se procede a cargar los datos del archivo de texto y se modifica eliminando las primeras filas del documento ya que es el \"Header\"."
      ]
    },
    {
      "cell_type": "code",
      "metadata": {
        "colab": {
          "base_uri": "https://localhost:8080/",
          "height": 473
        },
        "id": "sRPnh3HUwODL",
        "outputId": "fadcdb10-cc1d-4360-8d4d-c8e6e543ae1f"
      },
      "source": [
        "PreFile= open('/content/msd_genre_dataset.txt','r')\n",
        "file= PreFile.readlines()\n",
        "del file[0:9]\n",
        "\n",
        "\n",
        "with open(\"final.csv\", \"w\") as textobj:\n",
        "        for n in file:\n",
        "            textobj.write(n)\n",
        "\n",
        "dataset = pd.read_csv('final.csv')\n",
        "dataset=dataset.rename(columns={'%genre':'genre'})\n",
        "dataset.head()"
      ],
      "execution_count": null,
      "outputs": [
        {
          "data": {
            "text/html": [
              "<div>\n",
              "<style scoped>\n",
              "    .dataframe tbody tr th:only-of-type {\n",
              "        vertical-align: middle;\n",
              "    }\n",
              "\n",
              "    .dataframe tbody tr th {\n",
              "        vertical-align: top;\n",
              "    }\n",
              "\n",
              "    .dataframe thead th {\n",
              "        text-align: right;\n",
              "    }\n",
              "</style>\n",
              "<table border=\"1\" class=\"dataframe\">\n",
              "  <thead>\n",
              "    <tr style=\"text-align: right;\">\n",
              "      <th></th>\n",
              "      <th>genre</th>\n",
              "      <th>track_id</th>\n",
              "      <th>artist_name</th>\n",
              "      <th>title</th>\n",
              "      <th>loudness</th>\n",
              "      <th>tempo</th>\n",
              "      <th>time_signature</th>\n",
              "      <th>key</th>\n",
              "      <th>mode</th>\n",
              "      <th>duration</th>\n",
              "      <th>avg_timbre1</th>\n",
              "      <th>avg_timbre2</th>\n",
              "      <th>avg_timbre3</th>\n",
              "      <th>avg_timbre4</th>\n",
              "      <th>avg_timbre5</th>\n",
              "      <th>avg_timbre6</th>\n",
              "      <th>avg_timbre7</th>\n",
              "      <th>avg_timbre8</th>\n",
              "      <th>avg_timbre9</th>\n",
              "      <th>avg_timbre10</th>\n",
              "      <th>avg_timbre11</th>\n",
              "      <th>avg_timbre12</th>\n",
              "      <th>var_timbre1</th>\n",
              "      <th>var_timbre2</th>\n",
              "      <th>var_timbre3</th>\n",
              "      <th>var_timbre4</th>\n",
              "      <th>var_timbre5</th>\n",
              "      <th>var_timbre6</th>\n",
              "      <th>var_timbre7</th>\n",
              "      <th>var_timbre8</th>\n",
              "      <th>var_timbre9</th>\n",
              "      <th>var_timbre10</th>\n",
              "      <th>var_timbre11</th>\n",
              "      <th>var_timbre12</th>\n",
              "    </tr>\n",
              "  </thead>\n",
              "  <tbody>\n",
              "    <tr>\n",
              "      <th>0</th>\n",
              "      <td>classic pop and rock</td>\n",
              "      <td>TRFCOOU128F427AEC0</td>\n",
              "      <td>Blue Oyster Cult</td>\n",
              "      <td>Mes Dames Sarat</td>\n",
              "      <td>-8.697</td>\n",
              "      <td>155.007</td>\n",
              "      <td>1</td>\n",
              "      <td>9</td>\n",
              "      <td>1</td>\n",
              "      <td>246.33424</td>\n",
              "      <td>46.673067</td>\n",
              "      <td>14.613684</td>\n",
              "      <td>14.664215</td>\n",
              "      <td>0.176561</td>\n",
              "      <td>-9.346377</td>\n",
              "      <td>-12.341699</td>\n",
              "      <td>11.183382</td>\n",
              "      <td>7.405288</td>\n",
              "      <td>9.313765</td>\n",
              "      <td>3.201169</td>\n",
              "      <td>-0.152734</td>\n",
              "      <td>5.809709</td>\n",
              "      <td>14.930820</td>\n",
              "      <td>802.205948</td>\n",
              "      <td>1255.514569</td>\n",
              "      <td>580.030472</td>\n",
              "      <td>598.485223</td>\n",
              "      <td>575.337671</td>\n",
              "      <td>322.068603</td>\n",
              "      <td>321.726029</td>\n",
              "      <td>232.700609</td>\n",
              "      <td>186.805303</td>\n",
              "      <td>181.938688</td>\n",
              "      <td>151.508011</td>\n",
              "    </tr>\n",
              "    <tr>\n",
              "      <th>1</th>\n",
              "      <td>classic pop and rock</td>\n",
              "      <td>TRNJTPB128F427AE9F</td>\n",
              "      <td>Blue Oyster Cult</td>\n",
              "      <td>Screams</td>\n",
              "      <td>-10.659</td>\n",
              "      <td>148.462</td>\n",
              "      <td>1</td>\n",
              "      <td>4</td>\n",
              "      <td>0</td>\n",
              "      <td>189.80526</td>\n",
              "      <td>43.645377</td>\n",
              "      <td>-87.337150</td>\n",
              "      <td>41.051582</td>\n",
              "      <td>7.814770</td>\n",
              "      <td>-12.989848</td>\n",
              "      <td>-14.253599</td>\n",
              "      <td>6.126045</td>\n",
              "      <td>-2.448662</td>\n",
              "      <td>22.691713</td>\n",
              "      <td>-2.872706</td>\n",
              "      <td>1.427725</td>\n",
              "      <td>-6.710730</td>\n",
              "      <td>22.704843</td>\n",
              "      <td>1561.307072</td>\n",
              "      <td>2007.653070</td>\n",
              "      <td>1043.474073</td>\n",
              "      <td>585.694981</td>\n",
              "      <td>564.013736</td>\n",
              "      <td>510.177022</td>\n",
              "      <td>400.200186</td>\n",
              "      <td>365.119588</td>\n",
              "      <td>238.099708</td>\n",
              "      <td>197.933757</td>\n",
              "      <td>251.577525</td>\n",
              "    </tr>\n",
              "    <tr>\n",
              "      <th>2</th>\n",
              "      <td>classic pop and rock</td>\n",
              "      <td>TRLFJHA128F427AEEA</td>\n",
              "      <td>Blue Oyster Cult</td>\n",
              "      <td>Dance The Night Away</td>\n",
              "      <td>-13.494</td>\n",
              "      <td>112.909</td>\n",
              "      <td>1</td>\n",
              "      <td>10</td>\n",
              "      <td>0</td>\n",
              "      <td>158.19710</td>\n",
              "      <td>37.573538</td>\n",
              "      <td>-61.202030</td>\n",
              "      <td>28.760533</td>\n",
              "      <td>-13.788123</td>\n",
              "      <td>10.062347</td>\n",
              "      <td>-4.872030</td>\n",
              "      <td>-14.090243</td>\n",
              "      <td>5.580175</td>\n",
              "      <td>15.414011</td>\n",
              "      <td>4.556137</td>\n",
              "      <td>-1.877363</td>\n",
              "      <td>20.879475</td>\n",
              "      <td>58.459621</td>\n",
              "      <td>4644.001846</td>\n",
              "      <td>1204.856777</td>\n",
              "      <td>2736.520024</td>\n",
              "      <td>730.233239</td>\n",
              "      <td>665.203452</td>\n",
              "      <td>535.775111</td>\n",
              "      <td>439.335059</td>\n",
              "      <td>486.822970</td>\n",
              "      <td>265.333860</td>\n",
              "      <td>447.097987</td>\n",
              "      <td>251.880724</td>\n",
              "    </tr>\n",
              "    <tr>\n",
              "      <th>3</th>\n",
              "      <td>classic pop and rock</td>\n",
              "      <td>TRCQZAG128F427DB97</td>\n",
              "      <td>Blue Oyster Cult</td>\n",
              "      <td>Debbie Denise</td>\n",
              "      <td>-12.786</td>\n",
              "      <td>117.429</td>\n",
              "      <td>4</td>\n",
              "      <td>7</td>\n",
              "      <td>1</td>\n",
              "      <td>250.22649</td>\n",
              "      <td>42.566615</td>\n",
              "      <td>17.217897</td>\n",
              "      <td>53.484213</td>\n",
              "      <td>1.564362</td>\n",
              "      <td>-8.884632</td>\n",
              "      <td>-13.088890</td>\n",
              "      <td>-9.762620</td>\n",
              "      <td>1.373769</td>\n",
              "      <td>1.092876</td>\n",
              "      <td>1.479490</td>\n",
              "      <td>1.517015</td>\n",
              "      <td>8.562618</td>\n",
              "      <td>22.575460</td>\n",
              "      <td>691.140671</td>\n",
              "      <td>809.755802</td>\n",
              "      <td>563.908070</td>\n",
              "      <td>492.803819</td>\n",
              "      <td>378.382799</td>\n",
              "      <td>372.875044</td>\n",
              "      <td>231.941957</td>\n",
              "      <td>246.313305</td>\n",
              "      <td>168.400152</td>\n",
              "      <td>85.282462</td>\n",
              "      <td>339.897173</td>\n",
              "    </tr>\n",
              "    <tr>\n",
              "      <th>4</th>\n",
              "      <td>classic pop and rock</td>\n",
              "      <td>TRNXMNM128F427DB8C</td>\n",
              "      <td>Blue Oyster Cult</td>\n",
              "      <td>(Don't Fear) The Reaper</td>\n",
              "      <td>-14.093</td>\n",
              "      <td>141.536</td>\n",
              "      <td>4</td>\n",
              "      <td>9</td>\n",
              "      <td>0</td>\n",
              "      <td>307.06893</td>\n",
              "      <td>40.976507</td>\n",
              "      <td>-13.609779</td>\n",
              "      <td>39.566169</td>\n",
              "      <td>-5.602033</td>\n",
              "      <td>-17.754819</td>\n",
              "      <td>-21.833261</td>\n",
              "      <td>-5.600732</td>\n",
              "      <td>2.291770</td>\n",
              "      <td>3.526177</td>\n",
              "      <td>1.535449</td>\n",
              "      <td>2.763958</td>\n",
              "      <td>3.388757</td>\n",
              "      <td>34.294994</td>\n",
              "      <td>1062.180815</td>\n",
              "      <td>1093.684935</td>\n",
              "      <td>343.556047</td>\n",
              "      <td>889.163314</td>\n",
              "      <td>218.111796</td>\n",
              "      <td>304.862864</td>\n",
              "      <td>178.352161</td>\n",
              "      <td>440.478867</td>\n",
              "      <td>142.669283</td>\n",
              "      <td>81.061326</td>\n",
              "      <td>208.355152</td>\n",
              "    </tr>\n",
              "  </tbody>\n",
              "</table>\n",
              "</div>"
            ],
            "text/plain": [
              "                  genre            track_id  ... var_timbre11 var_timbre12\n",
              "0  classic pop and rock  TRFCOOU128F427AEC0  ...   181.938688   151.508011\n",
              "1  classic pop and rock  TRNJTPB128F427AE9F  ...   197.933757   251.577525\n",
              "2  classic pop and rock  TRLFJHA128F427AEEA  ...   447.097987   251.880724\n",
              "3  classic pop and rock  TRCQZAG128F427DB97  ...    85.282462   339.897173\n",
              "4  classic pop and rock  TRNXMNM128F427DB8C  ...    81.061326   208.355152\n",
              "\n",
              "[5 rows x 34 columns]"
            ]
          },
          "execution_count": 3,
          "metadata": {
            "tags": []
          },
          "output_type": "execute_result"
        }
      ]
    },
    {
      "cell_type": "markdown",
      "metadata": {
        "id": "VpxSsLgCXGa7"
      },
      "source": [
        "## **Preparación de los Datos**"
      ]
    },
    {
      "cell_type": "markdown",
      "metadata": {
        "id": "grgGoeda_FvY"
      },
      "source": [
        "Para realizar el preprocesamiento de datos se procede a seleccionar las canciones que pertenezcan a los géneros mencionados anteriormente."
      ]
    },
    {
      "cell_type": "code",
      "metadata": {
        "colab": {
          "base_uri": "https://localhost:8080/"
        },
        "id": "EkKBfkU4wN9K",
        "outputId": "755ee640-5877-4989-fa06-1cae15a9e458"
      },
      "source": [
        "FullData1= dataset[dataset['genre']==\"jazz and blues\"]\n",
        "FullData2= dataset[dataset['genre']==\"soul and reggae\"]\n",
        "FullStudyData= pd.concat([FullData1,FullData2])\n",
        "FullStudyData=FullStudyData.reset_index()\n",
        "del FullStudyData['index']\n",
        "print(FullStudyData)"
      ],
      "execution_count": null,
      "outputs": [
        {
          "name": "stdout",
          "output_type": "stream",
          "text": [
            "                genre            track_id  ... var_timbre11 var_timbre12\n",
            "0      jazz and blues  TRJBLUX12903CE16EC  ...   261.850703   240.834177\n",
            "1      jazz and blues  TRDPDLX12903CE16F2  ...   261.643570   332.356536\n",
            "2      jazz and blues  TRMWVBM128F42374DA  ...   481.149049   442.663136\n",
            "3      jazz and blues  TRMLIWL128F42374DE  ...   250.545027   348.842236\n",
            "4      jazz and blues  TRGFUVB128F42374E1  ...   262.670577   272.634634\n",
            "...               ...                 ...  ...          ...          ...\n",
            "8345  soul and reggae  TRGYRMA128E078FC55  ...   641.508417   395.121718\n",
            "8346  soul and reggae  TRZZFQW128E078FC5A  ...   504.899788   350.913794\n",
            "8347  soul and reggae  TRAMYBB128F424D86D  ...   538.895856   313.775934\n",
            "8348  soul and reggae  TRABWFM128F424D86A  ...   598.054091   443.893807\n",
            "8349  soul and reggae  TREBGAA128E078FC52  ...   531.850198   607.215961\n",
            "\n",
            "[8350 rows x 34 columns]\n"
          ]
        }
      ]
    },
    {
      "cell_type": "markdown",
      "metadata": {
        "id": "0o5yTavUANFg"
      },
      "source": [
        "Luego verificamos la cantidad de datos existentes para cada uno de los géneros mencionados. A pesar que se tenga una cantidad similar de los datos, más adelante se procederá a tomar la misma cantidad de datos de cada género y evitar un desbalance durante el entrenamiento."
      ]
    },
    {
      "cell_type": "code",
      "metadata": {
        "colab": {
          "base_uri": "https://localhost:8080/"
        },
        "id": "kNV37Z4UuLPJ",
        "outputId": "0278a45c-0868-4582-aebf-a03cb5520a77"
      },
      "source": [
        "FullStudyData[\"genre\"].value_counts().sort_index()"
      ],
      "execution_count": null,
      "outputs": [
        {
          "data": {
            "text/plain": [
              "jazz and blues     4334\n",
              "soul and reggae    4016\n",
              "Name: genre, dtype: int64"
            ]
          },
          "execution_count": 5,
          "metadata": {
            "tags": []
          },
          "output_type": "execute_result"
        }
      ]
    },
    {
      "cell_type": "markdown",
      "metadata": {
        "id": "ENDHxRSQBFPH"
      },
      "source": [
        "Como se mencionó al inicio, se procede a eliminar las distintas variables no relevantes para el entrenamiento, y se toma la salida del modelo el género."
      ]
    },
    {
      "cell_type": "code",
      "metadata": {
        "colab": {
          "base_uri": "https://localhost:8080/"
        },
        "id": "kezGlKHBuLHp",
        "outputId": "7fb6eeb1-a4b2-43e3-e33b-79af6d5ab5a8"
      },
      "source": [
        "Full_Y_Data =FullStudyData[\"genre\"]\n",
        "del FullStudyData['genre']\n",
        "del FullStudyData['track_id']\n",
        "del FullStudyData['artist_name']\n",
        "del FullStudyData['title']\n",
        "print(Full_Y_Data)"
      ],
      "execution_count": null,
      "outputs": [
        {
          "name": "stdout",
          "output_type": "stream",
          "text": [
            "0        jazz and blues\n",
            "1        jazz and blues\n",
            "2        jazz and blues\n",
            "3        jazz and blues\n",
            "4        jazz and blues\n",
            "             ...       \n",
            "8345    soul and reggae\n",
            "8346    soul and reggae\n",
            "8347    soul and reggae\n",
            "8348    soul and reggae\n",
            "8349    soul and reggae\n",
            "Name: genre, Length: 8350, dtype: object\n"
          ]
        }
      ]
    },
    {
      "cell_type": "markdown",
      "metadata": {
        "id": "SmnFPQyEXOvm"
      },
      "source": [
        "## **Train Set,  Test Set**"
      ]
    },
    {
      "cell_type": "markdown",
      "metadata": {
        "id": "5w3wA4IXCIX0"
      },
      "source": [
        "En esta sección, se procede a separar los datos. Se tomó el 80% de los datos para entrenamiento y un 20% para probar el modelo. La cantidad de datos utilizados para entrenamiento se puede observar a continuación:"
      ]
    },
    {
      "cell_type": "code",
      "metadata": {
        "colab": {
          "base_uri": "https://localhost:8080/"
        },
        "id": "I-_uKBIhvGAY",
        "outputId": "13002362-ae16-42e7-92a8-4db9c997a1f2"
      },
      "source": [
        "X_train, X_test, y_train, y_test = train_test_split(FullStudyData,\n",
        "                                                    Full_Y_Data,\n",
        "                                                    test_size=0.2,\n",
        "                                                    random_state=1234)\n",
        "\n",
        "y_train.value_counts().sort_index()"
      ],
      "execution_count": null,
      "outputs": [
        {
          "data": {
            "text/plain": [
              "jazz and blues     3468\n",
              "soul and reggae    3212\n",
              "Name: genre, dtype: int64"
            ]
          },
          "execution_count": 7,
          "metadata": {
            "tags": []
          },
          "output_type": "execute_result"
        }
      ]
    },
    {
      "cell_type": "markdown",
      "metadata": {
        "id": "9U7bLO2JXV-y"
      },
      "source": [
        "## **Desbalanceo de clases**"
      ]
    },
    {
      "cell_type": "markdown",
      "metadata": {
        "id": "x5TpIIZ6DKiQ"
      },
      "source": [
        "Debido a que la cantidad de datos existente para cada género no son iguales, se procederá a balancear la cantidad de datos tomando la misma cantidad para cada género."
      ]
    },
    {
      "cell_type": "code",
      "metadata": {
        "colab": {
          "base_uri": "https://localhost:8080/"
        },
        "id": "EYxmLtw_vuhU",
        "outputId": "7c2b6660-9b19-4792-8f9f-5a58ad81ebac"
      },
      "source": [
        "total = pd.concat([y_train,X_train], axis=1)\n",
        "\n",
        "\n",
        "total.sort_index(inplace=True)\n",
        "\n",
        "FullTrainData1= total[total['genre']==\"soul and reggae\"]\n",
        "FullTrainData2= total[total['genre']==\"jazz and blues\"]\n",
        "\n",
        "FullTrainData2 = resample(FullTrainData2, replace=False,\n",
        "                                 n_samples=len(FullTrainData1), \n",
        "                                 random_state=1234)\n",
        "\n",
        "FullTrainData2.sort_index(inplace=True)\n",
        "\n",
        "totalbalanced = FullTrainData1.append(FullTrainData2)\n",
        "print(totalbalanced)\n",
        "\n"
      ],
      "execution_count": null,
      "outputs": [
        {
          "name": "stdout",
          "output_type": "stream",
          "text": [
            "                genre  loudness  ...  var_timbre11  var_timbre12\n",
            "4334  soul and reggae   -10.053  ...    504.924439    256.438449\n",
            "4335  soul and reggae    -9.147  ...    574.946830    202.950315\n",
            "4337  soul and reggae   -10.499  ...    496.256041    332.791504\n",
            "4338  soul and reggae   -11.380  ...    352.441561    202.702421\n",
            "4340  soul and reggae    -7.787  ...    523.406259    299.042235\n",
            "...               ...       ...  ...           ...           ...\n",
            "4328   jazz and blues   -20.476  ...    358.954473    829.700899\n",
            "4329   jazz and blues    -8.653  ...    142.711971    232.783892\n",
            "4330   jazz and blues   -14.888  ...    142.749853    579.211215\n",
            "4332   jazz and blues   -19.253  ...    207.371239    351.108268\n",
            "4333   jazz and blues   -19.217  ...    164.269930    241.251098\n",
            "\n",
            "[6424 rows x 31 columns]\n"
          ]
        }
      ]
    },
    {
      "cell_type": "code",
      "metadata": {
        "colab": {
          "base_uri": "https://localhost:8080/"
        },
        "id": "gIsiaUFcwvnX",
        "outputId": "7edbd792-02ea-4dad-f699-4cd1d79be320"
      },
      "source": [
        "y_train =totalbalanced[\"genre\"]\n",
        "del totalbalanced['genre']\n",
        "\n",
        "X_train= totalbalanced\n",
        "\n",
        "X_train.describe()"
      ],
      "execution_count": null,
      "outputs": [
        {
          "data": {
            "text/html": [
              "<div>\n",
              "<style scoped>\n",
              "    .dataframe tbody tr th:only-of-type {\n",
              "        vertical-align: middle;\n",
              "    }\n",
              "\n",
              "    .dataframe tbody tr th {\n",
              "        vertical-align: top;\n",
              "    }\n",
              "\n",
              "    .dataframe thead th {\n",
              "        text-align: right;\n",
              "    }\n",
              "</style>\n",
              "<table border=\"1\" class=\"dataframe\">\n",
              "  <thead>\n",
              "    <tr style=\"text-align: right;\">\n",
              "      <th></th>\n",
              "      <th>loudness</th>\n",
              "      <th>tempo</th>\n",
              "      <th>time_signature</th>\n",
              "      <th>key</th>\n",
              "      <th>mode</th>\n",
              "      <th>duration</th>\n",
              "      <th>avg_timbre1</th>\n",
              "      <th>avg_timbre2</th>\n",
              "      <th>avg_timbre3</th>\n",
              "      <th>avg_timbre4</th>\n",
              "      <th>avg_timbre5</th>\n",
              "      <th>avg_timbre6</th>\n",
              "      <th>avg_timbre7</th>\n",
              "      <th>avg_timbre8</th>\n",
              "      <th>avg_timbre9</th>\n",
              "      <th>avg_timbre10</th>\n",
              "      <th>avg_timbre11</th>\n",
              "      <th>avg_timbre12</th>\n",
              "      <th>var_timbre1</th>\n",
              "      <th>var_timbre2</th>\n",
              "      <th>var_timbre3</th>\n",
              "      <th>var_timbre4</th>\n",
              "      <th>var_timbre5</th>\n",
              "      <th>var_timbre6</th>\n",
              "      <th>var_timbre7</th>\n",
              "      <th>var_timbre8</th>\n",
              "      <th>var_timbre9</th>\n",
              "      <th>var_timbre10</th>\n",
              "      <th>var_timbre11</th>\n",
              "      <th>var_timbre12</th>\n",
              "    </tr>\n",
              "  </thead>\n",
              "  <tbody>\n",
              "    <tr>\n",
              "      <th>count</th>\n",
              "      <td>6424.000000</td>\n",
              "      <td>6424.000000</td>\n",
              "      <td>6424.000000</td>\n",
              "      <td>6424.000000</td>\n",
              "      <td>6424.000000</td>\n",
              "      <td>6424.000000</td>\n",
              "      <td>6424.000000</td>\n",
              "      <td>6424.000000</td>\n",
              "      <td>6424.000000</td>\n",
              "      <td>6424.000000</td>\n",
              "      <td>6424.000000</td>\n",
              "      <td>6424.000000</td>\n",
              "      <td>6424.000000</td>\n",
              "      <td>6424.000000</td>\n",
              "      <td>6424.000000</td>\n",
              "      <td>6424.000000</td>\n",
              "      <td>6424.000000</td>\n",
              "      <td>6424.000000</td>\n",
              "      <td>6424.000000</td>\n",
              "      <td>6424.000000</td>\n",
              "      <td>6424.000000</td>\n",
              "      <td>6424.000000</td>\n",
              "      <td>6424.000000</td>\n",
              "      <td>6424.000000</td>\n",
              "      <td>6424.000000</td>\n",
              "      <td>6424.000000</td>\n",
              "      <td>6424.000000</td>\n",
              "      <td>6424.000000</td>\n",
              "      <td>6424.000000</td>\n",
              "      <td>6424.000000</td>\n",
              "    </tr>\n",
              "    <tr>\n",
              "      <th>mean</th>\n",
              "      <td>-12.647037</td>\n",
              "      <td>120.228344</td>\n",
              "      <td>3.631227</td>\n",
              "      <td>5.208904</td>\n",
              "      <td>0.612235</td>\n",
              "      <td>297.896149</td>\n",
              "      <td>39.076365</td>\n",
              "      <td>-14.619175</td>\n",
              "      <td>-1.560525</td>\n",
              "      <td>3.328385</td>\n",
              "      <td>4.252270</td>\n",
              "      <td>-4.071827</td>\n",
              "      <td>-2.178518</td>\n",
              "      <td>-0.157555</td>\n",
              "      <td>0.904042</td>\n",
              "      <td>2.274618</td>\n",
              "      <td>-1.179401</td>\n",
              "      <td>2.406670</td>\n",
              "      <td>38.508869</td>\n",
              "      <td>2790.207283</td>\n",
              "      <td>2789.763556</td>\n",
              "      <td>2006.225912</td>\n",
              "      <td>1032.735195</td>\n",
              "      <td>1157.647943</td>\n",
              "      <td>768.515828</td>\n",
              "      <td>611.696963</td>\n",
              "      <td>468.968029</td>\n",
              "      <td>385.058702</td>\n",
              "      <td>353.600217</td>\n",
              "      <td>370.598854</td>\n",
              "    </tr>\n",
              "    <tr>\n",
              "      <th>std</th>\n",
              "      <td>5.765878</td>\n",
              "      <td>36.843608</td>\n",
              "      <td>1.246098</td>\n",
              "      <td>3.574689</td>\n",
              "      <td>0.487278</td>\n",
              "      <td>158.639165</td>\n",
              "      <td>6.504536</td>\n",
              "      <td>54.242496</td>\n",
              "      <td>38.906826</td>\n",
              "      <td>17.345520</td>\n",
              "      <td>22.047676</td>\n",
              "      <td>13.010059</td>\n",
              "      <td>14.949813</td>\n",
              "      <td>8.780333</td>\n",
              "      <td>11.125145</td>\n",
              "      <td>6.287861</td>\n",
              "      <td>4.860879</td>\n",
              "      <td>8.425629</td>\n",
              "      <td>20.518795</td>\n",
              "      <td>1610.260025</td>\n",
              "      <td>1492.534488</td>\n",
              "      <td>1074.798370</td>\n",
              "      <td>447.350943</td>\n",
              "      <td>587.050268</td>\n",
              "      <td>317.642310</td>\n",
              "      <td>291.197441</td>\n",
              "      <td>219.538273</td>\n",
              "      <td>158.219307</td>\n",
              "      <td>170.221942</td>\n",
              "      <td>178.374834</td>\n",
              "    </tr>\n",
              "    <tr>\n",
              "      <th>min</th>\n",
              "      <td>-41.038000</td>\n",
              "      <td>0.000000</td>\n",
              "      <td>0.000000</td>\n",
              "      <td>0.000000</td>\n",
              "      <td>0.000000</td>\n",
              "      <td>1.201180</td>\n",
              "      <td>8.282830</td>\n",
              "      <td>-247.238079</td>\n",
              "      <td>-176.974029</td>\n",
              "      <td>-96.895243</td>\n",
              "      <td>-108.027906</td>\n",
              "      <td>-50.638953</td>\n",
              "      <td>-81.217508</td>\n",
              "      <td>-64.920552</td>\n",
              "      <td>-85.759614</td>\n",
              "      <td>-29.016729</td>\n",
              "      <td>-46.202360</td>\n",
              "      <td>-55.687861</td>\n",
              "      <td>1.552760</td>\n",
              "      <td>319.123937</td>\n",
              "      <td>289.798025</td>\n",
              "      <td>184.377732</td>\n",
              "      <td>149.696791</td>\n",
              "      <td>91.148900</td>\n",
              "      <td>120.953785</td>\n",
              "      <td>97.290693</td>\n",
              "      <td>94.128684</td>\n",
              "      <td>68.044507</td>\n",
              "      <td>49.275323</td>\n",
              "      <td>65.025144</td>\n",
              "    </tr>\n",
              "    <tr>\n",
              "      <th>25%</th>\n",
              "      <td>-15.864250</td>\n",
              "      <td>93.409500</td>\n",
              "      <td>3.000000</td>\n",
              "      <td>2.000000</td>\n",
              "      <td>0.000000</td>\n",
              "      <td>211.284447</td>\n",
              "      <td>35.261855</td>\n",
              "      <td>-46.013676</td>\n",
              "      <td>-24.688900</td>\n",
              "      <td>-7.029443</td>\n",
              "      <td>-8.525267</td>\n",
              "      <td>-12.877804</td>\n",
              "      <td>-10.915174</td>\n",
              "      <td>-5.090554</td>\n",
              "      <td>-5.204997</td>\n",
              "      <td>-1.758847</td>\n",
              "      <td>-3.948213</td>\n",
              "      <td>-2.696842</td>\n",
              "      <td>24.374216</td>\n",
              "      <td>1761.884800</td>\n",
              "      <td>1828.346106</td>\n",
              "      <td>1285.374474</td>\n",
              "      <td>735.551674</td>\n",
              "      <td>749.748108</td>\n",
              "      <td>549.405048</td>\n",
              "      <td>414.933882</td>\n",
              "      <td>325.460138</td>\n",
              "      <td>276.389525</td>\n",
              "      <td>233.262701</td>\n",
              "      <td>266.432432</td>\n",
              "    </tr>\n",
              "    <tr>\n",
              "      <th>50%</th>\n",
              "      <td>-11.612000</td>\n",
              "      <td>116.465000</td>\n",
              "      <td>4.000000</td>\n",
              "      <td>5.000000</td>\n",
              "      <td>1.000000</td>\n",
              "      <td>262.556280</td>\n",
              "      <td>40.129811</td>\n",
              "      <td>-7.544781</td>\n",
              "      <td>-0.490930</td>\n",
              "      <td>2.517845</td>\n",
              "      <td>4.534349</td>\n",
              "      <td>-5.193695</td>\n",
              "      <td>-2.214207</td>\n",
              "      <td>-0.117192</td>\n",
              "      <td>1.535650</td>\n",
              "      <td>2.272523</td>\n",
              "      <td>-1.021966</td>\n",
              "      <td>2.325403</td>\n",
              "      <td>34.801134</td>\n",
              "      <td>2401.807440</td>\n",
              "      <td>2489.002496</td>\n",
              "      <td>1765.485979</td>\n",
              "      <td>957.523793</td>\n",
              "      <td>1048.212319</td>\n",
              "      <td>718.577909</td>\n",
              "      <td>550.056608</td>\n",
              "      <td>422.560321</td>\n",
              "      <td>356.463453</td>\n",
              "      <td>321.919955</td>\n",
              "      <td>334.049812</td>\n",
              "    </tr>\n",
              "    <tr>\n",
              "      <th>75%</th>\n",
              "      <td>-8.338750</td>\n",
              "      <td>143.824750</td>\n",
              "      <td>4.000000</td>\n",
              "      <td>8.000000</td>\n",
              "      <td>1.000000</td>\n",
              "      <td>344.384853</td>\n",
              "      <td>43.867065</td>\n",
              "      <td>22.028306</td>\n",
              "      <td>21.347940</td>\n",
              "      <td>12.846353</td>\n",
              "      <td>17.613140</td>\n",
              "      <td>3.238165</td>\n",
              "      <td>6.803009</td>\n",
              "      <td>5.000172</td>\n",
              "      <td>7.704495</td>\n",
              "      <td>6.342328</td>\n",
              "      <td>1.855217</td>\n",
              "      <td>7.306137</td>\n",
              "      <td>48.136136</td>\n",
              "      <td>3359.738637</td>\n",
              "      <td>3351.837209</td>\n",
              "      <td>2455.530776</td>\n",
              "      <td>1242.835140</td>\n",
              "      <td>1435.572136</td>\n",
              "      <td>925.270788</td>\n",
              "      <td>743.735176</td>\n",
              "      <td>556.490708</td>\n",
              "      <td>465.654356</td>\n",
              "      <td>438.555308</td>\n",
              "      <td>424.963374</td>\n",
              "    </tr>\n",
              "    <tr>\n",
              "      <th>max</th>\n",
              "      <td>-0.278000</td>\n",
              "      <td>250.120000</td>\n",
              "      <td>7.000000</td>\n",
              "      <td>11.000000</td>\n",
              "      <td>1.000000</td>\n",
              "      <td>2873.808530</td>\n",
              "      <td>54.264115</td>\n",
              "      <td>368.413738</td>\n",
              "      <td>268.371590</td>\n",
              "      <td>106.820000</td>\n",
              "      <td>126.060726</td>\n",
              "      <td>100.846598</td>\n",
              "      <td>77.515336</td>\n",
              "      <td>60.334705</td>\n",
              "      <td>56.727201</td>\n",
              "      <td>38.294126</td>\n",
              "      <td>20.172152</td>\n",
              "      <td>53.540906</td>\n",
              "      <td>285.886371</td>\n",
              "      <td>20565.107212</td>\n",
              "      <td>18170.312109</td>\n",
              "      <td>11636.309435</td>\n",
              "      <td>5935.409392</td>\n",
              "      <td>7191.936920</td>\n",
              "      <td>4851.017437</td>\n",
              "      <td>4057.268420</td>\n",
              "      <td>2734.244639</td>\n",
              "      <td>1794.267857</td>\n",
              "      <td>2049.996543</td>\n",
              "      <td>2417.601217</td>\n",
              "    </tr>\n",
              "  </tbody>\n",
              "</table>\n",
              "</div>"
            ],
            "text/plain": [
              "          loudness        tempo  ...  var_timbre11  var_timbre12\n",
              "count  6424.000000  6424.000000  ...   6424.000000   6424.000000\n",
              "mean    -12.647037   120.228344  ...    353.600217    370.598854\n",
              "std       5.765878    36.843608  ...    170.221942    178.374834\n",
              "min     -41.038000     0.000000  ...     49.275323     65.025144\n",
              "25%     -15.864250    93.409500  ...    233.262701    266.432432\n",
              "50%     -11.612000   116.465000  ...    321.919955    334.049812\n",
              "75%      -8.338750   143.824750  ...    438.555308    424.963374\n",
              "max      -0.278000   250.120000  ...   2049.996543   2417.601217\n",
              "\n",
              "[8 rows x 30 columns]"
            ]
          },
          "execution_count": 9,
          "metadata": {
            "tags": []
          },
          "output_type": "execute_result"
        }
      ]
    },
    {
      "cell_type": "code",
      "metadata": {
        "colab": {
          "base_uri": "https://localhost:8080/"
        },
        "id": "qDSSajGbuKSy",
        "outputId": "4bdd7fe8-fd83-4d89-af2c-a879925f2d1e"
      },
      "source": [
        "y_train.value_counts().sort_index()"
      ],
      "execution_count": null,
      "outputs": [
        {
          "data": {
            "text/plain": [
              "jazz and blues     3212\n",
              "soul and reggae    3212\n",
              "Name: genre, dtype: int64"
            ]
          },
          "execution_count": 10,
          "metadata": {
            "tags": []
          },
          "output_type": "execute_result"
        }
      ]
    },
    {
      "cell_type": "markdown",
      "metadata": {
        "id": "soW2V-n0D7WF"
      },
      "source": [
        "Una vez se tenga la misma cantidad de datos para cada género, se procede identificar el género \"jazz and blues\" como 0 y \"soul and reggae\" como 1, de esta forma, ya todo el set de datos queda balanceado y la salida binarizada."
      ]
    },
    {
      "cell_type": "code",
      "metadata": {
        "colab": {
          "base_uri": "https://localhost:8080/"
        },
        "id": "y1fj1o-m3imy",
        "outputId": "287b351f-d82f-43be-c78b-599d693c68c2"
      },
      "source": [
        "y_train=y_train.replace('jazz and blues',0)\n",
        "y_train=y_train.replace('soul and reggae',1)\n",
        "\n",
        "y_test=y_test.replace('jazz and blues',0)\n",
        "y_test=y_test.replace('soul and reggae',1)\n",
        "\n",
        "\n",
        "print(y_test)"
      ],
      "execution_count": null,
      "outputs": [
        {
          "name": "stdout",
          "output_type": "stream",
          "text": [
            "4216    0\n",
            "538     0\n",
            "8234    1\n",
            "7051    1\n",
            "3759    0\n",
            "       ..\n",
            "8160    1\n",
            "4083    0\n",
            "593     0\n",
            "4462    1\n",
            "8340    1\n",
            "Name: genre, Length: 1670, dtype: int64\n"
          ]
        }
      ]
    },
    {
      "cell_type": "markdown",
      "metadata": {
        "id": "0Vt-AR5nXdUl"
      },
      "source": [
        "## **Modelamiento**"
      ]
    },
    {
      "cell_type": "markdown",
      "metadata": {
        "id": "uugpxhVZEgTf"
      },
      "source": [
        "En esta sección, se procede a crear el primer modelo de perceptrón multicapa. Este primer modelo tendrá una única capa escondida con 15 neuronas y la función de activación será la \"Relu\"."
      ]
    },
    {
      "cell_type": "code",
      "metadata": {
        "id": "3pyb3v416orB"
      },
      "source": [
        "stsc_X = StandardScaler()\n",
        "X_trainscaled=stsc_X.fit_transform(X_train)\n",
        "X_testscaled=stsc_X.transform(X_test)\n",
        "\n",
        "clf = MLPClassifier(hidden_layer_sizes=(15), activation=\"relu\" ,random_state=1, max_iter=2000).fit(X_trainscaled, y_train)"
      ],
      "execution_count": null,
      "outputs": []
    },
    {
      "cell_type": "markdown",
      "metadata": {
        "id": "AK4kiMJ6XhUM"
      },
      "source": [
        "## **Predicción y Validación**"
      ]
    },
    {
      "cell_type": "markdown",
      "metadata": {
        "id": "34wrSCJhFcth"
      },
      "source": [
        "Una vez entrenado el modelo, se procede a realizar la predicción de los datos y evaluar su desempeño. El *Accuracy Score* indica el porcentaje de aciertos totales realizados en la predicción; este indicador será el principal criterio que utilizaremos a la hora de evaluar e desempeño del modelo. El *Recall Score* representa la proporción de predicciones acertadas de 1. El *Precision Score* representa la habilidad de **no** clasificar como 1 a datos que en verdad son 0."
      ]
    },
    {
      "cell_type": "code",
      "metadata": {
        "colab": {
          "base_uri": "https://localhost:8080/"
        },
        "id": "YNcf4Lm-BOr_",
        "outputId": "b150e960-43ab-4e52-c77a-0c380a87d6e1"
      },
      "source": [
        "y_pred=clf.predict(X_testscaled)\n",
        "print('Accuracy Score: ', round(accuracy_score(y_test, y_pred)*100,2),'%')\n",
        "print('Recall Score: ', round(recall_score(y_test, y_pred)*100,2),'%')\n",
        "print('Precision Score: ', round(precision_score(y_test, y_pred)*100,2),'%')\n"
      ],
      "execution_count": null,
      "outputs": [
        {
          "name": "stdout",
          "output_type": "stream",
          "text": [
            "Accuracy Score:  84.37 %\n",
            "Recall Score:  85.45 %\n",
            "Precision Score:  82.67 %\n"
          ]
        }
      ]
    },
    {
      "cell_type": "markdown",
      "metadata": {
        "id": "FyLN4ZHzJ8Fv"
      },
      "source": [
        "Ahora, procedemos a determinar la matriz de confusión en la cual se pueden observar cuantos 0 fueron clasificados como 0, cuantos 0 fueron clasificados como 1, cuantos 1 fueron clasificados como 0 y cuantos 1 fueron clasificados como 1. Lo mejor posible es que la diagonal tenga la mayor cantidad de datos y las otras dos esquinas sean 0."
      ]
    },
    {
      "cell_type": "code",
      "metadata": {
        "colab": {
          "base_uri": "https://localhost:8080/",
          "height": 107
        },
        "id": "3tXLK61WV5N4",
        "outputId": "02e60d51-cc00-4e24-b508-91f54b30b48c"
      },
      "source": [
        "conf_matrix22 = confusion_matrix(y_test, y_pred)\n",
        "pd.DataFrame(conf_matrix22)"
      ],
      "execution_count": null,
      "outputs": [
        {
          "data": {
            "text/html": [
              "<div>\n",
              "<style scoped>\n",
              "    .dataframe tbody tr th:only-of-type {\n",
              "        vertical-align: middle;\n",
              "    }\n",
              "\n",
              "    .dataframe tbody tr th {\n",
              "        vertical-align: top;\n",
              "    }\n",
              "\n",
              "    .dataframe thead th {\n",
              "        text-align: right;\n",
              "    }\n",
              "</style>\n",
              "<table border=\"1\" class=\"dataframe\">\n",
              "  <thead>\n",
              "    <tr style=\"text-align: right;\">\n",
              "      <th></th>\n",
              "      <th>0</th>\n",
              "      <th>1</th>\n",
              "    </tr>\n",
              "  </thead>\n",
              "  <tbody>\n",
              "    <tr>\n",
              "      <th>0</th>\n",
              "      <td>722</td>\n",
              "      <td>144</td>\n",
              "    </tr>\n",
              "    <tr>\n",
              "      <th>1</th>\n",
              "      <td>117</td>\n",
              "      <td>687</td>\n",
              "    </tr>\n",
              "  </tbody>\n",
              "</table>\n",
              "</div>"
            ],
            "text/plain": [
              "     0    1\n",
              "0  722  144\n",
              "1  117  687"
            ]
          },
          "execution_count": 14,
          "metadata": {
            "tags": []
          },
          "output_type": "execute_result"
        }
      ]
    },
    {
      "cell_type": "markdown",
      "metadata": {
        "id": "nLVBXyLKKExv"
      },
      "source": [
        "Se procede a normalizar la matriz para así poder comparar los resultados obtenidos para la clasificación de 0 y de 1. Los valores que tendremos en cuenta son aquellos que representaron errores, es decir, cuando los 0 se clasificaron como 1 y los 1 se clasificaron como 0."
      ]
    },
    {
      "cell_type": "code",
      "metadata": {
        "colab": {
          "base_uri": "https://localhost:8080/",
          "height": 107
        },
        "id": "nwwfx_P4WBNn",
        "outputId": "f83982a9-91d7-4b6a-bfdc-a39ce774af03"
      },
      "source": [
        "norm_conf_mat22 = conf_matrix22 / conf_matrix22.sum(axis=1, keepdims=True)\n",
        "np.fill_diagonal(norm_conf_mat22, 0)\n",
        "pd.DataFrame(norm_conf_mat22)"
      ],
      "execution_count": null,
      "outputs": [
        {
          "data": {
            "text/html": [
              "<div>\n",
              "<style scoped>\n",
              "    .dataframe tbody tr th:only-of-type {\n",
              "        vertical-align: middle;\n",
              "    }\n",
              "\n",
              "    .dataframe tbody tr th {\n",
              "        vertical-align: top;\n",
              "    }\n",
              "\n",
              "    .dataframe thead th {\n",
              "        text-align: right;\n",
              "    }\n",
              "</style>\n",
              "<table border=\"1\" class=\"dataframe\">\n",
              "  <thead>\n",
              "    <tr style=\"text-align: right;\">\n",
              "      <th></th>\n",
              "      <th>0</th>\n",
              "      <th>1</th>\n",
              "    </tr>\n",
              "  </thead>\n",
              "  <tbody>\n",
              "    <tr>\n",
              "      <th>0</th>\n",
              "      <td>0.000000</td>\n",
              "      <td>0.166282</td>\n",
              "    </tr>\n",
              "    <tr>\n",
              "      <th>1</th>\n",
              "      <td>0.145522</td>\n",
              "      <td>0.000000</td>\n",
              "    </tr>\n",
              "  </tbody>\n",
              "</table>\n",
              "</div>"
            ],
            "text/plain": [
              "          0         1\n",
              "0  0.000000  0.166282\n",
              "1  0.145522  0.000000"
            ]
          },
          "execution_count": 15,
          "metadata": {
            "tags": []
          },
          "output_type": "execute_result"
        }
      ]
    },
    {
      "cell_type": "markdown",
      "metadata": {
        "id": "33j9RSmhKNyo"
      },
      "source": [
        "Ahora observamos la matriz normalizada en una forma gráfica, mientras el recuadro sea más oscuro, será un mejor valor y mientras más blanco sea, será peor. En este caso, se obtuvo un 16,63% de 0 clasificados como 1 y un 14,55% de 1 clasificados como 0."
      ]
    },
    {
      "cell_type": "code",
      "metadata": {
        "colab": {
          "base_uri": "https://localhost:8080/",
          "height": 275
        },
        "id": "8g-SY3edBOkD",
        "outputId": "05ab92d3-e5b2-4f60-b9c9-7fa5039b595b"
      },
      "source": [
        "conf_matrix22 = confusion_matrix(y_test, y_pred)\n",
        "pd.DataFrame(conf_matrix22)\n",
        "norm_conf_mat22 = conf_matrix22 / conf_matrix22.sum(axis=1, keepdims=True)\n",
        "np.fill_diagonal(norm_conf_mat22, 0)\n",
        "plt.matshow(norm_conf_mat22, cmap=\"gray\")\n",
        "plt.grid(0)\n",
        "plt.show()"
      ],
      "execution_count": null,
      "outputs": [
        {
          "data": {
            "image/png": "[encoded data removed]",
            "text/plain": [
              "<Figure size 288x288 with 1 Axes>"
            ]
          },
          "metadata": {
            "tags": []
          },
          "output_type": "display_data"
        }
      ]
    },
    {
      "cell_type": "markdown",
      "metadata": {
        "id": "lsmeiSQKZEB9"
      },
      "source": [
        "Con el fin de realizar multipels pruebas se realizo:"
      ]
    },
    {
      "cell_type": "markdown",
      "metadata": {
        "id": "2lfeAg3KK-h9"
      },
      "source": [
        "### **Pruebas de mejor Modelo**"
      ]
    },
    {
      "cell_type": "markdown",
      "metadata": {
        "id": "SvpzexQrLJVw"
      },
      "source": [
        "En esta sección, se procederá a probar distintos modelos de 1 capa escondida, variando el número de neuronas, la función de activación y el *solver*. En otras palabras, se realoizará un análisis de sensibilidad ante cada uno de estos factores.\n",
        "\n",
        "Inicialmente, empezaremos analizando el desempeño con distintas neuronas en pasos de 5 en 5 utilizando la función de activación Relu."
      ]
    },
    {
      "cell_type": "code",
      "metadata": {
        "colab": {
          "base_uri": "https://localhost:8080/",
          "height": 373,
          "referenced_widgets": [
            "7929b3cd68b248c59924537ca610625a",
            "396ef0f3fb1646ed917c74d0afd7f8c8",
            "077e10553ea6487581121652a166d218",
            "25766260db82490ab9ab2a396c3885d6",
            "4befac49d6db4916944a21643bc40837",
            "fc6ffb0f1c924ef4be5b15b2043188d2",
            "577c3c542242456aa627e5264124b437",
            "9f72885d1a2645cc846a11346f868c3f"
          ]
        },
        "id": "JD_qdPJ6ZHW9",
        "outputId": "37902582-cc4d-442d-dac7-b64aadc0e98b"
      },
      "source": [
        "rec_scores = {}\n",
        "prec_scores = {}\n",
        "\n",
        "for k in tqdm(range(5, 31, 5)):\n",
        "  clf = MLPClassifier(hidden_layer_sizes=(k),activation=\"relu\" ,random_state=1, max_iter=2000).fit(X_trainscaled, y_train)\n",
        "  y_pred=clf.predict(X_testscaled)\n",
        "  rec_scores[k] = recall_score(y_test, y_pred, average=\"weighted\")\n",
        "  prec_scores[k] = precision_score(y_test, y_pred, average=\"weighted\")\n",
        "  print(f\"------Number of Neurons: {k}--------\")\n",
        "  print(f\"Recall Score: {rec_scores[k]}\")\n",
        "  print(f\"Precision Score: {prec_scores[k]}\")\n",
        "\n"
      ],
      "execution_count": null,
      "outputs": [
        {
          "data": {
            "application/vnd.jupyter.widget-view+json": {
              "model_id": "7929b3cd68b248c59924537ca610625a",
              "version_major": 2,
              "version_minor": 0
            },
            "text/plain": [
              "HBox(children=(FloatProgress(value=0.0, max=6.0), HTML(value='')))"
            ]
          },
          "metadata": {
            "tags": []
          },
          "output_type": "display_data"
        },
        {
          "name": "stdout",
          "output_type": "stream",
          "text": [
            "------Number of Neurons: 5--------\n",
            "Recall Score: 0.8287425149700599\n",
            "Precision Score: 0.8306492613395088\n",
            "------Number of Neurons: 10--------\n",
            "Recall Score: 0.8526946107784431\n",
            "Precision Score: 0.8528461261799309\n",
            "------Number of Neurons: 15--------\n",
            "Recall Score: 0.8437125748502994\n",
            "Precision Score: 0.8442595830528845\n",
            "------Number of Neurons: 20--------\n",
            "Recall Score: 0.8407185628742515\n",
            "Precision Score: 0.8415242719994196\n",
            "------Number of Neurons: 25--------\n",
            "Recall Score: 0.8580838323353294\n",
            "Precision Score: 0.8585625940845103\n",
            "------Number of Neurons: 30--------\n",
            "Recall Score: 0.834131736526946\n",
            "Precision Score: 0.834158203857462\n",
            "\n"
          ]
        }
      ]
    },
    {
      "cell_type": "code",
      "metadata": {
        "id": "gZzTe8pNaKIA"
      },
      "source": [
        "total_data = {\n",
        "    \"k\": list(range(5, 31, 5)),\n",
        "    \"rec_scores\": list(rec_scores.values()),\n",
        "    \"prec_scores\": list(prec_scores.values())\n",
        "}\n",
        "\n",
        "total_df = pd.DataFrame(total_data)"
      ],
      "execution_count": null,
      "outputs": []
    },
    {
      "cell_type": "markdown",
      "metadata": {
        "id": "bLA58B-dPKWM"
      },
      "source": [
        "En las gráficas presentadas a continuación, se puede observar que en el caso de 25 neuronas, se obtuvieron los mejores \"Recall Score\" y \"Precision Score\", con unos valores alrededor de 86%."
      ]
    },
    {
      "cell_type": "code",
      "metadata": {
        "colab": {
          "base_uri": "https://localhost:8080/",
          "height": 282
        },
        "id": "HHaJM3AYaTxk",
        "outputId": "c97828bc-0699-404e-b0a6-12b976d1ee4e"
      },
      "source": [
        "plt.bar(total_df[\"k\"], total_df[\"rec_scores\"],width=2)\n",
        "plt.ylim((0.7, 0.9))\n",
        "plt.grid(which='major', axis='y')\n",
        "plt.xlabel(\"Neurons\")\n",
        "plt.ylabel(\"Recall\")\n",
        "plt.show()"
      ],
      "execution_count": null,
      "outputs": [
        {
          "data": {
            "image/png": "[encoded data removed]",
            "text/plain": [
              "<Figure size 432x288 with 1 Axes>"
            ]
          },
          "metadata": {
            "tags": []
          },
          "output_type": "display_data"
        }
      ]
    },
    {
      "cell_type": "code",
      "metadata": {
        "colab": {
          "base_uri": "https://localhost:8080/",
          "height": 282
        },
        "id": "Qvh1265gaZYO",
        "outputId": "91a3e899-de20-4f0b-e25c-d374a2625c46"
      },
      "source": [
        "plt.bar(total_df[\"k\"], total_df[\"rec_scores\"],width=2)\n",
        "plt.ylim((0.7, 0.9))\n",
        "plt.grid(which='major', axis='y')\n",
        "plt.xlabel(\"Neurons\")\n",
        "plt.ylabel(\"Precision\")\n",
        "plt.show()"
      ],
      "execution_count": null,
      "outputs": [
        {
          "data": {
            "image/png": "[encoded data removed]",
            "text/plain": [
              "<Figure size 432x288 with 1 Axes>"
            ]
          },
          "metadata": {
            "tags": []
          },
          "output_type": "display_data"
        }
      ]
    },
    {
      "cell_type": "markdown",
      "metadata": {
        "id": "DWL11lUTbor6"
      },
      "source": [
        "Ahora se procede a realizar el mismo análisis con la excepción de la función de activación, la cual será \"Tanh\" en este caso."
      ]
    },
    {
      "cell_type": "code",
      "metadata": {
        "colab": {
          "base_uri": "https://localhost:8080/",
          "height": 373,
          "referenced_widgets": [
            "aebc339daa314c4380e0673e6fe315a7",
            "afeea44958de4a1c828cb7c4a4109621",
            "334b1d65cbad4bec86f1083daf210800",
            "1dc07254b86b4217bca180b74289db92",
            "aa25368ab22742c599bc4f204f87da67",
            "23632269c48d4d21b67dfb56ff7d8eb6",
            "39ccd1ce0b9e4a139117661f83a4c296",
            "0e0305da0cd04d80845ea0b575ff36cc"
          ]
        },
        "id": "bMjB_Ry7a4le",
        "outputId": "d17e7426-9dcc-41f2-9190-1f8d0dd40316"
      },
      "source": [
        "rec_scores = {}\n",
        "prec_scores = {}\n",
        "\n",
        "for k in tqdm(range(5, 31, 5)):\n",
        "  clf = MLPClassifier(hidden_layer_sizes=(k),activation=\"tanh\" ,random_state=1, max_iter=2000).fit(X_trainscaled, y_train)\n",
        "  y_pred=clf.predict(X_testscaled)\n",
        "  rec_scores[k] = recall_score(y_test, y_pred, average=\"weighted\")\n",
        "  prec_scores[k] = precision_score(y_test, y_pred, average=\"weighted\")\n",
        "  print(f\"------Number of Neighbors: {k}--------\")\n",
        "  print(f\"Recall Score: {rec_scores[k]}\")\n",
        "  print(f\"Precision Score: {prec_scores[k]}\")"
      ],
      "execution_count": null,
      "outputs": [
        {
          "data": {
            "application/vnd.jupyter.widget-view+json": {
              "model_id": "aebc339daa314c4380e0673e6fe315a7",
              "version_major": 2,
              "version_minor": 0
            },
            "text/plain": [
              "HBox(children=(FloatProgress(value=0.0, max=6.0), HTML(value='')))"
            ]
          },
          "metadata": {
            "tags": []
          },
          "output_type": "display_data"
        },
        {
          "name": "stdout",
          "output_type": "stream",
          "text": [
            "------Number of Neighbors: 5--------\n",
            "Recall Score: 0.829940119760479\n",
            "Precision Score: 0.8304566254753831\n",
            "------Number of Neighbors: 10--------\n",
            "Recall Score: 0.8395209580838323\n",
            "Precision Score: 0.8401025285577185\n",
            "------Number of Neighbors: 15--------\n",
            "Recall Score: 0.8479041916167664\n",
            "Precision Score: 0.8483539375859456\n",
            "------Number of Neighbors: 20--------\n",
            "Recall Score: 0.8359281437125748\n",
            "Precision Score: 0.8359650710753724\n",
            "------Number of Neighbors: 25--------\n",
            "Recall Score: 0.8215568862275449\n",
            "Precision Score: 0.8215746202659473\n",
            "------Number of Neighbors: 30--------\n",
            "Recall Score: 0.8107784431137725\n",
            "Precision Score: 0.8115797721153983\n",
            "\n"
          ]
        }
      ]
    },
    {
      "cell_type": "code",
      "metadata": {
        "id": "9oQ8M63ebwoS"
      },
      "source": [
        "total_data = {\n",
        "    \"k\": list(range(5, 31, 5)),\n",
        "    \"rec_scores\": list(rec_scores.values()),\n",
        "    \"prec_scores\": list(prec_scores.values())\n",
        "}\n",
        "\n",
        "total_df = pd.DataFrame(total_data)"
      ],
      "execution_count": null,
      "outputs": []
    },
    {
      "cell_type": "markdown",
      "metadata": {
        "id": "4VBIsFJsQbLQ"
      },
      "source": [
        "En las gráficas presentadas a continuación, se puede observar que en el caso de 15 neuronas, se obtuvieron los mejores \"Recall Score\" y \"Precision Score\", con unos valores alrededor de 85%."
      ]
    },
    {
      "cell_type": "code",
      "metadata": {
        "colab": {
          "base_uri": "https://localhost:8080/",
          "height": 282
        },
        "id": "H0QT4MLKbzYP",
        "outputId": "dbcbe8e0-920b-453d-c00a-2c8bcdf34e15"
      },
      "source": [
        "plt.bar(total_df[\"k\"], total_df[\"rec_scores\"],width=2)\n",
        "plt.ylim((0.7, 0.9))\n",
        "plt.grid(which='major', axis='y')\n",
        "plt.xlabel(\"Neurons\")\n",
        "plt.ylabel(\"Recall\")\n",
        "plt.show()"
      ],
      "execution_count": null,
      "outputs": [
        {
          "data": {
            "image/png": "[encoded data removed]",
            "text/plain": [
              "<Figure size 432x288 with 1 Axes>"
            ]
          },
          "metadata": {
            "tags": []
          },
          "output_type": "display_data"
        }
      ]
    },
    {
      "cell_type": "code",
      "metadata": {
        "colab": {
          "base_uri": "https://localhost:8080/",
          "height": 282
        },
        "id": "ya3oBed9b4qr",
        "outputId": "87cb2185-5445-453a-d029-99514a8eeb65"
      },
      "source": [
        "plt.bar(total_df[\"k\"], total_df[\"rec_scores\"],width=2)\n",
        "plt.ylim((0.7, 0.9))\n",
        "plt.grid(which='major', axis='y')\n",
        "plt.xlabel(\"Neurons\")\n",
        "plt.ylabel(\"Precision\")\n",
        "plt.show()"
      ],
      "execution_count": null,
      "outputs": [
        {
          "data": {
            "image/png": "[encoded data removed]",
            "text/plain": [
              "<Figure size 432x288 with 1 Axes>"
            ]
          },
          "metadata": {
            "tags": []
          },
          "output_type": "display_data"
        }
      ]
    },
    {
      "cell_type": "markdown",
      "metadata": {
        "id": "folmdZQIcSJT"
      },
      "source": [
        "En base a los resultados obtenidos anteriormente, se puede determinar que la función de activación Relu tuvo un mejor desempeño que la función de activación Tanh. Ahora, haremos el mismo análisis, pero, se utilizara la función de activación Relu y se cambiará el *solver*."
      ]
    },
    {
      "cell_type": "code",
      "metadata": {
        "colab": {
          "base_uri": "https://localhost:8080/",
          "height": 373,
          "referenced_widgets": [
            "4fa994a95fdf4f02ac33061bffe20af1",
            "65ce59caecaf4404bc5d706a7f29525b",
            "9a8ff115a0f749a1a2c851826ffb5141",
            "ae5b37d8636247f89b88ee3462ca4d02",
            "bd05614e8bc846aa96f6bd4dc533bc14",
            "f9e538c7af6d4bb89783c329fe35a2b0",
            "eca3d9c71f6a42679e6ee618389a0b21",
            "6166659bcb894757bbb7a5fbd822a2b2"
          ]
        },
        "id": "yECP3ZPnco8R",
        "outputId": "831c7526-31b8-4f43-8043-961c66fd0a77"
      },
      "source": [
        "rec_scores = {}\n",
        "prec_scores = {}\n",
        "\n",
        "for k in tqdm(range(5,31, 5)):\n",
        "  clf = MLPClassifier(hidden_layer_sizes=(k),activation=\"relu\",random_state=1, max_iter=2000,solver='sgd').fit(X_trainscaled, y_train)\n",
        "  y_pred=clf.predict(X_testscaled)\n",
        "  rec_scores[k] = recall_score(y_test, y_pred, average=\"weighted\")\n",
        "  prec_scores[k] = precision_score(y_test, y_pred, average=\"weighted\")\n",
        "  print(f\"------Number of k: {k}--------\")\n",
        "  print(f\"Recall Score: {rec_scores[k]}\")\n",
        "  print(f\"Precision Score: {prec_scores[k]}\")"
      ],
      "execution_count": null,
      "outputs": [
        {
          "data": {
            "application/vnd.jupyter.widget-view+json": {
              "model_id": "4fa994a95fdf4f02ac33061bffe20af1",
              "version_major": 2,
              "version_minor": 0
            },
            "text/plain": [
              "HBox(children=(FloatProgress(value=0.0, max=6.0), HTML(value='')))"
            ]
          },
          "metadata": {
            "tags": []
          },
          "output_type": "display_data"
        },
        {
          "name": "stdout",
          "output_type": "stream",
          "text": [
            "------Number of k: 5--------\n",
            "Recall Score: 0.8353293413173652\n",
            "Precision Score: 0.8366330998195651\n",
            "------Number of k: 10--------\n",
            "Recall Score: 0.848502994011976\n",
            "Precision Score: 0.8489223741108367\n",
            "------Number of k: 15--------\n",
            "Recall Score: 0.829940119760479\n",
            "Precision Score: 0.8300990799775293\n",
            "------Number of k: 20--------\n",
            "Recall Score: 0.8365269461077844\n",
            "Precision Score: 0.8370103458144406\n",
            "------Number of k: 25--------\n",
            "Recall Score: 0.8431137724550898\n",
            "Precision Score: 0.8440895207072858\n",
            "------Number of k: 30--------\n",
            "Recall Score: 0.8455089820359282\n",
            "Precision Score: 0.8456273015061979\n",
            "\n"
          ]
        }
      ]
    },
    {
      "cell_type": "markdown",
      "metadata": {
        "id": "vHAObmyXTPHW"
      },
      "source": [
        "En las valores obtenidos anteriormente, se puede observar que en el caso de 10 neuronas, se obtuvieron los mejores \"Recall Score\" y \"Precision Score\", con unos valores alrededor de 85%. Ahora cambiemos el *solver* y observemos los resultados."
      ]
    },
    {
      "cell_type": "code",
      "metadata": {
        "colab": {
          "base_uri": "https://localhost:8080/",
          "height": 680,
          "referenced_widgets": [
            "0f322e9f2d6b45eb951c8a4c110de401",
            "fbdf452c43a54f249a9ac5d931edd4e4",
            "1126bec0fd4a4b8d8632fb7465192847",
            "4329c1c1167f42aaaf051bd2c59ad160",
            "0978a61542004df59faf20c8297bdf9a",
            "656eab0731ba4eb4a940971d28510918",
            "07b44b62359e47589fe512f1e12e2647",
            "5b734047164a4abcb876b3656fa90d3c"
          ]
        },
        "id": "2EEA72qmdbUi",
        "outputId": "14217516-e3c9-40dd-de05-c28a89ad30d8"
      },
      "source": [
        "rec_scores = {}\n",
        "prec_scores = {}\n",
        "\n",
        "for k in tqdm(range(5,31, 5)):\n",
        "  clf = MLPClassifier(hidden_layer_sizes=(k),activation=\"relu\",random_state=1, max_iter=2000,solver='lbfgs').fit(X_trainscaled, y_train)\n",
        "  y_pred=clf.predict(X_testscaled)\n",
        "  rec_scores[k] = recall_score(y_test, y_pred, average=\"weighted\")\n",
        "  prec_scores[k] = precision_score(y_test, y_pred, average=\"weighted\")\n",
        "  print(f\"------Number of k: {k}--------\")\n",
        "  print(f\"Recall Score: {rec_scores[k]}\")\n",
        "  print(f\"Precision Score: {prec_scores[k]}\")"
      ],
      "execution_count": null,
      "outputs": [
        {
          "data": {
            "application/vnd.jupyter.widget-view+json": {
              "model_id": "0f322e9f2d6b45eb951c8a4c110de401",
              "version_major": 2,
              "version_minor": 0
            },
            "text/plain": [
              "HBox(children=(FloatProgress(value=0.0, max=6.0), HTML(value='')))"
            ]
          },
          "metadata": {
            "tags": []
          },
          "output_type": "display_data"
        },
        {
          "name": "stdout",
          "output_type": "stream",
          "text": [
            "------Number of k: 5--------\n",
            "Recall Score: 0.837125748502994\n",
            "Precision Score: 0.8390493431741168\n",
            "------Number of k: 10--------\n",
            "Recall Score: 0.8437125748502994\n",
            "Precision Score: 0.8440759535259766\n",
            "------Number of k: 15--------\n",
            "Recall Score: 0.8437125748502994\n",
            "Precision Score: 0.8438487399326844\n"
          ]
        },
        {
          "name": "stderr",
          "output_type": "stream",
          "text": [
            "/usr/local/lib/python3.6/dist-packages/sklearn/neural_network/_multilayer_perceptron.py:470: ConvergenceWarning: lbfgs failed to converge (status=1):\n",
            "STOP: TOTAL NO. of ITERATIONS REACHED LIMIT.\n",
            "\n",
            "Increase the number of iterations (max_iter) or scale the data as shown in:\n",
            "    https://scikit-learn.org/stable/modules/preprocessing.html\n",
            "  self.n_iter_ = _check_optimize_result(\"lbfgs\", opt_res, self.max_iter)\n"
          ]
        },
        {
          "name": "stdout",
          "output_type": "stream",
          "text": [
            "------Number of k: 20--------\n",
            "Recall Score: 0.8281437125748503\n",
            "Precision Score: 0.8283643041778945\n"
          ]
        },
        {
          "name": "stderr",
          "output_type": "stream",
          "text": [
            "/usr/local/lib/python3.6/dist-packages/sklearn/neural_network/_multilayer_perceptron.py:470: ConvergenceWarning: lbfgs failed to converge (status=1):\n",
            "STOP: TOTAL NO. of ITERATIONS REACHED LIMIT.\n",
            "\n",
            "Increase the number of iterations (max_iter) or scale the data as shown in:\n",
            "    https://scikit-learn.org/stable/modules/preprocessing.html\n",
            "  self.n_iter_ = _check_optimize_result(\"lbfgs\", opt_res, self.max_iter)\n"
          ]
        },
        {
          "name": "stdout",
          "output_type": "stream",
          "text": [
            "------Number of k: 25--------\n",
            "Recall Score: 0.8293413173652695\n",
            "Precision Score: 0.829447942953776\n",
            "------Number of k: 30--------\n",
            "Recall Score: 0.818562874251497\n",
            "Precision Score: 0.8188811552901003\n",
            "\n"
          ]
        },
        {
          "name": "stderr",
          "output_type": "stream",
          "text": [
            "/usr/local/lib/python3.6/dist-packages/sklearn/neural_network/_multilayer_perceptron.py:470: ConvergenceWarning: lbfgs failed to converge (status=1):\n",
            "STOP: TOTAL NO. of ITERATIONS REACHED LIMIT.\n",
            "\n",
            "Increase the number of iterations (max_iter) or scale the data as shown in:\n",
            "    https://scikit-learn.org/stable/modules/preprocessing.html\n",
            "  self.n_iter_ = _check_optimize_result(\"lbfgs\", opt_res, self.max_iter)\n"
          ]
        }
      ]
    },
    {
      "cell_type": "markdown",
      "metadata": {
        "id": "haIKTNAycozV"
      },
      "source": [
        "En las valores obtenidos anteriormente, se puede observar que en el caso de 10 neuronas, se obtuvieron los mejores \"Recall Score\" y \"Precision Score\", con unos valores alrededor de 84%. Cabe destacar que algunos modelos con este *solver* no logro converger incluso aumentando el número de iteraciones a 3000. De igual forma, se puede observar que el *solver* \"sgd\" fue el qe obtuvo el mejor desempeño.\n",
        "\n",
        "Para realizar una mejor búsqueda del modelo que presente un mejor desempeño, se realizará un *grid search* de estos factores en los que se evaluará alrededor de 25 neuronas (en esta cantidad se obtuvo el mejor desempeño) sobre la función de activación, el *solver* y el *learning rate*.\n"
      ]
    },
    {
      "cell_type": "code",
      "metadata": {
        "colab": {
          "base_uri": "https://localhost:8080/"
        },
        "id": "2mnUmcVAekai",
        "outputId": "5cca8b57-c198-4f17-91a9-1c622538b561"
      },
      "source": [
        "grid_values = {'hidden_layer_sizes':[25],'activation': [ 'relu','tanh'],'solver':['adam','sgd'],'learning_rate':['constant','adaptive'], 'max_iter':[2000]}\n",
        "clf = MLPClassifier()\n",
        "grid_clf_acc = GridSearchCV(clf, param_grid = grid_values, )\n",
        "grid_clf_acc.fit(X_trainscaled, y_train)"
      ],
      "execution_count": null,
      "outputs": [
        {
          "data": {
            "text/plain": [
              "GridSearchCV(cv=None, error_score=nan,\n",
              "             estimator=MLPClassifier(activation='relu', alpha=0.0001,\n",
              "                                     batch_size='auto', beta_1=0.9,\n",
              "                                     beta_2=0.999, early_stopping=False,\n",
              "                                     epsilon=1e-08, hidden_layer_sizes=(100,),\n",
              "                                     learning_rate='constant',\n",
              "                                     learning_rate_init=0.001, max_fun=15000,\n",
              "                                     max_iter=200, momentum=0.9,\n",
              "                                     n_iter_no_change=10,\n",
              "                                     nesterovs_momentum=True, power_t=0.5,\n",
              "                                     random_st...e=True,\n",
              "                                     solver='adam', tol=0.0001,\n",
              "                                     validation_fraction=0.1, verbose=False,\n",
              "                                     warm_start=False),\n",
              "             iid='deprecated', n_jobs=None,\n",
              "             param_grid={'activation': ['relu', 'tanh'],\n",
              "                         'hidden_layer_sizes': [25],\n",
              "                         'learning_rate': ['constant', 'adaptive'],\n",
              "                         'max_iter': [2000], 'solver': ['adam', 'sgd']},\n",
              "             pre_dispatch='2*n_jobs', refit=True, return_train_score=False,\n",
              "             scoring=None, verbose=0)"
            ]
          },
          "execution_count": 27,
          "metadata": {
            "tags": []
          },
          "output_type": "execute_result"
        }
      ]
    },
    {
      "cell_type": "markdown",
      "metadata": {
        "id": "VJHJCtPxXDq8"
      },
      "source": [
        "De esta forma, el grid search, arroja que los mejores parámetros del modelo con 25 neuronas, son los siguientes:"
      ]
    },
    {
      "cell_type": "code",
      "metadata": {
        "colab": {
          "base_uri": "https://localhost:8080/"
        },
        "id": "HwqAh09mel40",
        "outputId": "b67a79fc-7855-47ef-d196-2d1b9f279b58"
      },
      "source": [
        "grid_clf_acc.best_params_"
      ],
      "execution_count": null,
      "outputs": [
        {
          "data": {
            "text/plain": [
              "{'activation': 'relu',\n",
              " 'hidden_layer_sizes': 25,\n",
              " 'learning_rate': 'adaptive',\n",
              " 'max_iter': 2000,\n",
              " 'solver': 'sgd'}"
            ]
          },
          "execution_count": 28,
          "metadata": {
            "tags": []
          },
          "output_type": "execute_result"
        }
      ]
    },
    {
      "cell_type": "markdown",
      "metadata": {
        "id": "prqHtX2KXMG5"
      },
      "source": [
        "Por último, se procede a realizar una validación cruzada sobre los datos de entrenamiento para obtener un promedio del mejor desempeño según *Accuracy* (predicciones correctas sobre predicciones totales) del modelo obtenido anteriormente."
      ]
    },
    {
      "cell_type": "code",
      "metadata": {
        "colab": {
          "base_uri": "https://localhost:8080/"
        },
        "id": "_AU2UCiJoTHz",
        "outputId": "b433ae3f-c7d3-4b5e-8a24-3e83e7c28531"
      },
      "source": [
        "cross_val_score(grid_clf_acc, X_trainscaled, y_train, cv=4, scoring=\"accuracy\")\n"
      ],
      "execution_count": null,
      "outputs": [
        {
          "data": {
            "text/plain": [
              "array([0.76276463, 0.81755915, 0.84993773, 0.86176837])"
            ]
          },
          "execution_count": 29,
          "metadata": {
            "tags": []
          },
          "output_type": "execute_result"
        }
      ]
    },
    {
      "cell_type": "code",
      "metadata": {
        "colab": {
          "base_uri": "https://localhost:8080/"
        },
        "id": "cEsfTyJydzkM",
        "outputId": "5f7028f0-42bf-4ff9-a99b-3b2b8b3cf9dc"
      },
      "source": [
        "round(grid_clf_acc.best_score_*100,2)"
      ],
      "execution_count": null,
      "outputs": [
        {
          "data": {
            "text/plain": [
              "0.8237891074826964"
            ]
          },
          "execution_count": 30,
          "metadata": {
            "tags": []
          },
          "output_type": "execute_result"
        }
      ]
    },
    {
      "cell_type": "markdown",
      "metadata": {
        "id": "j2E8LYSTXhxK"
      },
      "source": [
        "De esta forma, se obtiene que el mejor modelo de un perceptron multicapa con solo 1 capa escondida tiene 25 neuronas, con función de activación Relu, *solver* sgd y *learning rate* constante. El cual obtuvo un porcentaje de *Accuracy* de 82.38%"
      ]
    },
    {
      "cell_type": "markdown",
      "metadata": {
        "id": "LSpimH2jjDIm"
      },
      "source": [
        "### **Punto 2**"
      ]
    },
    {
      "cell_type": "markdown",
      "metadata": {
        "id": "c6P10xgxjnYl"
      },
      "source": [
        "Para este punto, se procedió a realizar exactamente el mismo proceso realizado en la sección anterior, con la diferencia de que se utilizarán más capas escondidas. Inicialmente se realizará un análisis con 2 capas escondidas y luego con 4 capas escondidas. Se realizarán una serie de pruebas y se observarán los resultados obtenidos en estas pruebas para tener una noción de que parámetros funcionan mejor. De igual forma, se realizará un *grid search* para obtener el mejor modelo al cual se le hará una validación cruzada con los datos de entrenamiento.\n",
        "\n",
        "<br>\n",
        "\n",
        "\n",
        "Se inicia utilizando 2 capas escondidas en las cuales se tendrá la misma cantidad de neuronas con pasos de 5 en 5."
      ]
    },
    {
      "cell_type": "code",
      "metadata": {
        "colab": {
          "base_uri": "https://localhost:8080/",
          "height": 373,
          "referenced_widgets": [
            "c1eff55667e3446db86e8177ef38a91e",
            "d0eba400ca5d441381db208f83aff924",
            "b308dead355748ba88b16388eced72f4",
            "9936a765605a4ec98b3ba6e2245b9cc7",
            "5b28f5dc67004707af3ea4b16b80be6d",
            "fd40554764fc474bb37934d47d280e37",
            "147d60d710a94839b36be8946958da57",
            "47015097b67a4d64bdb84846d395e98c"
          ]
        },
        "id": "P8Ve_4d2jYxW",
        "outputId": "e7802afc-593e-4de2-ead7-d370421ba975"
      },
      "source": [
        "rec_scores = {}\n",
        "prec_scores = {}\n",
        "\n",
        "for k in tqdm(range(5, 31, 5)):\n",
        "  clf = MLPClassifier(hidden_layer_sizes=(k,k),activation=\"relu\" ,random_state=1, max_iter=2000).fit(X_trainscaled, y_train)\n",
        "  y_pred=clf.predict(X_testscaled)\n",
        "  rec_scores[k] = recall_score(y_test, y_pred, average=\"weighted\")\n",
        "  prec_scores[k] = precision_score(y_test, y_pred, average=\"weighted\")\n",
        "  print(f\"------Number of k: {k}--------\")\n",
        "  print(f\"Recall Score: {rec_scores[k]}\")\n",
        "  print(f\"Precision Score: {prec_scores[k]}\")"
      ],
      "execution_count": null,
      "outputs": [
        {
          "data": {
            "application/vnd.jupyter.widget-view+json": {
              "model_id": "c1eff55667e3446db86e8177ef38a91e",
              "version_major": 2,
              "version_minor": 0
            },
            "text/plain": [
              "HBox(children=(FloatProgress(value=0.0, max=6.0), HTML(value='')))"
            ]
          },
          "metadata": {
            "tags": []
          },
          "output_type": "display_data"
        },
        {
          "name": "stdout",
          "output_type": "stream",
          "text": [
            "------Number of k: 5--------\n",
            "Recall Score: 0.8389221556886227\n",
            "Precision Score: 0.8396113162895765\n",
            "------Number of k: 10--------\n",
            "Recall Score: 0.8461077844311378\n",
            "Precision Score: 0.8479872994745083\n",
            "------Number of k: 15--------\n",
            "Recall Score: 0.8377245508982036\n",
            "Precision Score: 0.8387427806326269\n",
            "------Number of k: 20--------\n",
            "Recall Score: 0.8377245508982036\n",
            "Precision Score: 0.8377727826929275\n",
            "------Number of k: 25--------\n",
            "Recall Score: 0.834131736526946\n",
            "Precision Score: 0.8343502661648978\n",
            "------Number of k: 30--------\n",
            "Recall Score: 0.8131736526946107\n",
            "Precision Score: 0.8133017175367055\n",
            "\n"
          ]
        }
      ]
    },
    {
      "cell_type": "markdown",
      "metadata": {
        "id": "z61kQsLTZvOi"
      },
      "source": [
        "Ahora se realizará el mismo proceso pero con 4 capas escondidas."
      ]
    },
    {
      "cell_type": "code",
      "metadata": {
        "colab": {
          "base_uri": "https://localhost:8080/",
          "height": 373,
          "referenced_widgets": [
            "f60b598ff8d743fdb6ec39acf4e658f4",
            "daac54cdd0104bfe9b3f190cfbc26ad1",
            "8abeb6ba200a4e99924d59d104adca71",
            "7faf6234fd8743b4934ec2e980bac796",
            "d83bfbb8aa8544d981e48973034d0a4b",
            "c4fdeb18669b484a8df2d85770424790",
            "1b1034b3b4df47bcaf541ec5b7239023",
            "fdcbaac93d4245798455a258f2c04d8a"
          ]
        },
        "id": "9FaL9wH5j8zG",
        "outputId": "d6932304-28eb-405e-cf42-3419e7250325"
      },
      "source": [
        "rec_scores = {}\n",
        "prec_scores = {}\n",
        "\n",
        "for k in tqdm(range(5, 31, 5)):\n",
        "  clf = MLPClassifier(hidden_layer_sizes=(k,k,k,k),activation=\"relu\" ,random_state=1, max_iter=2000).fit(X_trainscaled, y_train)\n",
        "  y_pred=clf.predict(X_testscaled)\n",
        "  rec_scores[k] = recall_score(y_test, y_pred, average=\"weighted\")\n",
        "  prec_scores[k] = precision_score(y_test, y_pred, average=\"weighted\")\n",
        "  print(f\"------Number of k: {k}--------\")\n",
        "  print(f\"Recall Score: {rec_scores[k]}\")\n",
        "  print(f\"Precision Score: {prec_scores[k]}\")"
      ],
      "execution_count": null,
      "outputs": [
        {
          "data": {
            "application/vnd.jupyter.widget-view+json": {
              "model_id": "f60b598ff8d743fdb6ec39acf4e658f4",
              "version_major": 2,
              "version_minor": 0
            },
            "text/plain": [
              "HBox(children=(FloatProgress(value=0.0, max=6.0), HTML(value='')))"
            ]
          },
          "metadata": {
            "tags": []
          },
          "output_type": "display_data"
        },
        {
          "name": "stdout",
          "output_type": "stream",
          "text": [
            "------Number of k: 5--------\n",
            "Recall Score: 0.8323353293413174\n",
            "Precision Score: 0.8340129083035793\n",
            "------Number of k: 10--------\n",
            "Recall Score: 0.8251497005988024\n",
            "Precision Score: 0.8257330025097591\n",
            "------Number of k: 15--------\n",
            "Recall Score: 0.8257485029940119\n",
            "Precision Score: 0.826173888630112\n",
            "------Number of k: 20--------\n",
            "Recall Score: 0.8149700598802395\n",
            "Precision Score: 0.8149622733960433\n",
            "------Number of k: 25--------\n",
            "Recall Score: 0.8101796407185629\n",
            "Precision Score: 0.8112736678337784\n",
            "------Number of k: 30--------\n",
            "Recall Score: 0.8203592814371258\n",
            "Precision Score: 0.8206047818280227\n",
            "\n"
          ]
        }
      ]
    },
    {
      "cell_type": "code",
      "metadata": {
        "id": "XJ_bFMuikZ3N"
      },
      "source": [
        "total_data = {\n",
        "    \"k\": list(range(5, 31, 5)),\n",
        "    \"rec_scores\": list(rec_scores.values()),\n",
        "    \"prec_scores\": list(prec_scores.values())\n",
        "}\n",
        "\n",
        "total_df = pd.DataFrame(total_data)"
      ],
      "execution_count": null,
      "outputs": []
    },
    {
      "cell_type": "code",
      "metadata": {
        "colab": {
          "base_uri": "https://localhost:8080/",
          "height": 282
        },
        "id": "_bZHvoBXkimV",
        "outputId": "be46a426-299c-496e-dcb4-8cf2a823f5e8"
      },
      "source": [
        "plt.bar(total_df[\"k\"], total_df[\"rec_scores\"],width=2)\n",
        "plt.ylim((0.7, 0.9))\n",
        "plt.grid(which='major', axis='y')\n",
        "plt.xlabel(\"Neurons\")\n",
        "plt.ylabel(\"Recall\")\n",
        "plt.show()"
      ],
      "execution_count": null,
      "outputs": [
        {
          "data": {
            "image/png": "[encoded data removed]",
            "text/plain": [
              "<Figure size 432x288 with 1 Axes>"
            ]
          },
          "metadata": {
            "tags": []
          },
          "output_type": "display_data"
        }
      ]
    },
    {
      "cell_type": "code",
      "metadata": {
        "colab": {
          "base_uri": "https://localhost:8080/",
          "height": 282
        },
        "id": "MjrBHu36kmHV",
        "outputId": "aa0e093b-63d2-4960-964c-0cbaa63a0c58"
      },
      "source": [
        "plt.bar(total_df[\"k\"], total_df[\"rec_scores\"],width=2)\n",
        "plt.ylim((0.7, 0.9))\n",
        "plt.grid(which='major', axis='y')\n",
        "plt.xlabel(\"Neurons\")\n",
        "plt.ylabel(\"Precision\")\n",
        "plt.show()"
      ],
      "execution_count": null,
      "outputs": [
        {
          "data": {
            "image/png": "[encoded data removed]",
            "text/plain": [
              "<Figure size 432x288 with 1 Axes>"
            ]
          },
          "metadata": {
            "tags": []
          },
          "output_type": "display_data"
        }
      ]
    },
    {
      "cell_type": "markdown",
      "metadata": {
        "id": "d4q5hq7FaNWd"
      },
      "source": [
        "Ahora, en vista que los mejores resultados se hallaron en las neuronas, se plantea hacer el mismo análisis de 2 capas escondidas, con la diferencia de que en la primera capa siempre habran 5 neuronas y la segunda varía."
      ]
    },
    {
      "cell_type": "code",
      "metadata": {
        "colab": {
          "base_uri": "https://localhost:8080/",
          "height": 373,
          "referenced_widgets": [
            "01c788df78a243ecb4176089dbb1d3ae",
            "bbc2f28eb4b6402499725756fc145ae0",
            "70fe9db55c1e4fd5861a5096d59d680d",
            "f9866ae0e5614f398d0eb704b91af20d",
            "b747d570ce2b43a193f43225991fdc1b",
            "cc2a84bc80c14eafa9f856bce9a20117",
            "2b53053bae7b4ea5a2993ebd52886967",
            "a663172043da483aa2c7174e343b8993"
          ]
        },
        "id": "rTHmRJ7_kval",
        "outputId": "bf360212-b019-44c5-a97b-f85be7a7a5e4"
      },
      "source": [
        "rec_scores = {}\n",
        "prec_scores = {}\n",
        "\n",
        "for k in tqdm(range(5, 31, 5)):\n",
        "  clf = MLPClassifier(hidden_layer_sizes=(5,k),activation=\"relu\" ,random_state=1, max_iter=2000).fit(X_trainscaled, y_train)\n",
        "  y_pred=clf.predict(X_testscaled)\n",
        "  rec_scores[k] = recall_score(y_test, y_pred, average=\"weighted\")\n",
        "  prec_scores[k] = precision_score(y_test, y_pred, average=\"weighted\")\n",
        "  print(f\"------Number of k: {k}--------\")\n",
        "  print(f\"Recall Score: {rec_scores[k]}\")\n",
        "  print(f\"Precision Score: {prec_scores[k]}\")"
      ],
      "execution_count": null,
      "outputs": [
        {
          "data": {
            "application/vnd.jupyter.widget-view+json": {
              "model_id": "01c788df78a243ecb4176089dbb1d3ae",
              "version_major": 2,
              "version_minor": 0
            },
            "text/plain": [
              "HBox(children=(FloatProgress(value=0.0, max=6.0), HTML(value='')))"
            ]
          },
          "metadata": {
            "tags": []
          },
          "output_type": "display_data"
        },
        {
          "name": "stdout",
          "output_type": "stream",
          "text": [
            "------Number of k: 5--------\n",
            "Recall Score: 0.8389221556886227\n",
            "Precision Score: 0.8396113162895765\n",
            "------Number of k: 10--------\n",
            "Recall Score: 0.8311377245508982\n",
            "Precision Score: 0.8311100720473411\n",
            "------Number of k: 15--------\n",
            "Recall Score: 0.8305389221556886\n",
            "Precision Score: 0.8317397267735629\n",
            "------Number of k: 20--------\n",
            "Recall Score: 0.8365269461077844\n",
            "Precision Score: 0.8368393514900677\n",
            "------Number of k: 25--------\n",
            "Recall Score: 0.8413173652694611\n",
            "Precision Score: 0.842626535964109\n",
            "------Number of k: 30--------\n",
            "Recall Score: 0.8335329341317366\n",
            "Precision Score: 0.8343375920272544\n",
            "\n"
          ]
        }
      ]
    },
    {
      "cell_type": "markdown",
      "metadata": {
        "id": "LJpmt8p6lMiC"
      },
      "source": [
        "Luego, se hará un grid search con los mejores parámetros para cantidad de neuronas y cantidad de capas según los resultados obtenidos anteriormente para así observar el mejor modelo."
      ]
    },
    {
      "cell_type": "code",
      "metadata": {
        "colab": {
          "base_uri": "https://localhost:8080/"
        },
        "id": "1AMnYvQUlWSd",
        "outputId": "d48dbc24-53f9-45ee-db16-c8988b6d1e00"
      },
      "source": [
        "grid_values = {'hidden_layer_sizes':[(15),(5,5),(5,15),(5,5,5,5)],'activation': [ 'relu','tanh'],'solver':['adam','sgd'],'learning_rate':['constant','adaptive'], 'max_iter':[2000]}\n",
        "clf = MLPClassifier()\n",
        "grid_clf_acc = GridSearchCV(clf, param_grid = grid_values, )\n",
        "grid_clf_acc.fit(X_trainscaled, y_train)"
      ],
      "execution_count": null,
      "outputs": [
        {
          "data": {
            "text/plain": [
              "GridSearchCV(cv=None, error_score=nan,\n",
              "             estimator=MLPClassifier(activation='relu', alpha=0.0001,\n",
              "                                     batch_size='auto', beta_1=0.9,\n",
              "                                     beta_2=0.999, early_stopping=False,\n",
              "                                     epsilon=1e-08, hidden_layer_sizes=(100,),\n",
              "                                     learning_rate='constant',\n",
              "                                     learning_rate_init=0.001, max_fun=15000,\n",
              "                                     max_iter=200, momentum=0.9,\n",
              "                                     n_iter_no_change=10,\n",
              "                                     nesterovs_momentum=True, power_t=0.5,\n",
              "                                     random_st...\n",
              "                                     solver='adam', tol=0.0001,\n",
              "                                     validation_fraction=0.1, verbose=False,\n",
              "                                     warm_start=False),\n",
              "             iid='deprecated', n_jobs=None,\n",
              "             param_grid={'activation': ['relu', 'tanh'],\n",
              "                         'hidden_layer_sizes': [15, (15, 15), (15, 30),\n",
              "                                                (5, 5, 5, 5)],\n",
              "                         'learning_rate': ['constant', 'adaptive'],\n",
              "                         'max_iter': [2000], 'solver': ['adam', 'sgd']},\n",
              "             pre_dispatch='2*n_jobs', refit=True, return_train_score=False,\n",
              "             scoring=None, verbose=0)"
            ]
          },
          "execution_count": 37,
          "metadata": {
            "tags": []
          },
          "output_type": "execute_result"
        }
      ]
    },
    {
      "cell_type": "markdown",
      "metadata": {
        "id": "fpGfkoVobM2S"
      },
      "source": [
        "Siendo así, los mejores parámetros los siguientes:"
      ]
    },
    {
      "cell_type": "code",
      "metadata": {
        "colab": {
          "base_uri": "https://localhost:8080/"
        },
        "id": "AcEWE9K6lzJ8",
        "outputId": "5bedb16a-3ba6-4b33-b7fd-95f0fa1fd853"
      },
      "source": [
        "grid_clf_acc.best_params_"
      ],
      "execution_count": null,
      "outputs": [
        {
          "data": {
            "text/plain": [
              "{'activation': 'tanh',\n",
              " 'hidden_layer_sizes': 15,\n",
              " 'learning_rate': 'adaptive',\n",
              " 'max_iter': 2000,\n",
              " 'solver': 'sgd'}"
            ]
          },
          "execution_count": 38,
          "metadata": {
            "tags": []
          },
          "output_type": "execute_result"
        }
      ]
    },
    {
      "cell_type": "markdown",
      "metadata": {
        "id": "seERc-lMbXjh"
      },
      "source": [
        "Ahora, se realizará una validación cruzada sobre el modelo encontrado anteriormente."
      ]
    },
    {
      "cell_type": "code",
      "metadata": {
        "colab": {
          "background_save": true
        },
        "id": "Vhyvnh0lr1xd",
        "outputId": "b21c7a36-80b5-4ac6-ea07-0c5edcfed55a"
      },
      "source": [
        "cross_val_score(grid_clf_acc, X_trainscaled, y_train, cv=4, scoring=\"accuracy\")\n",
        "grid_clf_acc.best_score_"
      ],
      "execution_count": null,
      "outputs": [
        {
          "name": "stderr",
          "output_type": "stream",
          "text": [
            "/usr/local/lib/python3.6/dist-packages/sklearn/neural_network/_multilayer_perceptron.py:571: ConvergenceWarning: Stochastic Optimizer: Maximum iterations (2000) reached and the optimization hasn't converged yet.\n",
            "  % self.max_iter, ConvergenceWarning)\n",
            "/usr/local/lib/python3.6/dist-packages/sklearn/neural_network/_multilayer_perceptron.py:571: ConvergenceWarning: Stochastic Optimizer: Maximum iterations (2000) reached and the optimization hasn't converged yet.\n",
            "  % self.max_iter, ConvergenceWarning)\n",
            "/usr/local/lib/python3.6/dist-packages/sklearn/neural_network/_multilayer_perceptron.py:571: ConvergenceWarning: Stochastic Optimizer: Maximum iterations (2000) reached and the optimization hasn't converged yet.\n",
            "  % self.max_iter, ConvergenceWarning)\n",
            "/usr/local/lib/python3.6/dist-packages/sklearn/neural_network/_multilayer_perceptron.py:571: ConvergenceWarning: Stochastic Optimizer: Maximum iterations (2000) reached and the optimization hasn't converged yet.\n",
            "  % self.max_iter, ConvergenceWarning)\n",
            "/usr/local/lib/python3.6/dist-packages/sklearn/neural_network/_multilayer_perceptron.py:571: ConvergenceWarning: Stochastic Optimizer: Maximum iterations (2000) reached and the optimization hasn't converged yet.\n",
            "  % self.max_iter, ConvergenceWarning)\n",
            "/usr/local/lib/python3.6/dist-packages/sklearn/neural_network/_multilayer_perceptron.py:571: ConvergenceWarning: Stochastic Optimizer: Maximum iterations (2000) reached and the optimization hasn't converged yet.\n",
            "  % self.max_iter, ConvergenceWarning)\n",
            "/usr/local/lib/python3.6/dist-packages/sklearn/neural_network/_multilayer_perceptron.py:571: ConvergenceWarning: Stochastic Optimizer: Maximum iterations (2000) reached and the optimization hasn't converged yet.\n",
            "  % self.max_iter, ConvergenceWarning)\n",
            "/usr/local/lib/python3.6/dist-packages/sklearn/neural_network/_multilayer_perceptron.py:571: ConvergenceWarning: Stochastic Optimizer: Maximum iterations (2000) reached and the optimization hasn't converged yet.\n",
            "  % self.max_iter, ConvergenceWarning)\n",
            "/usr/local/lib/python3.6/dist-packages/sklearn/neural_network/_multilayer_perceptron.py:573: UserWarning: Training interrupted by user.\n",
            "  warnings.warn(\"Training interrupted by user.\")\n",
            "/usr/local/lib/python3.6/dist-packages/sklearn/neural_network/_multilayer_perceptron.py:573: UserWarning: Training interrupted by user.\n",
            "  warnings.warn(\"Training interrupted by user.\")\n",
            "/usr/local/lib/python3.6/dist-packages/sklearn/neural_network/_multilayer_perceptron.py:573: UserWarning: Training interrupted by user.\n",
            "  warnings.warn(\"Training interrupted by user.\")\n",
            "/usr/local/lib/python3.6/dist-packages/sklearn/neural_network/_multilayer_perceptron.py:573: UserWarning: Training interrupted by user.\n",
            "  warnings.warn(\"Training interrupted by user.\")\n",
            "/usr/local/lib/python3.6/dist-packages/sklearn/neural_network/_multilayer_perceptron.py:573: UserWarning: Training interrupted by user.\n",
            "  warnings.warn(\"Training interrupted by user.\")\n",
            "/usr/local/lib/python3.6/dist-packages/sklearn/neural_network/_multilayer_perceptron.py:573: UserWarning: Training interrupted by user.\n",
            "  warnings.warn(\"Training interrupted by user.\")\n",
            "/usr/local/lib/python3.6/dist-packages/sklearn/neural_network/_multilayer_perceptron.py:573: UserWarning: Training interrupted by user.\n",
            "  warnings.warn(\"Training interrupted by user.\")\n",
            "/usr/local/lib/python3.6/dist-packages/sklearn/neural_network/_multilayer_perceptron.py:573: UserWarning: Training interrupted by user.\n",
            "  warnings.warn(\"Training interrupted by user.\")\n",
            "/usr/local/lib/python3.6/dist-packages/sklearn/neural_network/_multilayer_perceptron.py:573: UserWarning: Training interrupted by user.\n",
            "  warnings.warn(\"Training interrupted by user.\")\n",
            "/usr/local/lib/python3.6/dist-packages/sklearn/neural_network/_multilayer_perceptron.py:573: UserWarning: Training interrupted by user.\n",
            "  warnings.warn(\"Training interrupted by user.\")\n",
            "/usr/local/lib/python3.6/dist-packages/sklearn/neural_network/_multilayer_perceptron.py:573: UserWarning: Training interrupted by user.\n",
            "  warnings.warn(\"Training interrupted by user.\")\n",
            "/usr/local/lib/python3.6/dist-packages/sklearn/neural_network/_multilayer_perceptron.py:573: UserWarning: Training interrupted by user.\n",
            "  warnings.warn(\"Training interrupted by user.\")\n",
            "/usr/local/lib/python3.6/dist-packages/sklearn/neural_network/_multilayer_perceptron.py:573: UserWarning: Training interrupted by user.\n",
            "  warnings.warn(\"Training interrupted by user.\")\n",
            "/usr/local/lib/python3.6/dist-packages/sklearn/neural_network/_multilayer_perceptron.py:573: UserWarning: Training interrupted by user.\n",
            "  warnings.warn(\"Training interrupted by user.\")\n",
            "/usr/local/lib/python3.6/dist-packages/sklearn/neural_network/_multilayer_perceptron.py:573: UserWarning: Training interrupted by user.\n",
            "  warnings.warn(\"Training interrupted by user.\")\n",
            "/usr/local/lib/python3.6/dist-packages/sklearn/neural_network/_multilayer_perceptron.py:571: ConvergenceWarning: Stochastic Optimizer: Maximum iterations (2000) reached and the optimization hasn't converged yet.\n",
            "  % self.max_iter, ConvergenceWarning)\n",
            "/usr/local/lib/python3.6/dist-packages/sklearn/neural_network/_multilayer_perceptron.py:573: UserWarning: Training interrupted by user.\n",
            "  warnings.warn(\"Training interrupted by user.\")\n",
            "/usr/local/lib/python3.6/dist-packages/sklearn/neural_network/_multilayer_perceptron.py:573: UserWarning: Training interrupted by user.\n",
            "  warnings.warn(\"Training interrupted by user.\")\n",
            "/usr/local/lib/python3.6/dist-packages/sklearn/neural_network/_multilayer_perceptron.py:571: ConvergenceWarning: Stochastic Optimizer: Maximum iterations (2000) reached and the optimization hasn't converged yet.\n",
            "  % self.max_iter, ConvergenceWarning)\n",
            "/usr/local/lib/python3.6/dist-packages/sklearn/neural_network/_multilayer_perceptron.py:571: ConvergenceWarning: Stochastic Optimizer: Maximum iterations (2000) reached and the optimization hasn't converged yet.\n",
            "  % self.max_iter, ConvergenceWarning)\n",
            "/usr/local/lib/python3.6/dist-packages/sklearn/neural_network/_multilayer_perceptron.py:571: ConvergenceWarning: Stochastic Optimizer: Maximum iterations (2000) reached and the optimization hasn't converged yet.\n",
            "  % self.max_iter, ConvergenceWarning)\n",
            "/usr/local/lib/python3.6/dist-packages/sklearn/neural_network/_multilayer_perceptron.py:571: ConvergenceWarning: Stochastic Optimizer: Maximum iterations (2000) reached and the optimization hasn't converged yet.\n",
            "  % self.max_iter, ConvergenceWarning)\n",
            "/usr/local/lib/python3.6/dist-packages/sklearn/neural_network/_multilayer_perceptron.py:571: ConvergenceWarning: Stochastic Optimizer: Maximum iterations (2000) reached and the optimization hasn't converged yet.\n",
            "  % self.max_iter, ConvergenceWarning)\n"
          ]
        },
        {
          "data": {
            "text/plain": [
              "0.8251892796101676"
            ]
          },
          "execution_count": null,
          "metadata": {},
          "output_type": "execute_result"
        }
      ]
    },
    {
      "cell_type": "markdown",
      "metadata": {
        "id": "BrUwe8pwnLds"
      },
      "source": [
        "Finalmente, el mejor modelo encontrado entre el encontrado en el Punto 1 y el Punto 2 fue el primero. Ahora procederemos a entrenar dicho modelo y se observarán los criterios de desempeño explicados al inicio del informe. A continuación, se presenta el modelo obtenido junto con sus criterios de desempeño."
      ]
    },
    {
      "cell_type": "code",
      "metadata": {
        "colab": {
          "background_save": true
        },
        "id": "6yysagfTnn8U",
        "outputId": "521ce785-8cea-4cf3-9eb2-afbd9136827a"
      },
      "source": [
        "clf = MLPClassifier(hidden_layer_sizes=(15),learning_rate= 'adaptive',activation=\"tanh\" ,random_state=1, max_iter=2000).fit(X_trainscaled, y_train)\n",
        "y_pred=clf.predict(X_testscaled)\n",
        "print('Accuracy Score: ', round(accuracy_score(y_test, y_pred)*100,2),'%')\n",
        "print('Recall Score: ', round(recall_score(y_test, y_pred)*100,2),'%')\n",
        "print('Precision Score: ', round(precision_score(y_test, y_pred)*100,2),'%')"
      ],
      "execution_count": null,
      "outputs": [
        {
          "name": "stdout",
          "output_type": "stream",
          "text": [
            "Accuracy Score:  84.13 %\n",
            "Recall Score:  85.82 %\n",
            "Precision Score:  82.05 %\n"
          ]
        }
      ]
    }
  ]
}