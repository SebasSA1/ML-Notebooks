{
  "nbformat": 4,
  "nbformat_minor": 0,
  "metadata": {
    "colab": {
      "name": "taller_9.ipynb",
      "provenance": [],
      "collapsed_sections": []
    },
    "kernelspec": {
      "name": "python3",
      "display_name": "Python 3"
    },
    "widgets": {
      "application/vnd.jupyter.widget-state+json": {
        "423019a1066f43018bbc6e1561271f10": {
          "model_module": "@jupyter-widgets/controls",
          "model_name": "HBoxModel",
          "model_module_version": "1.5.0",
          "state": {
            "_view_name": "HBoxView",
            "_dom_classes": [],
            "_model_name": "HBoxModel",
            "_view_module": "@jupyter-widgets/controls",
            "_model_module_version": "1.5.0",
            "_view_count": null,
            "_view_module_version": "1.5.0",
            "box_style": "",
            "layout": "IPY_MODEL_73638d00af034265a236f58ff59418e2",
            "_model_module": "@jupyter-widgets/controls",
            "children": [
              "IPY_MODEL_d2a8ebe46e6b43f4b6032849cc332f4f",
              "IPY_MODEL_da4889d088fa42b1b22995d67a793607"
            ]
          }
        },
        "73638d00af034265a236f58ff59418e2": {
          "model_module": "@jupyter-widgets/base",
          "model_name": "LayoutModel",
          "model_module_version": "1.2.0",
          "state": {
            "_view_name": "LayoutView",
            "grid_template_rows": null,
            "right": null,
            "justify_content": null,
            "_view_module": "@jupyter-widgets/base",
            "overflow": null,
            "_model_module_version": "1.2.0",
            "_view_count": null,
            "flex_flow": null,
            "width": null,
            "min_width": null,
            "border": null,
            "align_items": null,
            "bottom": null,
            "_model_module": "@jupyter-widgets/base",
            "top": null,
            "grid_column": null,
            "overflow_y": null,
            "overflow_x": null,
            "grid_auto_flow": null,
            "grid_area": null,
            "grid_template_columns": null,
            "flex": null,
            "_model_name": "LayoutModel",
            "justify_items": null,
            "grid_row": null,
            "max_height": null,
            "align_content": null,
            "visibility": null,
            "align_self": null,
            "height": null,
            "min_height": null,
            "padding": null,
            "grid_auto_rows": null,
            "grid_gap": null,
            "max_width": null,
            "order": null,
            "_view_module_version": "1.2.0",
            "grid_template_areas": null,
            "object_position": null,
            "object_fit": null,
            "grid_auto_columns": null,
            "margin": null,
            "display": null,
            "left": null
          }
        },
        "d2a8ebe46e6b43f4b6032849cc332f4f": {
          "model_module": "@jupyter-widgets/controls",
          "model_name": "FloatProgressModel",
          "model_module_version": "1.5.0",
          "state": {
            "_view_name": "ProgressView",
            "style": "IPY_MODEL_645a9e24d9da43a899932985c95acf45",
            "_dom_classes": [],
            "description": "100%",
            "_model_name": "FloatProgressModel",
            "bar_style": "success",
            "max": 2,
            "_view_module": "@jupyter-widgets/controls",
            "_model_module_version": "1.5.0",
            "value": 2,
            "_view_count": null,
            "_view_module_version": "1.5.0",
            "orientation": "horizontal",
            "min": 0,
            "description_tooltip": null,
            "_model_module": "@jupyter-widgets/controls",
            "layout": "IPY_MODEL_ca4f56a4cba54922982d445ee9fbfc51"
          }
        },
        "da4889d088fa42b1b22995d67a793607": {
          "model_module": "@jupyter-widgets/controls",
          "model_name": "HTMLModel",
          "model_module_version": "1.5.0",
          "state": {
            "_view_name": "HTMLView",
            "style": "IPY_MODEL_c76f57ea9d83433384547a2d7c06cae3",
            "_dom_classes": [],
            "description": "",
            "_model_name": "HTMLModel",
            "placeholder": "​",
            "_view_module": "@jupyter-widgets/controls",
            "_model_module_version": "1.5.0",
            "value": " 2/2 [00:21&lt;00:00, 10.98s/KB]",
            "_view_count": null,
            "_view_module_version": "1.5.0",
            "description_tooltip": null,
            "_model_module": "@jupyter-widgets/controls",
            "layout": "IPY_MODEL_09a7e386c91c4cf3af41ff931089532e"
          }
        },
        "645a9e24d9da43a899932985c95acf45": {
          "model_module": "@jupyter-widgets/controls",
          "model_name": "ProgressStyleModel",
          "model_module_version": "1.5.0",
          "state": {
            "_view_name": "StyleView",
            "_model_name": "ProgressStyleModel",
            "description_width": "initial",
            "_view_module": "@jupyter-widgets/base",
            "_model_module_version": "1.5.0",
            "_view_count": null,
            "_view_module_version": "1.2.0",
            "bar_color": null,
            "_model_module": "@jupyter-widgets/controls"
          }
        },
        "ca4f56a4cba54922982d445ee9fbfc51": {
          "model_module": "@jupyter-widgets/base",
          "model_name": "LayoutModel",
          "model_module_version": "1.2.0",
          "state": {
            "_view_name": "LayoutView",
            "grid_template_rows": null,
            "right": null,
            "justify_content": null,
            "_view_module": "@jupyter-widgets/base",
            "overflow": null,
            "_model_module_version": "1.2.0",
            "_view_count": null,
            "flex_flow": null,
            "width": null,
            "min_width": null,
            "border": null,
            "align_items": null,
            "bottom": null,
            "_model_module": "@jupyter-widgets/base",
            "top": null,
            "grid_column": null,
            "overflow_y": null,
            "overflow_x": null,
            "grid_auto_flow": null,
            "grid_area": null,
            "grid_template_columns": null,
            "flex": null,
            "_model_name": "LayoutModel",
            "justify_items": null,
            "grid_row": null,
            "max_height": null,
            "align_content": null,
            "visibility": null,
            "align_self": null,
            "height": null,
            "min_height": null,
            "padding": null,
            "grid_auto_rows": null,
            "grid_gap": null,
            "max_width": null,
            "order": null,
            "_view_module_version": "1.2.0",
            "grid_template_areas": null,
            "object_position": null,
            "object_fit": null,
            "grid_auto_columns": null,
            "margin": null,
            "display": null,
            "left": null
          }
        },
        "c76f57ea9d83433384547a2d7c06cae3": {
          "model_module": "@jupyter-widgets/controls",
          "model_name": "DescriptionStyleModel",
          "model_module_version": "1.5.0",
          "state": {
            "_view_name": "StyleView",
            "_model_name": "DescriptionStyleModel",
            "description_width": "",
            "_view_module": "@jupyter-widgets/base",
            "_model_module_version": "1.5.0",
            "_view_count": null,
            "_view_module_version": "1.2.0",
            "_model_module": "@jupyter-widgets/controls"
          }
        },
        "09a7e386c91c4cf3af41ff931089532e": {
          "model_module": "@jupyter-widgets/base",
          "model_name": "LayoutModel",
          "model_module_version": "1.2.0",
          "state": {
            "_view_name": "LayoutView",
            "grid_template_rows": null,
            "right": null,
            "justify_content": null,
            "_view_module": "@jupyter-widgets/base",
            "overflow": null,
            "_model_module_version": "1.2.0",
            "_view_count": null,
            "flex_flow": null,
            "width": null,
            "min_width": null,
            "border": null,
            "align_items": null,
            "bottom": null,
            "_model_module": "@jupyter-widgets/base",
            "top": null,
            "grid_column": null,
            "overflow_y": null,
            "overflow_x": null,
            "grid_auto_flow": null,
            "grid_area": null,
            "grid_template_columns": null,
            "flex": null,
            "_model_name": "LayoutModel",
            "justify_items": null,
            "grid_row": null,
            "max_height": null,
            "align_content": null,
            "visibility": null,
            "align_self": null,
            "height": null,
            "min_height": null,
            "padding": null,
            "grid_auto_rows": null,
            "grid_gap": null,
            "max_width": null,
            "order": null,
            "_view_module_version": "1.2.0",
            "grid_template_areas": null,
            "object_position": null,
            "object_fit": null,
            "grid_auto_columns": null,
            "margin": null,
            "display": null,
            "left": null
          }
        }
      }
    }
  },
  "cells": [
    {
      "cell_type": "markdown",
      "metadata": {
        "id": "yTy0LcQQjQfz"
      },
      "source": [
        "![image](https://docs.google.com/uc?export=download&id=15DUc09hFGqR8qcpYiN1OajRNaASmiL6d)\n"
      ]
    },
    {
      "cell_type": "markdown",
      "metadata": {
        "id": "BFhIk3j6eZf4"
      },
      "source": [
        "<h1><center><b>Regresión Logística para Clasificación Binaria y Análisis de Componentes Principales</b></center></h1>\n",
        "<h3><center><b>IMÁGENES Y VISIÓN</b></center></h3>\n"
      ]
    },
    {
      "cell_type": "markdown",
      "metadata": {
        "id": "7BcH9XYCe-Y_"
      },
      "source": [
        "\n",
        "\n",
        "## **Objetivos**<a name=\"id1\"></a>\n",
        "\n",
        "- Familiarizarse con la regresón logística y sus parámetros.\n",
        "- Aplicar PCA como técnica de reducción de la dimensión.\n",
        "- Pensar en un problema de categorías desbalanceadas.\n",
        "\n",
        "## **Problema**<a name=\"id2\"></a>\n",
        "- En un dataset de imágenes de lenguaje de señas buscamos clasificar todas las imágenes que pertenezcan a la letra R y a la letra E."
      ]
    },
    {
      "cell_type": "markdown",
      "metadata": {
        "id": "55xiS-BdGMh0"
      },
      "source": [
        "### **Notebook Configuration**"
      ]
    },
    {
      "cell_type": "code",
      "metadata": {
        "id": "y6UrFHV7ebqB",
        "colab": {
          "resources": {
            "http://localhost:8080/nbextensions/google.colab/files.js": {
              "data": "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",
              "ok": true,
              "headers": [
                [
                  "content-type",
                  "application/javascript"
                ]
              ],
              "status": 200,
              "status_text": ""
            }
          },
          "base_uri": "https://localhost:8080/",
          "height": 108,
          "referenced_widgets": [
            "423019a1066f43018bbc6e1561271f10",
            "73638d00af034265a236f58ff59418e2",
            "d2a8ebe46e6b43f4b6032849cc332f4f",
            "da4889d088fa42b1b22995d67a793607",
            "645a9e24d9da43a899932985c95acf45",
            "ca4f56a4cba54922982d445ee9fbfc51",
            "c76f57ea9d83433384547a2d7c06cae3",
            "09a7e386c91c4cf3af41ff931089532e"
          ]
        },
        "outputId": "884721e5-a9d7-4fa7-b33e-81dcb77d77f0"
      },
      "source": [
        "!shred -u setup_colab.py\n",
        "!wget -q \"https://github.com/jpcano1/python_utils/raw/main/setup_colab_general.py\" -O setup_colab_general.py\n",
        "!wget -q \"https://github.com/jpcano1/python_utils/raw/main/ISIS_4825/setup_colab.py\" -O setup_colab.py\n",
        "import setup_colab as setup\n",
        "setup.setup_workshop_9()"
      ],
      "execution_count": null,
      "outputs": [
        {
          "output_type": "stream",
          "text": [
            "\n",
            "Extracting Zip File...\n",
            "Deleting File...\n",
            "Dataset Downloaded Successfully\n",
            "Workshop 9 Enabled Successfully\n"
          ],
          "name": "stdout"
        }
      ]
    },
    {
      "cell_type": "markdown",
      "metadata": {
        "id": "iwteyd-KGaDa"
      },
      "source": [
        "## **Importando las librerías necesarias para el laboratorio**<a name=\"id3\"></a>"
      ]
    },
    {
      "cell_type": "code",
      "metadata": {
        "id": "H0CYxAO9GWdj"
      },
      "source": [
        "from sklearn import datasets\n",
        "from sklearn.linear_model import LogisticRegression\n",
        "from sklearn.decomposition import PCA\n",
        "from sklearn.model_selection import (train_test_split, ShuffleSplit, \n",
        "                                     cross_val_score, GridSearchCV)\n",
        "from sklearn.metrics import (precision_score, recall_score, confusion_matrix, \n",
        "                             accuracy_score, f1_score, roc_curve, \n",
        "                             precision_recall_curve)\n",
        "from sklearn.utils import resample\n",
        "\n",
        "from utils import general as gen\n",
        "\n",
        "from tqdm.auto import tqdm\n",
        "\n",
        "import numpy as np\n",
        "import pandas as pd\n",
        "\n",
        "import matplotlib.pyplot as plt\n",
        "plt.style.use(\"ggplot\")\n",
        "import seaborn as sns\n",
        "\n",
        "\n",
        "from sklearn.preprocessing import StandardScaler\n",
        "from sklearn.decomposition import PCA"
      ],
      "execution_count": null,
      "outputs": []
    },
    {
      "cell_type": "markdown",
      "metadata": {
        "id": "4AHSMRDXsR_Q"
      },
      "source": [
        "### **Carga de Datos**"
      ]
    },
    {
      "cell_type": "code",
      "metadata": {
        "id": "WVCK2opdsRT1"
      },
      "source": [
        "train_dir = gen.create_and_verify(\"data\", \"sign_mnist_train.csv\")\n",
        "test_dir = gen.create_and_verify(\"data\", \"sign_mnist_test.csv\")"
      ],
      "execution_count": null,
      "outputs": []
    },
    {
      "cell_type": "code",
      "metadata": {
        "id": "Mu0H9oQPsxzL"
      },
      "source": [
        "train_data = pd.read_csv(train_dir)\n",
        "test_data = pd.read_csv(test_dir)"
      ],
      "execution_count": null,
      "outputs": []
    },
    {
      "cell_type": "code",
      "metadata": {
        "id": "MOWg8UhdtEUo"
      },
      "source": [
        "full_X_train, full_y_train = train_data.drop(columns=[\"label\"]), train_data[\"label\"]\n",
        "X_test, y_test = test_data.drop(columns=[\"label\"]), test_data[\"label\"]"
      ],
      "execution_count": null,
      "outputs": []
    },
    {
      "cell_type": "code",
      "metadata": {
        "id": "c0m0hVzK2rY7"
      },
      "source": [
        "if (full_y_train == 9).sum() == 0 or (y_test == 9).sum() == 0:\n",
        "    full_y_train = full_y_train.apply(lambda x: x - 1 if x > 8 else x)\n",
        "    y_test = y_test.apply(lambda x: x - 1 if x > 8 else x)"
      ],
      "execution_count": null,
      "outputs": []
    },
    {
      "cell_type": "code",
      "metadata": {
        "id": "5D6YS8H2P00e"
      },
      "source": [
        "if train_data.query(\"label==9\").size == 0 or test_data.query(\"label==9\").size == 0:\n",
        "    train_data[\"label\"] = train_data[\"label\"].apply(lambda x: x - 1 if x > 8 else x)\n",
        "    test_data[\"label\"] = test_data[\"label\"].apply(lambda x: x - 1 if x > 8 else x)"
      ],
      "execution_count": null,
      "outputs": []
    },
    {
      "cell_type": "code",
      "metadata": {
        "id": "wg_8nKcWv5Bh",
        "colab": {
          "base_uri": "https://localhost:8080/"
        },
        "outputId": "dcc36594-f9e4-45d5-817e-cbf47a1741c5"
      },
      "source": [
        "full_X_train.shape, full_y_train.shape"
      ],
      "execution_count": null,
      "outputs": [
        {
          "output_type": "execute_result",
          "data": {
            "text/plain": [
              "((27455, 784), (27455,))"
            ]
          },
          "metadata": {
            "tags": []
          },
          "execution_count": 57
        }
      ]
    },
    {
      "cell_type": "code",
      "metadata": {
        "id": "NJb1WIANv8JI",
        "colab": {
          "base_uri": "https://localhost:8080/"
        },
        "outputId": "dffae622-ff2e-4ca4-cf49-cc2e8368acfa"
      },
      "source": [
        "X_test.shape, y_test.shape"
      ],
      "execution_count": null,
      "outputs": [
        {
          "output_type": "execute_result",
          "data": {
            "text/plain": [
              "((7172, 784), (7172,))"
            ]
          },
          "metadata": {
            "tags": []
          },
          "execution_count": 58
        }
      ]
    },
    {
      "cell_type": "markdown",
      "metadata": {
        "id": "EJ-ajoG8d_if"
      },
      "source": [
        "## **Preparación de los Datos**"
      ]
    },
    {
      "cell_type": "code",
      "metadata": {
        "id": "JGLeuglPeHWo"
      },
      "source": [
        "random_sample22 = full_X_train.sample(1, random_state=5678)\n",
        "sample_target22 = full_y_train[random_sample22.index].values"
      ],
      "execution_count": null,
      "outputs": []
    },
    {
      "cell_type": "code",
      "metadata": {
        "id": "-4GcL-mCeP89"
      },
      "source": [
        "train_data_a22 = train_data.query(\"(label==4) | (label==16)\")\n",
        "test_data_a22 = test_data.query(\"(label==4) | (label==16)\")"
      ],
      "execution_count": null,
      "outputs": []
    },
    {
      "cell_type": "code",
      "metadata": {
        "id": "i6YBoD27eVTD"
      },
      "source": [
        "full_X_train22, full_y_train22 = train_data_a22.drop(columns=[\"label\"]), train_data_a22[\"label\"]\n",
        "X_test22, y_test22 = test_data_a22.drop(columns=[\"label\"]), test_data_a22[\"label\"]"
      ],
      "execution_count": null,
      "outputs": []
    },
    {
      "cell_type": "code",
      "metadata": {
        "id": "p-pKOvAJed1w"
      },
      "source": [
        "full_y_train22 = (full_y_train22 == 4).astype(\"uint8\")\n",
        "y_test22 = (y_test22 == 4).astype(\"uint8\")"
      ],
      "execution_count": null,
      "outputs": []
    },
    {
      "cell_type": "markdown",
      "metadata": {
        "id": "tAk1zc3te9sH"
      },
      "source": [
        "## **Train Set, Validation Set, Test Set**"
      ]
    },
    {
      "cell_type": "code",
      "metadata": {
        "id": "bM-GqA2efEfJ"
      },
      "source": [
        "X_train22, X_val22, y_train22, y_val22 = train_test_split(full_X_train22,\n",
        "                                                  full_y_train22,\n",
        "                                                  test_size=0.2,\n",
        "                                                  random_state=1234)"
      ],
      "execution_count": null,
      "outputs": []
    },
    {
      "cell_type": "code",
      "metadata": {
        "id": "_npOagmIfFxg",
        "colab": {
          "base_uri": "https://localhost:8080/",
          "height": 374
        },
        "outputId": "c36e6a19-7c60-41fc-abd2-4559928d1833"
      },
      "source": [
        "random_sample22 = X_train22.sample(9, random_state=1234)\n",
        "gen.visualize_subplot(\n",
        "    random_sample22.values.reshape(-1, 28, 28),\n",
        "    y_train22[random_sample22.index].values, (3, 3), (6, 6))"
      ],
      "execution_count": null,
      "outputs": [
        {
          "output_type": "display_data",
          "data": {
            "image/png": "[encoded data removed]",
            "text/plain": [
              "<Figure size 432x432 with 9 Axes>"
            ]
          },
          "metadata": {
            "tags": []
          }
        }
      ]
    },
    {
      "cell_type": "markdown",
      "metadata": {
        "id": "56byzZiPgDzx"
      },
      "source": [
        "## **Desbalanceo de clases**"
      ]
    },
    {
      "cell_type": "code",
      "metadata": {
        "id": "-md6JFiTgI31"
      },
      "source": [
        "def cat_frequencies(labels):\n",
        "    freq_p = labels.mean()\n",
        "    freq_n = 1 - freq_p\n",
        "    return freq_p, freq_n"
      ],
      "execution_count": null,
      "outputs": []
    },
    {
      "cell_type": "code",
      "metadata": {
        "id": "hhDXmVmzgP0t"
      },
      "source": [
        "f_p, f_n = cat_frequencies(y_train22)"
      ],
      "execution_count": null,
      "outputs": []
    },
    {
      "cell_type": "code",
      "metadata": {
        "id": "0yDDuqrZgTf_"
      },
      "source": [
        "total22 = pd.concat([X_train22, y_train22], axis=1)"
      ],
      "execution_count": null,
      "outputs": []
    },
    {
      "cell_type": "code",
      "metadata": {
        "id": "kCTNq311gVt8"
      },
      "source": [
        "neg_class22 = total22.query(\"label==0\")\n",
        "pos_class22 = total22.query(\"label==1\")"
      ],
      "execution_count": null,
      "outputs": []
    },
    {
      "cell_type": "code",
      "metadata": {
        "id": "1rpQFRT1gY9r"
      },
      "source": [
        "neg_class_downsampled22 = resample(neg_class22, replace=False,\n",
        "                                 n_samples=len(pos_class22), \n",
        "                                 random_state=1234)"
      ],
      "execution_count": null,
      "outputs": []
    },
    {
      "cell_type": "code",
      "metadata": {
        "id": "FALkEeS1ghon"
      },
      "source": [
        "balanced_data22 = pd.concat([neg_class_downsampled22, pos_class22])"
      ],
      "execution_count": null,
      "outputs": []
    },
    {
      "cell_type": "code",
      "metadata": {
        "id": "tmOCdzYEgkO3"
      },
      "source": [
        "y_train22 = balanced_data22[\"label\"]\n",
        "X_train22 = balanced_data22.drop(\"label\", axis=1)"
      ],
      "execution_count": null,
      "outputs": []
    },
    {
      "cell_type": "code",
      "metadata": {
        "id": "5say2tWUgnbB"
      },
      "source": [
        "f_p, f_n = cat_frequencies(y_train22)"
      ],
      "execution_count": null,
      "outputs": []
    },
    {
      "cell_type": "markdown",
      "metadata": {
        "id": "xXbDdn7Zh6_v"
      },
      "source": [
        "## **Modelamiento**"
      ]
    },
    {
      "cell_type": "code",
      "metadata": {
        "id": "vRbA0kKMiKyM"
      },
      "source": [
        "log_reg22 = LogisticRegression(n_jobs=-1)"
      ],
      "execution_count": null,
      "outputs": []
    },
    {
      "cell_type": "code",
      "metadata": {
        "id": "j6f2MsF9iNdR",
        "colab": {
          "base_uri": "https://localhost:8080/"
        },
        "outputId": "3946959e-5fc8-4485-caa7-4a7d520cd0b3"
      },
      "source": [
        "log_reg22.fit(X_train22, y_train22)"
      ],
      "execution_count": null,
      "outputs": [
        {
          "output_type": "execute_result",
          "data": {
            "text/plain": [
              "LogisticRegression(C=1.0, class_weight=None, dual=False, fit_intercept=True,\n",
              "                   intercept_scaling=1, l1_ratio=None, max_iter=100,\n",
              "                   multi_class='auto', n_jobs=-1, penalty='l2',\n",
              "                   random_state=None, solver='lbfgs', tol=0.0001, verbose=0,\n",
              "                   warm_start=False)"
            ]
          },
          "metadata": {
            "tags": []
          },
          "execution_count": 92
        }
      ]
    },
    {
      "cell_type": "markdown",
      "metadata": {
        "id": "JoWvydssiTdw"
      },
      "source": [
        "## **Predicción**"
      ]
    },
    {
      "cell_type": "code",
      "metadata": {
        "id": "MrET4H2_iVoS"
      },
      "source": [
        "random_sample22 = X_test22.sample(9, random_state=1234)\n",
        "y_pred22 = log_reg22.predict(random_sample22)"
      ],
      "execution_count": null,
      "outputs": []
    },
    {
      "cell_type": "code",
      "metadata": {
        "id": "spMXJvqniafq",
        "colab": {
          "base_uri": "https://localhost:8080/",
          "height": 374
        },
        "outputId": "ffc5ce5b-0839-47a7-fbc2-2c52dd3140e8"
      },
      "source": [
        "gen.visualize_subplot(\n",
        "    random_sample22.values.reshape(-1, 28, 28),\n",
        "    y_pred22, (3, 3), (6, 6)\n",
        ")"
      ],
      "execution_count": null,
      "outputs": [
        {
          "output_type": "display_data",
          "data": {
            "image/png": "[encoded data removed]",
            "text/plain": [
              "<Figure size 432x432 with 9 Axes>"
            ]
          },
          "metadata": {
            "tags": []
          }
        }
      ]
    },
    {
      "cell_type": "markdown",
      "metadata": {
        "id": "Gz3lyjuSih9z"
      },
      "source": [
        "## **Validación**"
      ]
    },
    {
      "cell_type": "code",
      "metadata": {
        "id": "CH9kKIv2imTq"
      },
      "source": [
        "y_pred22 = log_reg22.predict(X_test22)"
      ],
      "execution_count": null,
      "outputs": []
    },
    {
      "cell_type": "code",
      "metadata": {
        "id": "kChMG6eVjKPr",
        "colab": {
          "base_uri": "https://localhost:8080/",
          "height": 108
        },
        "outputId": "cb382585-eced-4d5c-b475-8e5b2966a2b8"
      },
      "source": [
        "conf_matrix22 = confusion_matrix(y_test22, y_pred22)\n",
        "pd.DataFrame(conf_matrix22)"
      ],
      "execution_count": null,
      "outputs": [
        {
          "output_type": "execute_result",
          "data": {
            "text/html": [
              "<div>\n",
              "<style scoped>\n",
              "    .dataframe tbody tr th:only-of-type {\n",
              "        vertical-align: middle;\n",
              "    }\n",
              "\n",
              "    .dataframe tbody tr th {\n",
              "        vertical-align: top;\n",
              "    }\n",
              "\n",
              "    .dataframe thead th {\n",
              "        text-align: right;\n",
              "    }\n",
              "</style>\n",
              "<table border=\"1\" class=\"dataframe\">\n",
              "  <thead>\n",
              "    <tr style=\"text-align: right;\">\n",
              "      <th></th>\n",
              "      <th>0</th>\n",
              "      <th>1</th>\n",
              "    </tr>\n",
              "  </thead>\n",
              "  <tbody>\n",
              "    <tr>\n",
              "      <th>0</th>\n",
              "      <td>144</td>\n",
              "      <td>0</td>\n",
              "    </tr>\n",
              "    <tr>\n",
              "      <th>1</th>\n",
              "      <td>0</td>\n",
              "      <td>498</td>\n",
              "    </tr>\n",
              "  </tbody>\n",
              "</table>\n",
              "</div>"
            ],
            "text/plain": [
              "     0    1\n",
              "0  144    0\n",
              "1    0  498"
            ]
          },
          "metadata": {
            "tags": []
          },
          "execution_count": 77
        }
      ]
    },
    {
      "cell_type": "code",
      "metadata": {
        "id": "ekG9Ndq3jPBz",
        "colab": {
          "base_uri": "https://localhost:8080/",
          "height": 275
        },
        "outputId": "95717889-bb45-432b-9eb1-01dab0a173da"
      },
      "source": [
        "plt.matshow(conf_matrix22, cmap=\"gray\")\n",
        "plt.grid(0)\n",
        "plt.show()"
      ],
      "execution_count": null,
      "outputs": [
        {
          "output_type": "display_data",
          "data": {
            "image/png": "[encoded data removed]",
            "text/plain": [
              "<Figure size 288x288 with 1 Axes>"
            ]
          },
          "metadata": {
            "tags": []
          }
        }
      ]
    },
    {
      "cell_type": "code",
      "metadata": {
        "id": "-xswWuiXjUa7",
        "colab": {
          "base_uri": "https://localhost:8080/",
          "height": 275
        },
        "outputId": "fcb4d888-3aba-46a0-a9e4-9ed2c0165d11"
      },
      "source": [
        "norm_conf_mat22 = conf_matrix22 / conf_matrix22.sum(axis=1, keepdims=True)\n",
        "np.fill_diagonal(norm_conf_mat22, 0)\n",
        "plt.matshow(norm_conf_mat22, cmap=\"gray\")\n",
        "plt.grid(0)\n",
        "plt.show()"
      ],
      "execution_count": null,
      "outputs": [
        {
          "output_type": "display_data",
          "data": {
            "image/png": "[encoded data removed]",
            "text/plain": [
              "<Figure size 288x288 with 1 Axes>"
            ]
          },
          "metadata": {
            "tags": []
          }
        }
      ]
    },
    {
      "cell_type": "code",
      "metadata": {
        "id": "MiAkgMI9jdEs",
        "colab": {
          "base_uri": "https://localhost:8080/"
        },
        "outputId": "61617438-ab43-4d27-b79d-ff5112f0194f"
      },
      "source": [
        "accuracy_score(y_test22, y_pred22)"
      ],
      "execution_count": null,
      "outputs": [
        {
          "output_type": "execute_result",
          "data": {
            "text/plain": [
              "1.0"
            ]
          },
          "metadata": {
            "tags": []
          },
          "execution_count": 80
        }
      ]
    },
    {
      "cell_type": "code",
      "metadata": {
        "id": "4al36rsEjgr6",
        "colab": {
          "base_uri": "https://localhost:8080/"
        },
        "outputId": "4fd26948-c388-4e44-98ee-a6c0875a9575"
      },
      "source": [
        "recall_score(y_test22, y_pred22)"
      ],
      "execution_count": null,
      "outputs": [
        {
          "output_type": "execute_result",
          "data": {
            "text/plain": [
              "1.0"
            ]
          },
          "metadata": {
            "tags": []
          },
          "execution_count": 84
        }
      ]
    },
    {
      "cell_type": "code",
      "metadata": {
        "id": "25Rp8W5djlUc",
        "colab": {
          "base_uri": "https://localhost:8080/"
        },
        "outputId": "bfb02e36-fefe-4418-9f16-94ef7306ab89"
      },
      "source": [
        "precision_score(y_test22, y_pred22)"
      ],
      "execution_count": null,
      "outputs": [
        {
          "output_type": "execute_result",
          "data": {
            "text/plain": [
              "1.0"
            ]
          },
          "metadata": {
            "tags": []
          },
          "execution_count": 82
        }
      ]
    },
    {
      "cell_type": "code",
      "metadata": {
        "id": "Zh1q-NH3jnry",
        "colab": {
          "base_uri": "https://localhost:8080/"
        },
        "outputId": "4ac5107d-b941-43f9-dbb7-b60cd0035a0b"
      },
      "source": [
        "cross_val_score(log_reg22, full_X_train22, full_y_train22, cv=4, scoring=\"accuracy\")"
      ],
      "execution_count": null,
      "outputs": [
        {
          "output_type": "execute_result",
          "data": {
            "text/plain": [
              "array([1., 1., 1., 1.])"
            ]
          },
          "metadata": {
            "tags": []
          },
          "execution_count": 83
        }
      ]
    },
    {
      "cell_type": "markdown",
      "metadata": {
        "id": "Um-AstRjoLYX"
      },
      "source": [
        "## **Trabajo Asíncrono**<a name=\"id9\"></a>\n",
        "1. En primera instancia, utilizar [`GridSearch`](https://scikit-learn.org/stable/modules/generated/sklearn.model_selection.GridSearchCV.html) para determinar los mejores valores de los hiperparámetros. Para eso, averiguar sobre los siguientes hiperparámetros:\n",
        "\n",
        "    - `penalty: 'l1' y 'l2'`\n",
        "    - `C`\n",
        "    - `solver: 'saga', 'liblinear'`\n",
        "2. Luego, realizar una clasificación multiclase sobre este mismo dataset y con las clases desde la 'A' hasta la 'K'. Revisar la documentación de la regresión logística [aquí](https://scikit-learn.org/stable/modules/generated/sklearn.linear_model.LogisticRegression.html)\n",
        "3. Por último, aplicar [PCA](https://es.wikipedia.org/wiki/An%C3%A1lisis_de_componentes_principales) para construir un conjunto de datos de dimensión reducida para el problema multiclase del punto 2. Comparar los resultados con base en las métricas de clasificación sobre el conjunto de test. Para lo anterior, se puede hacer uso de la clase [`PCA`](https://scikit-learn.org/stable/modules/generated/sklearn.decomposition.PCA.html) de `scikit-learn`"
      ]
    },
    {
      "cell_type": "markdown",
      "metadata": {
        "id": "0pOmRERm-jW5"
      },
      "source": [
        "## **Punto 1 - GridSearch**"
      ]
    },
    {
      "cell_type": "markdown",
      "metadata": {
        "id": "qQZPsstqkcob"
      },
      "source": [
        "Para encontrar los mejores hiperparametros con nuestra función gridSearch() se evaluo:\n",
        "\n",
        "\n",
        "*   C: hace alución a la fuerza de regularización, se debe especificar como un valor positivo en donde entre mas pequeño seal el valor quiere decir que se tiene una regularización mucho mas fuerte.\n",
        "\n",
        "*   penalty L1 y L2 en donde la diferencia radica en que las rtenicas de laso reducen el coeficiente de la entidad menos importante a cero, mientras que la regresion L2 añade una amgnitud cuadrada al termino que se desea penalizar.\n",
        "\n",
        "\n",
        "\n",
        "\n"
      ]
    },
    {
      "cell_type": "code",
      "metadata": {
        "id": "lADuo3FypJuk"
      },
      "source": [
        "grid_values = {'penalty': [ 'l2','l1'],'C':[0.001,.009,0.01,.09,1,5,10,25],'tol':[0.001],'solver':['saga','liblinear'],'max_iter':[10000]}"
      ],
      "execution_count": null,
      "outputs": []
    },
    {
      "cell_type": "code",
      "metadata": {
        "id": "mo8Q_cR5pNhm",
        "colab": {
          "base_uri": "https://localhost:8080/"
        },
        "outputId": "7f7e7edc-da92-4637-d5fd-58a59958965c"
      },
      "source": [
        "clf = LogisticRegression()\n",
        "grid_clf_acc = GridSearchCV(clf, param_grid = grid_values, )\n",
        "grid_clf_acc.fit(X_train22, y_train22)"
      ],
      "execution_count": null,
      "outputs": [
        {
          "output_type": "execute_result",
          "data": {
            "text/plain": [
              "GridSearchCV(cv=None, error_score=nan,\n",
              "             estimator=LogisticRegression(C=1.0, class_weight=None, dual=False,\n",
              "                                          fit_intercept=True,\n",
              "                                          intercept_scaling=1, l1_ratio=None,\n",
              "                                          max_iter=100, multi_class='auto',\n",
              "                                          n_jobs=None, penalty='l2',\n",
              "                                          random_state=None, solver='lbfgs',\n",
              "                                          tol=0.0001, verbose=0,\n",
              "                                          warm_start=False),\n",
              "             iid='deprecated', n_jobs=None,\n",
              "             param_grid={'C': [0.001, 0.009, 0.01, 0.09, 1, 5, 10, 25],\n",
              "                         'max_iter': [10000], 'penalty': ['l2', 'l1'],\n",
              "                         'solver': ['saga', 'liblinear'], 'tol': [0.001]},\n",
              "             pre_dispatch='2*n_jobs', refit=True, return_train_score=False,\n",
              "             scoring=None, verbose=0)"
            ]
          },
          "metadata": {
            "tags": []
          },
          "execution_count": 111
        }
      ]
    },
    {
      "cell_type": "markdown",
      "metadata": {
        "id": "eA-m4XVgv-AE"
      },
      "source": [
        "A continuación, se puede ver los hyperparámetros mejor modelo o clasificador encontrado:"
      ]
    },
    {
      "cell_type": "code",
      "metadata": {
        "id": "WA-rEDEEq06Y",
        "colab": {
          "base_uri": "https://localhost:8080/"
        },
        "outputId": "5c939c0e-3ebe-49f0-e5fc-beddf2c3f29b"
      },
      "source": [
        "grid_clf_acc.best_params_"
      ],
      "execution_count": null,
      "outputs": [
        {
          "output_type": "execute_result",
          "data": {
            "text/plain": [
              "{'C': 0.001,\n",
              " 'max_iter': 10000,\n",
              " 'penalty': 'l2',\n",
              " 'solver': 'saga',\n",
              " 'tol': 0.001}"
            ]
          },
          "metadata": {
            "tags": []
          },
          "execution_count": 112
        }
      ]
    },
    {
      "cell_type": "code",
      "metadata": {
        "id": "thsXlOsbsJ1p",
        "colab": {
          "base_uri": "https://localhost:8080/"
        },
        "outputId": "fa68cec4-341d-4533-cac0-d8f838dff29d"
      },
      "source": [
        "grid_clf_acc.best_score_"
      ],
      "execution_count": null,
      "outputs": [
        {
          "output_type": "execute_result",
          "data": {
            "text/plain": [
              "1.0"
            ]
          },
          "metadata": {
            "tags": []
          },
          "execution_count": 113
        }
      ]
    },
    {
      "cell_type": "code",
      "metadata": {
        "id": "k-JiMGZw3YZq"
      },
      "source": [
        "y_pred22 =grid_clf_acc.predict(X_test22)\n"
      ],
      "execution_count": null,
      "outputs": []
    },
    {
      "cell_type": "code",
      "metadata": {
        "id": "e9kqtN3a3aUX",
        "colab": {
          "base_uri": "https://localhost:8080/",
          "height": 275
        },
        "outputId": "59f76ea1-34c6-4c85-c865-f09c486e2779"
      },
      "source": [
        "conf_matrix22 = confusion_matrix(y_test22, y_pred22)\n",
        "pd.DataFrame(conf_matrix22)\n",
        "norm_conf_mat22 = conf_matrix22 / conf_matrix22.sum(axis=1, keepdims=True)\n",
        "np.fill_diagonal(norm_conf_mat22, 0)\n",
        "plt.matshow(norm_conf_mat22, cmap=\"gray\")\n",
        "plt.grid(0)\n",
        "plt.show()"
      ],
      "execution_count": null,
      "outputs": [
        {
          "output_type": "display_data",
          "data": {
            "image/png": "[encoded data removed]",
            "text/plain": [
              "<Figure size 288x288 with 1 Axes>"
            ]
          },
          "metadata": {
            "tags": []
          }
        }
      ]
    },
    {
      "cell_type": "markdown",
      "metadata": {
        "id": "8SIlf7JP96Yp"
      },
      "source": [
        "## **Punto 2 - Clasificación Multiclase**"
      ]
    },
    {
      "cell_type": "markdown",
      "metadata": {
        "id": "9H2qqdaBk6x3"
      },
      "source": [
        "## **Visualización y Análisis Exploratorio**<a name=\"id4\"></a>\n",
        "- En este laboratorio vamos a usar una variación del dataset de MNIST que utiliza imágenes de lenguaje de señas. Cada número, desde el 0 hasta el 23, será asignado a cada seña.\n",
        "\n",
        "![image](https://docs.google.com/uc?export=download&id=17e0VoyKW_0HgmItDWqGiyB1Bl6C-e8G8)\n",
        "\n",
        "- Este dataset consta de 7172 imágenes en total con clases madianamente balanceadas."
      ]
    },
    {
      "cell_type": "code",
      "metadata": {
        "id": "yFL91zqjFtV4",
        "colab": {
          "base_uri": "https://localhost:8080/",
          "height": 374
        },
        "outputId": "4e607e1f-9464-49ed-b2a7-3c0801b24807"
      },
      "source": [
        "random_sample = full_X_train.sample(9, random_state=1234)\n",
        "gen.visualize_subplot(\n",
        "    random_sample.values.reshape(-1, 28, 28),\n",
        "    full_y_train[random_sample.index].values, (3, 3), (6, 6)\n",
        ")"
      ],
      "execution_count": null,
      "outputs": [
        {
          "output_type": "display_data",
          "data": {
            "image/png": "[encoded data removed]",
            "text/plain": [
              "<Figure size 432x432 with 9 Axes>"
            ]
          },
          "metadata": {
            "tags": []
          }
        }
      ]
    },
    {
      "cell_type": "code",
      "metadata": {
        "id": "U7J1GF6M3AdF",
        "colab": {
          "base_uri": "https://localhost:8080/",
          "height": 374
        },
        "outputId": "9d5cbde7-c836-4ed3-bb10-3382d2370bec"
      },
      "source": [
        "plt.figure(figsize=(10, 6))\n",
        "ax = full_y_train.plot(kind=\"hist\", bins=24)\n",
        "ax.set_xticks(range(24))\n",
        "plt.show()"
      ],
      "execution_count": null,
      "outputs": [
        {
          "output_type": "display_data",
          "data": {
            "image/png": "[encoded data removed]",
            "text/plain": [
              "<Figure size 720x432 with 1 Axes>"
            ]
          },
          "metadata": {
            "tags": []
          }
        }
      ]
    },
    {
      "cell_type": "code",
      "metadata": {
        "id": "CvMda2WJ3h03",
        "colab": {
          "base_uri": "https://localhost:8080/"
        },
        "outputId": "2bb0e756-713d-495e-ea5c-9d6ae592703c"
      },
      "source": [
        "full_y_train.value_counts().sort_index()"
      ],
      "execution_count": null,
      "outputs": [
        {
          "output_type": "execute_result",
          "data": {
            "text/plain": [
              "0     1126\n",
              "1     1010\n",
              "2     1144\n",
              "3     1196\n",
              "4      957\n",
              "5     1204\n",
              "6     1090\n",
              "7     1013\n",
              "8     1162\n",
              "9     1114\n",
              "10    1241\n",
              "11    1055\n",
              "12    1151\n",
              "13    1196\n",
              "14    1088\n",
              "15    1279\n",
              "16    1294\n",
              "17    1199\n",
              "18    1186\n",
              "19    1161\n",
              "20    1082\n",
              "21    1225\n",
              "22    1164\n",
              "23    1118\n",
              "Name: label, dtype: int64"
            ]
          },
          "metadata": {
            "tags": []
          },
          "execution_count": 16
        }
      ]
    },
    {
      "cell_type": "markdown",
      "metadata": {
        "id": "EJGR0H24qbez"
      },
      "source": [
        "## **Preparación de los Datos**<a name=\"id5\"></a>"
      ]
    },
    {
      "cell_type": "markdown",
      "metadata": {
        "id": "H3RmWzKv-usg"
      },
      "source": [
        "Debido a que se desea hacer una clasificación multiclase sobre el dataset ***sign_mnist*** para que nuestro modelo sea capaz de predecir las clases de la A a la K dependiendo de la imagen de entrada. Se procedio a preparar los datos partiende el dataset solo en nuesras clases de interes.\n"
      ]
    },
    {
      "cell_type": "code",
      "metadata": {
        "id": "lxeExLPtmG9v"
      },
      "source": [
        "random_sample = full_X_train.sample(1, random_state=5678)\n",
        "sample_target = full_y_train[random_sample.index].values"
      ],
      "execution_count": null,
      "outputs": []
    },
    {
      "cell_type": "code",
      "metadata": {
        "id": "yI4uO5EvqnIu",
        "colab": {
          "base_uri": "https://localhost:8080/",
          "height": 265
        },
        "outputId": "80265ad9-72dd-4247-a798-1dd59dc03133"
      },
      "source": [
        "gen.imshow(random_sample.values.reshape(28, 28), color=False, \n",
        "           title=sample_target[0])"
      ],
      "execution_count": null,
      "outputs": [
        {
          "output_type": "display_data",
          "data": {
            "image/png": "[encoded data removed]",
            "text/plain": [
              "<Figure size 432x288 with 1 Axes>"
            ]
          },
          "metadata": {
            "tags": []
          }
        }
      ]
    },
    {
      "cell_type": "code",
      "metadata": {
        "id": "rgt9oqakParH"
      },
      "source": [
        "train_data_a = train_data.query(\"(label==0) | (label==1) | (label==2) | (label==3) |(label==4) |(label==5) |(label==6) |(label==7) |(label==8) |(label==9) \")\n",
        "test_data_a = test_data.query(\"(label==0) | (label==1) | (label==2) | (label==3) |(label==4) |(label==5) |(label==6) |(label==7) |(label==8) |(label==9) \")"
      ],
      "execution_count": null,
      "outputs": []
    },
    {
      "cell_type": "code",
      "metadata": {
        "id": "JxqRMVWbRSfR"
      },
      "source": [
        "full_X_trainF, full_y_trainF = train_data_a.drop(columns=[\"label\"]), train_data_a[\"label\"]\n",
        "X_testF, y_testF = test_data_a.drop(columns=[\"label\"]), test_data_a[\"label\"]"
      ],
      "execution_count": null,
      "outputs": []
    },
    {
      "cell_type": "code",
      "metadata": {
        "id": "5dduJzXsg-iR",
        "colab": {
          "base_uri": "https://localhost:8080/"
        },
        "outputId": "7eed04a3-fc7c-4071-9056-d2bb3dabe39b"
      },
      "source": [
        "full_y_trainF.value_counts().sort_index()"
      ],
      "execution_count": null,
      "outputs": [
        {
          "output_type": "execute_result",
          "data": {
            "text/plain": [
              "0    1126\n",
              "1    1010\n",
              "2    1144\n",
              "3    1196\n",
              "4     957\n",
              "5    1204\n",
              "6    1090\n",
              "7    1013\n",
              "8    1162\n",
              "9    1114\n",
              "Name: label, dtype: int64"
            ]
          },
          "metadata": {
            "tags": []
          },
          "execution_count": 21
        }
      ]
    },
    {
      "cell_type": "code",
      "metadata": {
        "id": "-zF3pa8JRzRI"
      },
      "source": [
        ""
      ],
      "execution_count": null,
      "outputs": []
    },
    {
      "cell_type": "markdown",
      "metadata": {
        "id": "zY84Uu-2xluq"
      },
      "source": [
        "### **Train Set, Validation Set, Test Set**"
      ]
    },
    {
      "cell_type": "code",
      "metadata": {
        "id": "nPEsDkp60gdP"
      },
      "source": [
        "X_train, X_val, y_train, y_val = train_test_split(full_X_trainF,\n",
        "                                                  full_y_trainF,\n",
        "                                                  test_size=0.2,\n",
        "                                                  random_state=1234)"
      ],
      "execution_count": null,
      "outputs": []
    },
    {
      "cell_type": "code",
      "metadata": {
        "id": "D9iGxRN003Z0",
        "colab": {
          "base_uri": "https://localhost:8080/",
          "height": 374
        },
        "outputId": "852d9137-54ec-428f-f7cf-4686a2e87264"
      },
      "source": [
        "random_sample = X_train.sample(9, random_state=1234)\n",
        "gen.visualize_subplot(\n",
        "    random_sample.values.reshape(-1, 28, 28),\n",
        "    y_train[random_sample.index].values, (3, 3), (6, 6)\n",
        ")"
      ],
      "execution_count": null,
      "outputs": [
        {
          "output_type": "display_data",
          "data": {
            "image/png": "[encoded data removed]",
            "text/plain": [
              "<Figure size 432x432 with 9 Axes>"
            ]
          },
          "metadata": {
            "tags": []
          }
        }
      ]
    },
    {
      "cell_type": "markdown",
      "metadata": {
        "id": "mK77Sp4e2t9y"
      },
      "source": [
        "### **Desbalanceo de Clases**\n",
        "- Algo muy usual dentro de los problemas de clasificación binaria es el desbalanceo de clases. Esto implicará que nuestro algoritmo probablemente clasificará la clase mayoritaria, lo cual no debería ser.\n",
        "\n",
        "$$\\text{freq}_p = \\frac{\\text{Número de instancias positivas}}{\\text{Total de instancias}}$$\n",
        "\n",
        "$$\\text{freq}_n = \\frac{\\text{Número de instancias negativas}}{\\text{Total de instancias}}$$\n",
        "\n",
        "- En este caso, vamos a usar un método de la librería `Scikit-Learn` llamado `resample`. Esta función nos va a permitir hacer un remuestreo de la clase con mayor cantidad de instancias, para que tenga igual número de muestras que la clase con menor cantidad de instancias."
      ]
    },
    {
      "cell_type": "code",
      "metadata": {
        "id": "Vnaz9Fcsh4Dy",
        "colab": {
          "base_uri": "https://localhost:8080/"
        },
        "outputId": "52d8c419-8a35-4357-b856-2c729b07196f"
      },
      "source": [
        "y_train.value_counts().sort_index()"
      ],
      "execution_count": null,
      "outputs": [
        {
          "output_type": "execute_result",
          "data": {
            "text/plain": [
              "0    894\n",
              "1    801\n",
              "2    933\n",
              "3    962\n",
              "4    750\n",
              "5    955\n",
              "6    880\n",
              "7    810\n",
              "8    927\n",
              "9    900\n",
              "Name: label, dtype: int64"
            ]
          },
          "metadata": {
            "tags": []
          },
          "execution_count": 24
        }
      ]
    },
    {
      "cell_type": "code",
      "metadata": {
        "id": "Rx0Mt6uO1DoR",
        "colab": {
          "base_uri": "https://localhost:8080/",
          "height": 375
        },
        "outputId": "280f15a4-c102-43ed-a879-22ae186d24b4"
      },
      "source": [
        "plt.figure(figsize=(10, 6))\n",
        "y_train.astype(\"int\").plot(kind=\"hist\")\n",
        "plt.show()"
      ],
      "execution_count": null,
      "outputs": [
        {
          "output_type": "display_data",
          "data": {
            "image/png": "[encoded data removed]",
            "text/plain": [
              "<Figure size 720x432 with 1 Axes>"
            ]
          },
          "metadata": {
            "tags": []
          }
        }
      ]
    },
    {
      "cell_type": "markdown",
      "metadata": {
        "id": "jDD07IHI_15o"
      },
      "source": [
        "Como se puede apreciar en el histograma de arriba la clase 4 es aquella que presenta un menor numero de muestras. Por lo cual para poder balancear nuestro problema, se procede a hacer un resample de las otras clases de manera aleatoria con el fin de que al final todas las clases tengan la misma cantidad de muestras."
      ]
    },
    {
      "cell_type": "code",
      "metadata": {
        "id": "08-nkcaZjR18"
      },
      "source": [
        "total = pd.concat([X_train, y_train], axis=1)\n",
        "\n",
        "pos_class = total.query(\"label==4\")\n",
        "\n",
        "neg_class = total.query(\"label==0\")\n",
        "neg_class_downsampled0 = resample(neg_class, replace=False,\n",
        "                                 n_samples=len(pos_class), \n",
        "                                 random_state=1234)\n",
        "\n",
        "neg_class = total.query(\"label==1\")\n",
        "neg_class_downsampled1 = resample(neg_class, replace=False,\n",
        "                                 n_samples=len(pos_class), \n",
        "                                 random_state=1234)\n",
        "\n",
        "\n",
        "neg_class = total.query(\"label==2\")\n",
        "neg_class_downsampled2 = resample(neg_class, replace=False,\n",
        "                                 n_samples=len(pos_class), \n",
        "                                 random_state=1234)\n",
        "\n",
        "neg_class = total.query(\"label==3\")\n",
        "neg_class_downsampled3 = resample(neg_class, replace=False,\n",
        "                                 n_samples=len(pos_class), \n",
        "                                 random_state=1234)\n",
        "\n",
        "neg_class = total.query(\"label==5\")\n",
        "neg_class_downsampled5 = resample(neg_class, replace=False,\n",
        "                                 n_samples=len(pos_class), \n",
        "                                 random_state=1234)\n",
        "\n",
        "neg_class = total.query(\"label==6\")\n",
        "neg_class_downsampled6 = resample(neg_class, replace=False,\n",
        "                                 n_samples=len(pos_class), \n",
        "                                 random_state=1234)\n",
        "\n",
        "neg_class = total.query(\"label==7\")\n",
        "neg_class_downsampled7 = resample(neg_class, replace=False,\n",
        "                                 n_samples=len(pos_class), \n",
        "                                 random_state=1234)\n",
        "\n",
        "neg_class = total.query(\"label==8\")\n",
        "neg_class_downsampled8 = resample(neg_class, replace=False,\n",
        "                                 n_samples=len(pos_class), \n",
        "                                 random_state=1234)\n",
        "\n",
        "neg_class = total.query(\"label==9\")\n",
        "neg_class_downsampled9 = resample(neg_class, replace=False,\n",
        "                                 n_samples=len(pos_class), \n",
        "                                 random_state=1234)\n",
        "\n"
      ],
      "execution_count": null,
      "outputs": []
    },
    {
      "cell_type": "code",
      "metadata": {
        "id": "hO2QFwXr7yBF"
      },
      "source": [
        "balanced_data = pd.concat([neg_class_downsampled0, neg_class_downsampled1, neg_class_downsampled2, neg_class_downsampled3,pos_class, neg_class_downsampled5, neg_class_downsampled6, neg_class_downsampled7, neg_class_downsampled8, neg_class_downsampled9 ])"
      ],
      "execution_count": null,
      "outputs": []
    },
    {
      "cell_type": "code",
      "metadata": {
        "id": "kEhcDABi78CN"
      },
      "source": [
        "y_train = balanced_data[\"label\"]\n",
        "X_train = balanced_data.drop(\"label\", axis=1)"
      ],
      "execution_count": null,
      "outputs": []
    },
    {
      "cell_type": "code",
      "metadata": {
        "id": "A1cY0ha3l-eg",
        "colab": {
          "base_uri": "https://localhost:8080/"
        },
        "outputId": "6926c926-a23d-4080-954c-685e0764d757"
      },
      "source": [
        "y_train.value_counts().sort_index()"
      ],
      "execution_count": null,
      "outputs": [
        {
          "output_type": "execute_result",
          "data": {
            "text/plain": [
              "0    750\n",
              "1    750\n",
              "2    750\n",
              "3    750\n",
              "4    750\n",
              "5    750\n",
              "6    750\n",
              "7    750\n",
              "8    750\n",
              "9    750\n",
              "Name: label, dtype: int64"
            ]
          },
          "metadata": {
            "tags": []
          },
          "execution_count": 29
        }
      ]
    },
    {
      "cell_type": "code",
      "metadata": {
        "id": "FnBalavc3rja",
        "colab": {
          "base_uri": "https://localhost:8080/",
          "height": 374
        },
        "outputId": "406d38c0-1352-4c52-8df4-f0da23868613"
      },
      "source": [
        "plt.figure(figsize=(10, 6))\n",
        "y_train.astype(\"int\").plot(kind=\"hist\")\n",
        "plt.show()"
      ],
      "execution_count": null,
      "outputs": [
        {
          "output_type": "display_data",
          "data": {
            "image/png": "[encoded data removed]",
            "text/plain": [
              "<Figure size 720x432 with 1 Axes>"
            ]
          },
          "metadata": {
            "tags": []
          }
        }
      ]
    },
    {
      "cell_type": "markdown",
      "metadata": {
        "id": "RLNyzo5SyBcw"
      },
      "source": [
        "## **Modelamiento**<a name=\"id6\"></a>\n",
        "- En esta ocasión se hará uso de la regresión Logística, una función lineal ampliamente usada en problemas de clasificación binaria.\n",
        "\n",
        "$$\\text{sigmoid}(x)=\\frac{1}{1+e^{-x}}$$"
      ]
    },
    {
      "cell_type": "markdown",
      "metadata": {
        "id": "HkeH2on7ASIi"
      },
      "source": [
        "Pero debido a que en este caso no estamos realizando una clasificación binaria sino multiclase se implementa una estrategia conocida como one vs all en donde se va a entrenar un clasificador binario para cada clase y al final aquel clasificador que tenga la probabilidad o predicción mal alta determinara la clase de la imagen de entrada."
      ]
    },
    {
      "cell_type": "code",
      "metadata": {
        "id": "befIxa0qoHRN",
        "colab": {
          "base_uri": "https://localhost:8080/"
        },
        "outputId": "50295799-4668-4d76-f36f-6f8296fd3111"
      },
      "source": [
        "clf = LogisticRegression(penalty='none', \n",
        "                         tol=0.01, solver='saga',\n",
        "                         multi_class='multinomial').fit(X_train, y_train)\n",
        "\n",
        "#to check the shape of the coefficient matrix\n",
        "clf.coef_.shape"
      ],
      "execution_count": null,
      "outputs": [
        {
          "output_type": "execute_result",
          "data": {
            "text/plain": [
              "(10, 784)"
            ]
          },
          "metadata": {
            "tags": []
          },
          "execution_count": 31
        }
      ]
    },
    {
      "cell_type": "markdown",
      "metadata": {
        "id": "2CpfO-tB_ZFP"
      },
      "source": [
        "## **Predicción**<a name=\"id7\"></a>"
      ]
    },
    {
      "cell_type": "markdown",
      "metadata": {
        "id": "3uIr_Uq6BjGp"
      },
      "source": [
        "Con el fin de evidenciar mejor como esta funcionando nuestro clasificador, podemos ver cuales son los coeficientes de cada clase que tienen un mayor peso. Esto se traduce en cuales son los píxeles mas relevantes para determinar la clase a la que corresponde cada imagen. (los píxeles mas relevantes se muestran de color rojo)"
      ]
    },
    {
      "cell_type": "code",
      "metadata": {
        "id": "cDagg-PWpDLQ"
      },
      "source": [
        "yS=full_y_train.value_counts().sort_index()\n",
        "classes = ['A', 'B', 'C','D', 'E','F', 'G', 'H', 'I', 'K']\n",
        "nclasses = len(classes)"
      ],
      "execution_count": null,
      "outputs": []
    },
    {
      "cell_type": "code",
      "metadata": {
        "id": "VNvohfhko-oK",
        "colab": {
          "base_uri": "https://localhost:8080/",
          "height": 492
        },
        "outputId": "e04629ea-ed9c-43d5-8038-720addab99f9"
      },
      "source": [
        "scale = np.max(np.abs(clf.coef_))\n",
        "\n",
        "p = plt.figure(figsize=(25, 25));\n",
        "\n",
        "for i in range(nclasses):\n",
        "    p = plt.subplot(6, 5, i + 1)\n",
        "    p = plt.imshow(clf.coef_[i].reshape(28, 28),\n",
        "                  cmap=plt.cm.RdBu, vmin=-scale, vmax=scale);\n",
        " \n",
        "    p = plt.title('Class : ' + classes[i] );"
      ],
      "execution_count": null,
      "outputs": [
        {
          "output_type": "display_data",
          "data": {
            "image/png": "[encoded data removed]",
            "text/plain": [
              "<Figure size 1800x1800 with 10 Axes>"
            ]
          },
          "metadata": {
            "tags": []
          }
        }
      ]
    },
    {
      "cell_type": "code",
      "metadata": {
        "id": "7Thl263E_jrK",
        "colab": {
          "base_uri": "https://localhost:8080/",
          "height": 374
        },
        "outputId": "2a451088-3a0c-4d83-f7a3-c3787516979c"
      },
      "source": [
        "random_sample2 = X_test.sample(9, random_state=1234)\n",
        "y_pred2 = clf.predict(random_sample2)\n",
        "\n",
        "gen.visualize_subplot(\n",
        "    random_sample2.values.reshape(-1, 28, 28),\n",
        "    y_pred2, (3, 3), (6, 6)\n",
        ")"
      ],
      "execution_count": null,
      "outputs": [
        {
          "output_type": "display_data",
          "data": {
            "image/png": "[encoded data removed]",
            "text/plain": [
              "<Figure size 432x432 with 9 Axes>"
            ]
          },
          "metadata": {
            "tags": []
          }
        }
      ]
    },
    {
      "cell_type": "markdown",
      "metadata": {
        "id": "HnB6777bC2m0"
      },
      "source": [
        "## **Validación**<a name=\"id8\"></a>"
      ]
    },
    {
      "cell_type": "markdown",
      "metadata": {
        "id": "x9OPz3x_CKZI"
      },
      "source": [
        "Por ultimo, se procedio a evaluar el desemepeño de nuestro clasificador. "
      ]
    },
    {
      "cell_type": "code",
      "metadata": {
        "id": "XRZeVVbb_uIU"
      },
      "source": [
        "y_predF = clf.predict(X_testF)"
      ],
      "execution_count": null,
      "outputs": []
    },
    {
      "cell_type": "code",
      "metadata": {
        "id": "NvNHal_SC8VK"
      },
      "source": [
        "conf_matrix = confusion_matrix(y_testF, y_predF)"
      ],
      "execution_count": null,
      "outputs": []
    },
    {
      "cell_type": "code",
      "metadata": {
        "id": "u1ivWxf7DBun",
        "colab": {
          "base_uri": "https://localhost:8080/",
          "height": 359
        },
        "outputId": "a62822a1-dc59-4add-d059-606b883d3381"
      },
      "source": [
        "pd.DataFrame(conf_matrix)"
      ],
      "execution_count": null,
      "outputs": [
        {
          "output_type": "execute_result",
          "data": {
            "text/html": [
              "<div>\n",
              "<style scoped>\n",
              "    .dataframe tbody tr th:only-of-type {\n",
              "        vertical-align: middle;\n",
              "    }\n",
              "\n",
              "    .dataframe tbody tr th {\n",
              "        vertical-align: top;\n",
              "    }\n",
              "\n",
              "    .dataframe thead th {\n",
              "        text-align: right;\n",
              "    }\n",
              "</style>\n",
              "<table border=\"1\" class=\"dataframe\">\n",
              "  <thead>\n",
              "    <tr style=\"text-align: right;\">\n",
              "      <th></th>\n",
              "      <th>0</th>\n",
              "      <th>1</th>\n",
              "      <th>2</th>\n",
              "      <th>3</th>\n",
              "      <th>4</th>\n",
              "      <th>5</th>\n",
              "      <th>6</th>\n",
              "      <th>7</th>\n",
              "      <th>8</th>\n",
              "      <th>9</th>\n",
              "    </tr>\n",
              "  </thead>\n",
              "  <tbody>\n",
              "    <tr>\n",
              "      <th>0</th>\n",
              "      <td>331</td>\n",
              "      <td>0</td>\n",
              "      <td>0</td>\n",
              "      <td>0</td>\n",
              "      <td>0</td>\n",
              "      <td>0</td>\n",
              "      <td>0</td>\n",
              "      <td>0</td>\n",
              "      <td>0</td>\n",
              "      <td>0</td>\n",
              "    </tr>\n",
              "    <tr>\n",
              "      <th>1</th>\n",
              "      <td>0</td>\n",
              "      <td>410</td>\n",
              "      <td>0</td>\n",
              "      <td>1</td>\n",
              "      <td>0</td>\n",
              "      <td>0</td>\n",
              "      <td>0</td>\n",
              "      <td>0</td>\n",
              "      <td>0</td>\n",
              "      <td>21</td>\n",
              "    </tr>\n",
              "    <tr>\n",
              "      <th>2</th>\n",
              "      <td>0</td>\n",
              "      <td>0</td>\n",
              "      <td>289</td>\n",
              "      <td>0</td>\n",
              "      <td>0</td>\n",
              "      <td>21</td>\n",
              "      <td>0</td>\n",
              "      <td>0</td>\n",
              "      <td>0</td>\n",
              "      <td>0</td>\n",
              "    </tr>\n",
              "    <tr>\n",
              "      <th>3</th>\n",
              "      <td>0</td>\n",
              "      <td>0</td>\n",
              "      <td>0</td>\n",
              "      <td>239</td>\n",
              "      <td>0</td>\n",
              "      <td>0</td>\n",
              "      <td>0</td>\n",
              "      <td>0</td>\n",
              "      <td>6</td>\n",
              "      <td>0</td>\n",
              "    </tr>\n",
              "    <tr>\n",
              "      <th>4</th>\n",
              "      <td>0</td>\n",
              "      <td>0</td>\n",
              "      <td>0</td>\n",
              "      <td>0</td>\n",
              "      <td>498</td>\n",
              "      <td>0</td>\n",
              "      <td>0</td>\n",
              "      <td>0</td>\n",
              "      <td>0</td>\n",
              "      <td>0</td>\n",
              "    </tr>\n",
              "    <tr>\n",
              "      <th>5</th>\n",
              "      <td>0</td>\n",
              "      <td>0</td>\n",
              "      <td>21</td>\n",
              "      <td>0</td>\n",
              "      <td>0</td>\n",
              "      <td>226</td>\n",
              "      <td>0</td>\n",
              "      <td>0</td>\n",
              "      <td>0</td>\n",
              "      <td>0</td>\n",
              "    </tr>\n",
              "    <tr>\n",
              "      <th>6</th>\n",
              "      <td>0</td>\n",
              "      <td>0</td>\n",
              "      <td>0</td>\n",
              "      <td>0</td>\n",
              "      <td>0</td>\n",
              "      <td>0</td>\n",
              "      <td>313</td>\n",
              "      <td>23</td>\n",
              "      <td>12</td>\n",
              "      <td>0</td>\n",
              "    </tr>\n",
              "    <tr>\n",
              "      <th>7</th>\n",
              "      <td>0</td>\n",
              "      <td>0</td>\n",
              "      <td>0</td>\n",
              "      <td>0</td>\n",
              "      <td>21</td>\n",
              "      <td>0</td>\n",
              "      <td>62</td>\n",
              "      <td>353</td>\n",
              "      <td>0</td>\n",
              "      <td>0</td>\n",
              "    </tr>\n",
              "    <tr>\n",
              "      <th>8</th>\n",
              "      <td>0</td>\n",
              "      <td>0</td>\n",
              "      <td>0</td>\n",
              "      <td>0</td>\n",
              "      <td>0</td>\n",
              "      <td>1</td>\n",
              "      <td>0</td>\n",
              "      <td>21</td>\n",
              "      <td>241</td>\n",
              "      <td>25</td>\n",
              "    </tr>\n",
              "    <tr>\n",
              "      <th>9</th>\n",
              "      <td>0</td>\n",
              "      <td>0</td>\n",
              "      <td>0</td>\n",
              "      <td>20</td>\n",
              "      <td>0</td>\n",
              "      <td>21</td>\n",
              "      <td>0</td>\n",
              "      <td>0</td>\n",
              "      <td>43</td>\n",
              "      <td>247</td>\n",
              "    </tr>\n",
              "  </tbody>\n",
              "</table>\n",
              "</div>"
            ],
            "text/plain": [
              "     0    1    2    3    4    5    6    7    8    9\n",
              "0  331    0    0    0    0    0    0    0    0    0\n",
              "1    0  410    0    1    0    0    0    0    0   21\n",
              "2    0    0  289    0    0   21    0    0    0    0\n",
              "3    0    0    0  239    0    0    0    0    6    0\n",
              "4    0    0    0    0  498    0    0    0    0    0\n",
              "5    0    0   21    0    0  226    0    0    0    0\n",
              "6    0    0    0    0    0    0  313   23   12    0\n",
              "7    0    0    0    0   21    0   62  353    0    0\n",
              "8    0    0    0    0    0    1    0   21  241   25\n",
              "9    0    0    0   20    0   21    0    0   43  247"
            ]
          },
          "metadata": {
            "tags": []
          },
          "execution_count": 37
        }
      ]
    },
    {
      "cell_type": "code",
      "metadata": {
        "id": "lIvYG8pLDDkL",
        "colab": {
          "base_uri": "https://localhost:8080/",
          "height": 275
        },
        "outputId": "4efa8dfb-80a4-4d2b-fb63-5363d1683d43"
      },
      "source": [
        "plt.matshow(conf_matrix, cmap=\"gray\")\n",
        "plt.grid(0)\n",
        "plt.show()"
      ],
      "execution_count": null,
      "outputs": [
        {
          "output_type": "display_data",
          "data": {
            "image/png": "[encoded data removed]",
            "text/plain": [
              "<Figure size 288x288 with 1 Axes>"
            ]
          },
          "metadata": {
            "tags": []
          }
        }
      ]
    },
    {
      "cell_type": "code",
      "metadata": {
        "id": "HJ6fL2g-DiBH"
      },
      "source": [
        "norm_conf_mat = conf_matrix / conf_matrix.sum(axis=1, keepdims=True)\n",
        "np.fill_diagonal(norm_conf_mat, 0)"
      ],
      "execution_count": null,
      "outputs": []
    },
    {
      "cell_type": "code",
      "metadata": {
        "id": "YcnnfaE2DkTb",
        "colab": {
          "base_uri": "https://localhost:8080/",
          "height": 275
        },
        "outputId": "037ca7c1-94ad-4453-dd0d-0a0f47371adf"
      },
      "source": [
        "plt.matshow(norm_conf_mat, cmap=\"gray\")\n",
        "plt.grid(0)\n",
        "plt.show()"
      ],
      "execution_count": null,
      "outputs": [
        {
          "output_type": "display_data",
          "data": {
            "image/png": "[encoded data removed]",
            "text/plain": [
              "<Figure size 288x288 with 1 Axes>"
            ]
          },
          "metadata": {
            "tags": []
          }
        }
      ]
    },
    {
      "cell_type": "code",
      "metadata": {
        "id": "B9o2sJgMDlpn",
        "colab": {
          "base_uri": "https://localhost:8080/"
        },
        "outputId": "aa6a4e7e-a699-4ab3-a33a-6dea9f237c3c"
      },
      "source": [
        "\n",
        "accuracy2 = accuracy_score(y_testF, y_predF)\n",
        "print((accuracy2))\n"
      ],
      "execution_count": null,
      "outputs": [
        {
          "output_type": "stream",
          "text": [
            "0.9079630698211194\n"
          ],
          "name": "stdout"
        }
      ]
    },
    {
      "cell_type": "markdown",
      "metadata": {
        "id": "uc5HLF1RD0Q_"
      },
      "source": [
        "Como se puede ver se obtuvo un buen desempeño por parte de nuestro clasificador bajo el criterio accuracy score (aprox 90%), el cual se encarga de evaluar la precisión de cada una de nuestras clases. Con la matriz de confusión podemos ver que que la maor cantidad de errores de predicción se dieron en la clase 7 la cual fue etiquetada erroneamente como la clase 6. Este, no es un comportamiento dificil de entender por que como se puede ver en la seña de la letra G y la letra H son parecidas."
      ]
    },
    {
      "cell_type": "code",
      "metadata": {
        "id": "w3GKhr7JzVcS"
      },
      "source": [
        ""
      ],
      "execution_count": null,
      "outputs": []
    },
    {
      "cell_type": "markdown",
      "metadata": {
        "id": "OS-CHMd-Fcne"
      },
      "source": [
        "## **Punto 3 - Clasificación Multiclase PCA**"
      ]
    },
    {
      "cell_type": "markdown",
      "metadata": {
        "id": "c-WDyqcbtlxJ"
      },
      "source": [
        "Una de las técnicas mas eficientes para acelerar el **\"fitting\"** de los algoritmos de machine learning consiste en n realizar el analisis de componentes principales. En este caso se mantubo el 95% de la varianza original de los datos y se realizó el mismo procedimiento de entrenamiento."
      ]
    },
    {
      "cell_type": "code",
      "metadata": {
        "id": "s_LCZnZxvtxE"
      },
      "source": [
        "scaler= StandardScaler()"
      ],
      "execution_count": null,
      "outputs": []
    },
    {
      "cell_type": "code",
      "metadata": {
        "id": "C1jRe6Gi5KrY",
        "colab": {
          "base_uri": "https://localhost:8080/"
        },
        "outputId": "ad1063a3-efba-49e5-ddff-6f4087c84748"
      },
      "source": [
        "scaler.fit(X_train)"
      ],
      "execution_count": null,
      "outputs": [
        {
          "output_type": "execute_result",
          "data": {
            "text/plain": [
              "StandardScaler(copy=True, with_mean=True, with_std=True)"
            ]
          },
          "metadata": {
            "tags": []
          },
          "execution_count": 44
        }
      ]
    },
    {
      "cell_type": "code",
      "metadata": {
        "id": "sdSiCZPm5PcO"
      },
      "source": [
        "train_img = scaler.transform(X_train)\n",
        "test_img = scaler.transform(X_testF)"
      ],
      "execution_count": null,
      "outputs": []
    },
    {
      "cell_type": "code",
      "metadata": {
        "id": "PBLG1L8p6Gat"
      },
      "source": [
        "\n",
        "pca = PCA(.95)"
      ],
      "execution_count": null,
      "outputs": []
    },
    {
      "cell_type": "code",
      "metadata": {
        "id": "bCjeTx8m6H6b",
        "colab": {
          "base_uri": "https://localhost:8080/"
        },
        "outputId": "deb9feff-cc76-437f-b263-d4282e9d3855"
      },
      "source": [
        "pca.fit(train_img)"
      ],
      "execution_count": null,
      "outputs": [
        {
          "output_type": "execute_result",
          "data": {
            "text/plain": [
              "PCA(copy=True, iterated_power='auto', n_components=0.95, random_state=None,\n",
              "    svd_solver='auto', tol=0.0, whiten=False)"
            ]
          },
          "metadata": {
            "tags": []
          },
          "execution_count": 47
        }
      ]
    },
    {
      "cell_type": "code",
      "metadata": {
        "id": "5MySBaGw6Man"
      },
      "source": [
        "train_img = pca.transform(train_img)\n",
        "test_img = pca.transform(test_img)"
      ],
      "execution_count": null,
      "outputs": []
    },
    {
      "cell_type": "code",
      "metadata": {
        "id": "4AXhIXK96VcG"
      },
      "source": [
        "clf2 = LogisticRegression(penalty='none', \n",
        "                         tol=0.01, solver='saga',\n",
        "                         multi_class='multinomial').fit(train_img, y_train)"
      ],
      "execution_count": null,
      "outputs": []
    },
    {
      "cell_type": "code",
      "metadata": {
        "id": "qNGSOvpn6gLA"
      },
      "source": [
        "y_predF2 = clf2.predict(test_img)"
      ],
      "execution_count": null,
      "outputs": []
    },
    {
      "cell_type": "code",
      "metadata": {
        "id": "oco6cSiZ7xEi",
        "colab": {
          "base_uri": "https://localhost:8080/"
        },
        "outputId": "020be2bc-7a2a-49d1-be63-8aafcd854fbe"
      },
      "source": [
        "\n",
        "accuracy2 = accuracy_score(y_testF, y_predF2)\n",
        "print(accuracy2)"
      ],
      "execution_count": null,
      "outputs": [
        {
          "output_type": "stream",
          "text": [
            "0.8831506058857472\n",
            "0.8831506058857472\n"
          ],
          "name": "stdout"
        }
      ]
    },
    {
      "cell_type": "markdown",
      "metadata": {
        "id": "yz_276HWuZhL"
      },
      "source": [
        "Notando al final que se llegó a un score o precisión final del 88% frente a un 90% cuando se realizó la clasificación multiclases sin realizar el PCA, en este caso hubo una reducción del 2% pero se mantuvo el 95% de varianca original en el numero de componentes originales. Algo que a su ves permite agilizar el proceso de entrenamiento del módelo. A continuación se pueden ver otras estadisticas de desempeño del modelo obtenido a traves de PCA como la matriz de confusión. "
      ]
    },
    {
      "cell_type": "code",
      "metadata": {
        "id": "tI6OwDmG7M4p"
      },
      "source": [
        "conf_matrix = confusion_matrix(y_testF, y_predF2)"
      ],
      "execution_count": null,
      "outputs": []
    },
    {
      "cell_type": "code",
      "metadata": {
        "id": "CIONKvyz7PnW",
        "colab": {
          "base_uri": "https://localhost:8080/",
          "height": 359
        },
        "outputId": "0f94f48f-6372-42cd-91b9-63cca38860d0"
      },
      "source": [
        "pd.DataFrame(conf_matrix)"
      ],
      "execution_count": null,
      "outputs": [
        {
          "output_type": "execute_result",
          "data": {
            "text/html": [
              "<div>\n",
              "<style scoped>\n",
              "    .dataframe tbody tr th:only-of-type {\n",
              "        vertical-align: middle;\n",
              "    }\n",
              "\n",
              "    .dataframe tbody tr th {\n",
              "        vertical-align: top;\n",
              "    }\n",
              "\n",
              "    .dataframe thead th {\n",
              "        text-align: right;\n",
              "    }\n",
              "</style>\n",
              "<table border=\"1\" class=\"dataframe\">\n",
              "  <thead>\n",
              "    <tr style=\"text-align: right;\">\n",
              "      <th></th>\n",
              "      <th>0</th>\n",
              "      <th>1</th>\n",
              "      <th>2</th>\n",
              "      <th>3</th>\n",
              "      <th>4</th>\n",
              "      <th>5</th>\n",
              "      <th>6</th>\n",
              "      <th>7</th>\n",
              "      <th>8</th>\n",
              "      <th>9</th>\n",
              "    </tr>\n",
              "  </thead>\n",
              "  <tbody>\n",
              "    <tr>\n",
              "      <th>0</th>\n",
              "      <td>331</td>\n",
              "      <td>0</td>\n",
              "      <td>0</td>\n",
              "      <td>0</td>\n",
              "      <td>0</td>\n",
              "      <td>0</td>\n",
              "      <td>0</td>\n",
              "      <td>0</td>\n",
              "      <td>0</td>\n",
              "      <td>0</td>\n",
              "    </tr>\n",
              "    <tr>\n",
              "      <th>1</th>\n",
              "      <td>0</td>\n",
              "      <td>400</td>\n",
              "      <td>0</td>\n",
              "      <td>11</td>\n",
              "      <td>0</td>\n",
              "      <td>0</td>\n",
              "      <td>0</td>\n",
              "      <td>0</td>\n",
              "      <td>0</td>\n",
              "      <td>21</td>\n",
              "    </tr>\n",
              "    <tr>\n",
              "      <th>2</th>\n",
              "      <td>0</td>\n",
              "      <td>0</td>\n",
              "      <td>289</td>\n",
              "      <td>0</td>\n",
              "      <td>0</td>\n",
              "      <td>21</td>\n",
              "      <td>0</td>\n",
              "      <td>0</td>\n",
              "      <td>0</td>\n",
              "      <td>0</td>\n",
              "    </tr>\n",
              "    <tr>\n",
              "      <th>3</th>\n",
              "      <td>0</td>\n",
              "      <td>0</td>\n",
              "      <td>0</td>\n",
              "      <td>231</td>\n",
              "      <td>0</td>\n",
              "      <td>13</td>\n",
              "      <td>0</td>\n",
              "      <td>0</td>\n",
              "      <td>1</td>\n",
              "      <td>0</td>\n",
              "    </tr>\n",
              "    <tr>\n",
              "      <th>4</th>\n",
              "      <td>0</td>\n",
              "      <td>0</td>\n",
              "      <td>0</td>\n",
              "      <td>0</td>\n",
              "      <td>498</td>\n",
              "      <td>0</td>\n",
              "      <td>0</td>\n",
              "      <td>0</td>\n",
              "      <td>0</td>\n",
              "      <td>0</td>\n",
              "    </tr>\n",
              "    <tr>\n",
              "      <th>5</th>\n",
              "      <td>0</td>\n",
              "      <td>0</td>\n",
              "      <td>21</td>\n",
              "      <td>0</td>\n",
              "      <td>0</td>\n",
              "      <td>226</td>\n",
              "      <td>0</td>\n",
              "      <td>0</td>\n",
              "      <td>0</td>\n",
              "      <td>0</td>\n",
              "    </tr>\n",
              "    <tr>\n",
              "      <th>6</th>\n",
              "      <td>0</td>\n",
              "      <td>0</td>\n",
              "      <td>0</td>\n",
              "      <td>0</td>\n",
              "      <td>0</td>\n",
              "      <td>0</td>\n",
              "      <td>271</td>\n",
              "      <td>40</td>\n",
              "      <td>37</td>\n",
              "      <td>0</td>\n",
              "    </tr>\n",
              "    <tr>\n",
              "      <th>7</th>\n",
              "      <td>0</td>\n",
              "      <td>0</td>\n",
              "      <td>0</td>\n",
              "      <td>0</td>\n",
              "      <td>21</td>\n",
              "      <td>0</td>\n",
              "      <td>91</td>\n",
              "      <td>324</td>\n",
              "      <td>0</td>\n",
              "      <td>0</td>\n",
              "    </tr>\n",
              "    <tr>\n",
              "      <th>8</th>\n",
              "      <td>0</td>\n",
              "      <td>0</td>\n",
              "      <td>0</td>\n",
              "      <td>0</td>\n",
              "      <td>0</td>\n",
              "      <td>32</td>\n",
              "      <td>0</td>\n",
              "      <td>7</td>\n",
              "      <td>228</td>\n",
              "      <td>21</td>\n",
              "    </tr>\n",
              "    <tr>\n",
              "      <th>9</th>\n",
              "      <td>0</td>\n",
              "      <td>0</td>\n",
              "      <td>0</td>\n",
              "      <td>7</td>\n",
              "      <td>0</td>\n",
              "      <td>39</td>\n",
              "      <td>0</td>\n",
              "      <td>21</td>\n",
              "      <td>1</td>\n",
              "      <td>263</td>\n",
              "    </tr>\n",
              "  </tbody>\n",
              "</table>\n",
              "</div>"
            ],
            "text/plain": [
              "     0    1    2    3    4    5    6    7    8    9\n",
              "0  331    0    0    0    0    0    0    0    0    0\n",
              "1    0  400    0   11    0    0    0    0    0   21\n",
              "2    0    0  289    0    0   21    0    0    0    0\n",
              "3    0    0    0  231    0   13    0    0    1    0\n",
              "4    0    0    0    0  498    0    0    0    0    0\n",
              "5    0    0   21    0    0  226    0    0    0    0\n",
              "6    0    0    0    0    0    0  271   40   37    0\n",
              "7    0    0    0    0   21    0   91  324    0    0\n",
              "8    0    0    0    0    0   32    0    7  228   21\n",
              "9    0    0    0    7    0   39    0   21    1  263"
            ]
          },
          "metadata": {
            "tags": []
          },
          "execution_count": 53
        }
      ]
    },
    {
      "cell_type": "code",
      "metadata": {
        "id": "35kVLfur7XYO"
      },
      "source": [
        "norm_conf_mat = conf_matrix / conf_matrix.sum(axis=1, keepdims=True)\n",
        "np.fill_diagonal(norm_conf_mat, 0)"
      ],
      "execution_count": null,
      "outputs": []
    },
    {
      "cell_type": "code",
      "metadata": {
        "id": "3YYn8D2A7rB8",
        "colab": {
          "base_uri": "https://localhost:8080/",
          "height": 275
        },
        "outputId": "f71bdef2-4c64-412d-cd39-416f5808a429"
      },
      "source": [
        "plt.matshow(conf_matrix, cmap=\"gray\")\n",
        "plt.grid(0)\n",
        "plt.show()"
      ],
      "execution_count": null,
      "outputs": [
        {
          "output_type": "display_data",
          "data": {
            "image/png": "[encoded data removed]",
            "text/plain": [
              "<Figure size 288x288 with 1 Axes>"
            ]
          },
          "metadata": {
            "tags": []
          }
        }
      ]
    },
    {
      "cell_type": "code",
      "metadata": {
        "id": "Qhb4Qkii7aJ9",
        "colab": {
          "base_uri": "https://localhost:8080/",
          "height": 275
        },
        "outputId": "fe33c928-313a-4da1-b54b-130d3bde4c6e"
      },
      "source": [
        "plt.matshow(norm_conf_mat, cmap=\"gray\")\n",
        "plt.grid(0)\n",
        "plt.show()"
      ],
      "execution_count": null,
      "outputs": [
        {
          "output_type": "display_data",
          "data": {
            "image/png": "[encoded data removed]",
            "text/plain": [
              "<Figure size 288x288 with 1 Axes>"
            ]
          },
          "metadata": {
            "tags": []
          }
        }
      ]
    }
  ]
}